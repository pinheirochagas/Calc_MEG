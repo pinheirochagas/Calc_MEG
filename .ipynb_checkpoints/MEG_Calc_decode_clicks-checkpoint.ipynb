{
 "metadata": {
  "name": ""
 },
 "nbformat": 3,
 "nbformat_minor": 0,
 "worksheets": [
  {
   "cells": [
    {
     "cell_type": "code",
     "collapsed": false,
     "input": [
      "# Decoding left vs. right clicks"
     ],
     "language": "python",
     "metadata": {},
     "outputs": [],
     "prompt_number": 1
    },
    {
     "cell_type": "code",
     "collapsed": false,
     "input": [
      "# Needed tools\n",
      "%pylab inline\n",
      "from scipy import io      \n",
      "from sklearn.svm import SVC \n",
      "from sklearn.cross_validation import cross_val_score, StratifiedShuffleSplit\n",
      "from sklearn.preprocessing import StandardScaler\n",
      "from sklearn.pipeline import Pipeline\n",
      "from sklearn.feature_selection import SelectKBest, f_classif"
     ],
     "language": "python",
     "metadata": {},
     "outputs": [
      {
       "output_type": "stream",
       "stream": "stdout",
       "text": [
        "Populating the interactive namespace from numpy and matplotlib\n"
       ]
      }
     ],
     "prompt_number": 2
    },
    {
     "cell_type": "code",
     "collapsed": false,
     "input": [
      "# Conditions\n",
      "#\n",
      "# data_1Op3\n",
      "# data_1Op4\n",
      "# data_1Op5\n",
      "# data_1Op6\n",
      "#\n",
      "#\n",
      "#\n",
      "# Other conditions\n",
      "#\n",
      "#\n",
      "# data_left_arrow\n",
      "# data_rigth_arrow\n",
      "#\n",
      "# data_left_click\n",
      "# data_rigth_click\n",
      "#\n",
      "# data_add\n",
      "# data_sub\n",
      "# data_comp"
     ],
     "language": "python",
     "metadata": {},
     "outputs": [],
     "prompt_number": 3
    },
    {
     "cell_type": "code",
     "collapsed": false,
     "input": [
      "# Data structure\n",
      "\n",
      "# data.trial     [trials x sensors x timepoints]   e.g. (35L, 306L, 1101L)\n",
      "# data.time      [timepoints]   e.g. array([-0.2  , -0.199, -0.198, ...,  0.898,  0.899,  0.9  ])\n",
      "# data.label     [label of the sensors]"
     ],
     "language": "python",
     "metadata": {},
     "outputs": [],
     "prompt_number": 4
    },
    {
     "cell_type": "code",
     "collapsed": false,
     "input": [
      "# Directory\n",
      "datadir = '/neurospin/meg/meg_tmp/Calculation_Pedro_2014/data/bst2ft_data-todelete_downsampled'\n",
      "\n",
      "# Subjects\n",
      "subjects = ['s01', 's02']"
     ],
     "language": "python",
     "metadata": {},
     "outputs": [],
     "prompt_number": 5
    },
    {
     "cell_type": "code",
     "collapsed": false,
     "input": [
      "# Time bin to be concatenated\n",
      "lentimebin = 3\n",
      "# Number of trials to be averaged\n",
      "n = 1\n",
      "# Time window for the epoch\n",
      "timeStart = 25\n",
      "timeEnd = 150 # \n",
      "\n",
      "# Define number of time bins and prelocate the scores\n",
      "nTimeBins = len(np.array(range(timeStart,timeEnd,lentimebin)))\n",
      "all_scores = np.zeros((len(subjects),nTimeBins))\n",
      "\n",
      "# loop across subjects\n",
      "sn = 0\n",
      "for s in subjects:\n",
      "    data = io.loadmat(datadir + '/%s/data.mat' % s,\n",
      "                  struct_as_record=False, squeeze_me=True, \n",
      "                  variable_names=['data_left_click','data_rigth_click'])\n",
      "    data_left_click = data['data_left_click']\n",
      "    data_rigth_click = data['data_rigth_click']\n",
      "    \n",
      "    ch_names = data_left_click.label.astype(np.str)\n",
      "    n_times = len(data_left_click.time)               # how many\n",
      "    Time = data_left_click.time                       # which ones\n",
      "    IndxCh = np.empty(306)\n",
      "    for ind in range(306):\n",
      "        if ch_names[ind].endswith('1'):       # mag\n",
      "            IndxCh[ind] = 1\n",
      "        elif ch_names[ind].endswith('2'):     # grad 1\n",
      "            IndxCh[ind] = 2\n",
      "        elif ch_names[ind].endswith('3'):     # grad 2\n",
      "            IndxCh[ind] = 3\n",
      "            \n",
      "    # select which sensors type (if any)\n",
      "    CondA = data_left_click.trial[:,:,:]   \n",
      "    CondB = data_rigth_click.trial[:,:,:]\n",
      "\n",
      "\n",
      "    ### missing equivalent of mne.epochs.equalize_epoch_counts(epochs_list)\n",
      "    # List the min number of trials across conditions\n",
      "    minTrials = min(np.array([CondA.shape[0],CondB.shape[0]]))\n",
      "    # Select the min number of trials in each condition \n",
      "    CondA = CondA[0:minTrials]\n",
      "    CondB = CondB[0:minTrials]\n",
      "\n",
      "    \n",
      "    ### averaging across n trials\n",
      "    nn = minTrials/n \n",
      "    NewCondA = np.zeros((nn,CondA.shape[1],CondA.shape[2]))\n",
      "    NewCondB = np.zeros((nn,CondB.shape[1],CondB.shape[2]))\n",
      "   \n",
      "    count = 0\n",
      "    for n2a in range(0, minTrials,n):\n",
      "        count = count + 1\n",
      "        if count>nn:\n",
      "            break\n",
      "        n2aver = range(n2a,n2a+n)\n",
      "        NewCondA[count-1] = np.mean(CondA[n2aver],0)\n",
      "        NewCondB[count-1] = np.mean(CondB[n2aver],0)\n",
      "        \n",
      "    ##### Get X and y #####\n",
      "    \n",
      "    X = []\n",
      "    X = np.concatenate((NewCondA,NewCondB), axis=0)    \n",
      "    D1=[3]*NewCondA.shape[0]\n",
      "    D2=[4]*NewCondB.shape[0]\n",
      "    \n",
      "    D1 = np.array(D1)\n",
      "    D2 = np.array(D2)\n",
      "    \n",
      "    y = np.concatenate((D1,D2), axis=0) \n",
      "   \n",
      "    # Clean a bit the workspace\n",
      "    #CondA = []\n",
      "    #CondB = []\n",
      "    #CondC = []\n",
      "    #CondD = []\n",
      "    #NewCondA = []\n",
      "    #NewCondB = []\n",
      "    #NewCondC = []\n",
      "    #NewCondD = []\n",
      "    \n",
      "    \n",
      "    ##### Decode #####\n",
      "       \n",
      "    # scaler\n",
      "    scaler= StandardScaler()\n",
      "    # classifier \n",
      "    clf = SVC(C=1, kernel='linear')\n",
      "        \n",
      "    # pipeline\n",
      "    clf_scal = Pipeline([('scaler', scaler), ('clf', clf)])\n",
      "    \n",
      "    # cross-validation\n",
      "    cv = StratifiedShuffleSplit(y, n_iter=5, test_size=0.1, train_size=None, random_state=None, n_iterations=None)\n",
      "    \n",
      "    # inizialize\n",
      "    scores_AllBin = []\n",
      "    std_scores_AllBin = []\n",
      "    # choose time bins\n",
      "    count = 0 \n",
      "\n",
      "    print 'decoding'   \n",
      "    for tp in range(timeStart,timeEnd,lentimebin):\n",
      "        tbin = range(tp,tp+lentimebin)\n",
      "        Xt = X[:, :, tbin]\n",
      "        X_long = np.reshape(Xt,(X.shape[0], Xt.shape[1]*lentimebin), order='C')\n",
      "        scores_t_X_long = cross_val_score(clf_scal, X_long, y, cv=cv, n_jobs=7)\n",
      "        scores_AllBin = np.append(scores_AllBin,scores_t_X_long.mean())\n",
      "        #std_scores_AllBin = np.append(std_scores_AllBin,scores_t_X_long.std())\n",
      "        count = count +1\n",
      "    # store scores\n",
      "    all_scores[sn,:] = scores_AllBin\n",
      "    sn = sn + 1\n",
      "print 'done'"
     ],
     "language": "python",
     "metadata": {},
     "outputs": [
      {
       "output_type": "stream",
       "stream": "stdout",
       "text": [
        "decoding\n"
       ]
      },
      {
       "output_type": "stream",
       "stream": "stdout",
       "text": [
        "decoding\n"
       ]
      },
      {
       "output_type": "stream",
       "stream": "stdout",
       "text": [
        "done\n"
       ]
      }
     ],
     "prompt_number": 18
    },
    {
     "cell_type": "code",
     "collapsed": false,
     "input": [
      "# Getting ready to plot\n",
      "scores = np.mean(all_scores,0)\n",
      "std_scores = np.std(all_scores,0)\n",
      "times = 1e3 * Time\n",
      "scores *= 100  \n",
      "std_scores *= 100\n",
      "times = times[timeStart:timeEnd:lentimebin]"
     ],
     "language": "python",
     "metadata": {},
     "outputs": [],
     "prompt_number": 11
    },
    {
     "cell_type": "code",
     "collapsed": false,
     "input": [
      "# Plot\n",
      "plt.plot(times, scores, label=\"Classif. score\")\n",
      "plt.axhline(50, color='k', linestyle='--', label=\"Chance level\")\n",
      "plt.axvline(0, color='r', label='stim onset')\n",
      "plt.legend()\n",
      "hyp_limits = (scores - std_scores, scores + std_scores)\n",
      "plt.fill_between(times, hyp_limits[0], y2=hyp_limits[1], color='b', alpha=0.5)\n",
      "plt.xlabel('Time (ms)')\n",
      "plt.ylabel('CV classification score (% correct)')\n",
      "plt.ylim([0, 100])\n",
      "plt.xlim([min(times), max(times)])\n",
      "plt.title('Sensor space decoding')\n",
      "plt.show()"
     ],
     "language": "python",
     "metadata": {},
     "outputs": [
      {
       "metadata": {},
       "output_type": "display_data",
       "png": "[encoded data removed]",
       "text": [
        "<matplotlib.figure.Figure at 0x7f06509a5290>"
       ]
      }
     ],
     "prompt_number": 17
    },
    {
     "cell_type": "code",
     "collapsed": false,
     "input": [
      "np.save(datadir,all_scores)"
     ],
     "language": "python",
     "metadata": {},
     "outputs": []
    }
   ],
   "metadata": {}
  }
 ]
}