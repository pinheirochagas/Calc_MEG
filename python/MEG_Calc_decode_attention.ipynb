{
 "metadata": {
  "name": ""
 },
 "nbformat": 3,
 "nbformat_minor": 0,
 "worksheets": [
  {
   "cells": [
    {
     "cell_type": "code",
     "collapsed": false,
     "input": [
      "# Decoding left vs. right attention"
     ],
     "language": "python",
     "metadata": {},
     "outputs": [],
     "prompt_number": 1
    },
    {
     "cell_type": "code",
     "collapsed": false,
     "input": [
      "# Needed tools\n",
      "%pylab inline\n",
      "from scipy import io      \n",
      "from sklearn.svm import SVC \n",
      "from sklearn.cross_validation import cross_val_score, StratifiedShuffleSplit\n",
      "from sklearn.preprocessing import StandardScaler\n",
      "from sklearn.pipeline import Pipeline\n",
      "from sklearn.feature_selection import SelectKBest, f_classif"
     ],
     "language": "python",
     "metadata": {},
     "outputs": [
      {
       "output_type": "stream",
       "stream": "stdout",
       "text": [
        "Populating the interactive namespace from numpy and matplotlib\n"
       ]
      }
     ],
     "prompt_number": 1
    },
    {
     "cell_type": "code",
     "collapsed": false,
     "input": [
      "# Conditions\n",
      "#\n",
      "# data_1Op3\n",
      "# data_1Op4\n",
      "# data_1Op5\n",
      "# data_1Op6\n",
      "#\n",
      "#\n",
      "#\n",
      "# Other conditions\n",
      "#\n",
      "#\n",
      "# data_left_arrow\n",
      "# data_rigth_arrow\n",
      "#\n",
      "# data_left_click\n",
      "# data_rigth_click\n",
      "#\n",
      "# data_add\n",
      "# data_sub\n",
      "# data_comp"
     ],
     "language": "python",
     "metadata": {},
     "outputs": [],
     "prompt_number": 3
    },
    {
     "cell_type": "code",
     "collapsed": false,
     "input": [
      "# Data structure\n",
      "\n",
      "# data.trial     [trials x sensors x timepoints]   e.g. (35L, 306L, 1101L)\n",
      "# data.time      [timepoints]   e.g. array([-0.2  , -0.199, -0.198, ...,  0.898,  0.899,  0.9  ])\n",
      "# data.label     [label of the sensors]"
     ],
     "language": "python",
     "metadata": {},
     "outputs": [],
     "prompt_number": 4
    },
    {
     "cell_type": "code",
     "collapsed": false,
     "input": [
      "# Directory\n",
      "datadir = '/neurospin/meg/meg_tmp/Calculation_Pedro_2014/data/bst2ft_data-todelete_downsampled'\n",
      "\n",
      "# Subjects\n",
      "subjects = ['s01', 's02']"
     ],
     "language": "python",
     "metadata": {},
     "outputs": [],
     "prompt_number": 2
    },
    {
     "cell_type": "code",
     "collapsed": false,
     "input": [
      "# Time bin to be concatenated\n",
      "lentimebin = 3\n",
      "# Number of trials to be averaged\n",
      "n = 1\n",
      "# Time window for the epoch\n",
      "timeStart = 25\n",
      "timeEnd = 150 # \n",
      "\n",
      "# Define number of time bins and prelocate the scores\n",
      "nTimeBins = len(np.array(range(timeStart,timeEnd,lentimebin)))\n",
      "all_scores = np.zeros((len(subjects),nTimeBins))\n",
      "\n",
      "# loop across subjects\n",
      "sn = 0\n",
      "for s in subjects:\n",
      "    data = io.loadmat(datadir + '/%s/data.mat' % s,\n",
      "                  struct_as_record=False, squeeze_me=True, \n",
      "                  variable_names=['data_left_arrow','data_rigth_arrow'])\n",
      "    data_left_arrow = data['data_left_arrow']\n",
      "    data_rigth_arrow = data['data_rigth_arrow']\n",
      "    \n",
      "    ch_names = data_left_arrow.label.astype(np.str)\n",
      "    n_times = len(data_left_arrow.time)               # how many\n",
      "    Time = data_left_arrow.time                       # which ones\n",
      "    IndxCh = np.empty(306)\n",
      "    for ind in range(306):\n",
      "        if ch_names[ind].endswith('1'):       # mag\n",
      "            IndxCh[ind] = 1\n",
      "        elif ch_names[ind].endswith('2'):     # grad 1\n",
      "            IndxCh[ind] = 2\n",
      "        elif ch_names[ind].endswith('3'):     # grad 2\n",
      "            IndxCh[ind] = 3\n",
      "            \n",
      "    # select which sensors type (if any)\n",
      "    CondA = data_left_arrow.trial[:,:,:]   \n",
      "    CondB = data_rigth_arrow.trial[:,:,:]\n",
      "\n",
      "\n",
      "    ### missing equivalent of mne.epochs.equalize_epoch_counts(epochs_list)\n",
      "    # List the min number of trials across conditions\n",
      "    minTrials = min(np.array([CondA.shape[0],CondB.shape[0]]))\n",
      "    # Select the min number of trials in each condition \n",
      "    CondA = CondA[0:minTrials]\n",
      "    CondB = CondB[0:minTrials]\n",
      "\n",
      "    \n",
      "    ### averaging across n trials\n",
      "    nn = minTrials/n \n",
      "    NewCondA = np.zeros((nn,CondA.shape[1],CondA.shape[2]))\n",
      "    NewCondB = np.zeros((nn,CondB.shape[1],CondB.shape[2]))\n",
      "   \n",
      "    count = 0\n",
      "    for n2a in range(0, minTrials,n):\n",
      "        count = count + 1\n",
      "        if count>nn:\n",
      "            break\n",
      "        n2aver = range(n2a,n2a+n)\n",
      "        NewCondA[count-1] = np.mean(CondA[n2aver],0)\n",
      "        NewCondB[count-1] = np.mean(CondB[n2aver],0)\n",
      "        \n",
      "    ##### Get X and y #####\n",
      "    \n",
      "    X = []\n",
      "    X = np.concatenate((NewCondA,NewCondB), axis=0)    \n",
      "    D1=[3]*NewCondA.shape[0]\n",
      "    D2=[4]*NewCondB.shape[0]\n",
      "    \n",
      "    D1 = np.array(D1)\n",
      "    D2 = np.array(D2)\n",
      "    \n",
      "    y = np.concatenate((D1,D2), axis=0) \n",
      "   \n",
      "    # Clean a bit the workspace\n",
      "    #CondA = []\n",
      "    #CondB = []\n",
      "    #CondC = []\n",
      "    #CondD = []\n",
      "    #NewCondA = []\n",
      "    #NewCondB = []\n",
      "    #NewCondC = []\n",
      "    #NewCondD = []\n",
      "    \n",
      "    \n",
      "    ##### Decode #####\n",
      "       \n",
      "    # scaler\n",
      "    scaler= StandardScaler()\n",
      "    # classifier \n",
      "    clf = SVC(C=1, kernel='linear')\n",
      "        \n",
      "    # pipeline\n",
      "    clf_scal = Pipeline([('scaler', scaler), ('clf', clf)])\n",
      "    \n",
      "    # cross-validation\n",
      "    cv = StratifiedShuffleSplit(y, n_iter=5, test_size=0.1, train_size=None, random_state=None, n_iterations=None)\n",
      "    \n",
      "    # inizialize\n",
      "    scores_AllBin = []\n",
      "    std_scores_AllBin = []\n",
      "    # choose time bins\n",
      "    count = 0 \n",
      "\n",
      "    print 'decoding'   \n",
      "    for tp in range(timeStart,timeEnd,lentimebin):\n",
      "        tbin = range(tp,tp+lentimebin)\n",
      "        Xt = X[:, :, tbin]\n",
      "        X_long = np.reshape(Xt,(X.shape[0], Xt.shape[1]*lentimebin), order='C')\n",
      "        scores_t_X_long = cross_val_score(clf_scal, X_long, y, cv=cv, n_jobs=7)\n",
      "        scores_AllBin = np.append(scores_AllBin,scores_t_X_long.mean())\n",
      "        #std_scores_AllBin = np.append(std_scores_AllBin,scores_t_X_long.std())\n",
      "        count = count +1\n",
      "    # store scores\n",
      "    all_scores[sn,:] = scores_AllBin\n",
      "    sn = sn + 1\n",
      "print 'done'"
     ],
     "language": "python",
     "metadata": {},
     "outputs": [
      {
       "output_type": "stream",
       "stream": "stdout",
       "text": [
        "decoding\n"
       ]
      },
      {
       "output_type": "stream",
       "stream": "stdout",
       "text": [
        "decoding\n"
       ]
      },
      {
       "output_type": "stream",
       "stream": "stdout",
       "text": [
        "done\n"
       ]
      }
     ],
     "prompt_number": 3
    },
    {
     "cell_type": "code",
     "collapsed": false,
     "input": [
      "Time"
     ],
     "language": "python",
     "metadata": {},
     "outputs": [
      {
       "metadata": {},
       "output_type": "pyout",
       "prompt_number": 10,
       "text": [
        "array([ -2.00000000e-01,  -1.96000000e-01,  -1.92000000e-01,\n",
        "        -1.88000000e-01,  -1.84000000e-01,  -1.80000000e-01,\n",
        "        -1.76000000e-01,  -1.72000000e-01,  -1.68000000e-01,\n",
        "        -1.64000000e-01,  -1.60000000e-01,  -1.56000000e-01,\n",
        "        -1.52000000e-01,  -1.48000000e-01,  -1.44000000e-01,\n",
        "        -1.40000000e-01,  -1.36000000e-01,  -1.32000000e-01,\n",
        "        -1.28000000e-01,  -1.24000000e-01,  -1.20000000e-01,\n",
        "        -1.16000000e-01,  -1.12000000e-01,  -1.08000000e-01,\n",
        "        -1.04000000e-01,  -1.00000000e-01,  -9.60000000e-02,\n",
        "        -9.20000000e-02,  -8.80000000e-02,  -8.40000000e-02,\n",
        "        -8.00000000e-02,  -7.60000000e-02,  -7.20000000e-02,\n",
        "        -6.80000000e-02,  -6.40000000e-02,  -6.00000000e-02,\n",
        "        -5.60000000e-02,  -5.20000000e-02,  -4.80000000e-02,\n",
        "        -4.40000000e-02,  -4.00000000e-02,  -3.60000000e-02,\n",
        "        -3.20000000e-02,  -2.80000000e-02,  -2.40000000e-02,\n",
        "        -2.00000000e-02,  -1.60000000e-02,  -1.20000000e-02,\n",
        "        -8.00000000e-03,  -4.00000000e-03,   2.83106871e-15,\n",
        "         4.00000000e-03,   8.00000000e-03,   1.20000000e-02,\n",
        "         1.60000000e-02,   2.00000000e-02,   2.40000000e-02,\n",
        "         2.80000000e-02,   3.20000000e-02,   3.60000000e-02,\n",
        "         4.00000000e-02,   4.40000000e-02,   4.80000000e-02,\n",
        "         5.20000000e-02,   5.60000000e-02,   6.00000000e-02,\n",
        "         6.40000000e-02,   6.80000000e-02,   7.20000000e-02,\n",
        "         7.60000000e-02,   8.00000000e-02,   8.40000000e-02,\n",
        "         8.80000000e-02,   9.20000000e-02,   9.60000000e-02,\n",
        "         1.00000000e-01,   1.04000000e-01,   1.08000000e-01,\n",
        "         1.12000000e-01,   1.16000000e-01,   1.20000000e-01,\n",
        "         1.24000000e-01,   1.28000000e-01,   1.32000000e-01,\n",
        "         1.36000000e-01,   1.40000000e-01,   1.44000000e-01,\n",
        "         1.48000000e-01,   1.52000000e-01,   1.56000000e-01,\n",
        "         1.60000000e-01,   1.64000000e-01,   1.68000000e-01,\n",
        "         1.72000000e-01,   1.76000000e-01,   1.80000000e-01,\n",
        "         1.84000000e-01,   1.88000000e-01,   1.92000000e-01,\n",
        "         1.96000000e-01,   2.00000000e-01,   2.04000000e-01,\n",
        "         2.08000000e-01,   2.12000000e-01,   2.16000000e-01,\n",
        "         2.20000000e-01,   2.24000000e-01,   2.28000000e-01,\n",
        "         2.32000000e-01,   2.36000000e-01,   2.40000000e-01,\n",
        "         2.44000000e-01,   2.48000000e-01,   2.52000000e-01,\n",
        "         2.56000000e-01,   2.60000000e-01,   2.64000000e-01,\n",
        "         2.68000000e-01,   2.72000000e-01,   2.76000000e-01,\n",
        "         2.80000000e-01,   2.84000000e-01,   2.88000000e-01,\n",
        "         2.92000000e-01,   2.96000000e-01,   3.00000000e-01,\n",
        "         3.04000000e-01,   3.08000000e-01,   3.12000000e-01,\n",
        "         3.16000000e-01,   3.20000000e-01,   3.24000000e-01,\n",
        "         3.28000000e-01,   3.32000000e-01,   3.36000000e-01,\n",
        "         3.40000000e-01,   3.44000000e-01,   3.48000000e-01,\n",
        "         3.52000000e-01,   3.56000000e-01,   3.60000000e-01,\n",
        "         3.64000000e-01,   3.68000000e-01,   3.72000000e-01,\n",
        "         3.76000000e-01,   3.80000000e-01,   3.84000000e-01,\n",
        "         3.88000000e-01,   3.92000000e-01,   3.96000000e-01,\n",
        "         4.00000000e-01,   4.04000000e-01,   4.08000000e-01,\n",
        "         4.12000000e-01,   4.16000000e-01,   4.20000000e-01,\n",
        "         4.24000000e-01,   4.28000000e-01,   4.32000000e-01,\n",
        "         4.36000000e-01,   4.40000000e-01,   4.44000000e-01,\n",
        "         4.48000000e-01,   4.52000000e-01,   4.56000000e-01,\n",
        "         4.60000000e-01,   4.64000000e-01,   4.68000000e-01,\n",
        "         4.72000000e-01,   4.76000000e-01,   4.80000000e-01,\n",
        "         4.84000000e-01,   4.88000000e-01,   4.92000000e-01,\n",
        "         4.96000000e-01,   5.00000000e-01,   5.04000000e-01,\n",
        "         5.08000000e-01,   5.12000000e-01,   5.16000000e-01,\n",
        "         5.20000000e-01,   5.24000000e-01,   5.28000000e-01,\n",
        "         5.32000000e-01,   5.36000000e-01,   5.40000000e-01,\n",
        "         5.44000000e-01,   5.48000000e-01,   5.52000000e-01,\n",
        "         5.56000000e-01,   5.60000000e-01,   5.64000000e-01,\n",
        "         5.68000000e-01,   5.72000000e-01,   5.76000000e-01,\n",
        "         5.80000000e-01,   5.84000000e-01,   5.88000000e-01,\n",
        "         5.92000000e-01,   5.96000000e-01,   6.00000000e-01])"
       ]
      }
     ],
     "prompt_number": 10
    },
    {
     "cell_type": "code",
     "collapsed": false,
     "input": [
      "# Getting ready to plot\n",
      "scores = np.mean(all_scores,0)\n",
      "std_scores = np.std(all_scores,0)\n",
      "times = 1e3 * Time\n",
      "scores *= 100  \n",
      "std_scores *= 100\n",
      "times = times[timeStart:timeEnd:lentimebin]"
     ],
     "language": "python",
     "metadata": {},
     "outputs": [],
     "prompt_number": 4
    },
    {
     "cell_type": "code",
     "collapsed": false,
     "input": [
      "# Plot\n",
      "plt.plot(times, scores, label=\"Classif. score\")\n",
      "plt.axhline(50, color='k', linestyle='--', label=\"Chance level\")\n",
      "plt.axvline(0, color='r', label='stim onset')\n",
      "plt.legend()\n",
      "hyp_limits = (scores - std_scores, scores + std_scores)\n",
      "plt.fill_between(times, hyp_limits[0], y2=hyp_limits[1], color='b', alpha=0.5)\n",
      "plt.xlabel('Time (ms)')\n",
      "plt.ylabel('CV classification score (% correct)')\n",
      "plt.ylim([30, 70])\n",
      "plt.xlim([min(times), max(times)])\n",
      "plt.title('Sensor space decoding - left vs. right attention')\n",
      "plt.show()"
     ],
     "language": "python",
     "metadata": {},
     "outputs": [
      {
       "metadata": {},
       "output_type": "display_data",
       "png": "[encoded data removed]",
       "text": [
        "<matplotlib.figure.Figure at 0x7f172e3ed990>"
       ]
      }
     ],
     "prompt_number": 8
    },
    {
     "cell_type": "code",
     "collapsed": false,
     "input": [
      "np.save(datadir,all_scores)"
     ],
     "language": "python",
     "metadata": {},
     "outputs": []
    }
   ],
   "metadata": {}
  }
 ]
}