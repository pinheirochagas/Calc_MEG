{
 "cells": [
  {
   "cell_type": "code",
   "execution_count": 1,
   "metadata": {
    "collapsed": false
   },
   "outputs": [
    {
     "name": "stderr",
     "output_type": "stream",
     "text": [
      "/volatile/anaconda/lib/python2.7/site-packages/mne/epochs.py:1411: UserWarning: tmax is not in epochs' time interval.tmax is set to epochs.tmax\n",
      "  warnings.warn(\"tmax is not in epochs' time interval.\"\n",
      "/neurospin/meg/meg_tmp/Calculation_Pedro_2014/scripts/decoding/calc_dec_wTask_CR.py:77: SettingWithCopyWarning: \n",
      "A value is trying to be set on a copy of a slice from a DataFrame.\n",
      "Try using .loc[row_indexer,col_indexer] = value instead\n",
      "\n",
      "See the caveats in the documentation: http://pandas.pydata.org/pandas-docs/stable/indexing.html#indexing-view-versus-copy\n",
      "  info_calc_delay['operand'] = info_calc_delay['preResult'] # add another column 'operand' for the big decoder\n",
      "/neurospin/meg/meg_tmp/Calculation_Pedro_2014/scripts/decoding/calc_dec_wTask_CR.py:78: SettingWithCopyWarning: \n",
      "A value is trying to be set on a copy of a slice from a DataFrame.\n",
      "Try using .loc[row_indexer,col_indexer] = value instead\n",
      "\n",
      "See the caveats in the documentation: http://pandas.pydata.org/pandas-docs/stable/indexing.html#indexing-view-versus-copy\n",
      "  info_calc_nodelay['operand'] = info_calc_nodelay['preResult'] # add another column 'operand' for the big decoder\n"
     ]
    },
    {
     "ename": "ValueError",
     "evalue": "all the input array dimensions except for the concatenation axis must match exactly",
     "output_type": "error",
     "traceback": [
      "\u001b[1;31m---------------------------------------------------------------------------\u001b[0m",
      "\u001b[1;31mValueError\u001b[0m                                Traceback (most recent call last)",
      "\u001b[1;32m<ipython-input-1-dce30fabffeb>\u001b[0m in \u001b[0;36m<module>\u001b[1;34m()\u001b[0m\n\u001b[0;32m      2\u001b[0m \u001b[0msys\u001b[0m\u001b[1;33m.\u001b[0m\u001b[0mpath\u001b[0m\u001b[1;33m.\u001b[0m\u001b[0mappend\u001b[0m\u001b[1;33m(\u001b[0m\u001b[1;34m'/neurospin/meg/meg_tmp/Calculation_Pedro_2014/scripts/decoding'\u001b[0m\u001b[1;33m)\u001b[0m\u001b[1;33m\u001b[0m\u001b[0m\n\u001b[0;32m      3\u001b[0m \u001b[1;32mfrom\u001b[0m \u001b[0mcalc_dec_wTask_CR\u001b[0m \u001b[1;32mimport\u001b[0m \u001b[0mcalc_dec_wTask_CR\u001b[0m\u001b[1;33m\u001b[0m\u001b[0m\n\u001b[1;32m----> 4\u001b[1;33m \u001b[0mgat\u001b[0m\u001b[1;33m,\u001b[0m \u001b[0mscore\u001b[0m\u001b[1;33m,\u001b[0m \u001b[0mdiagonal\u001b[0m \u001b[1;33m=\u001b[0m \u001b[0mcalc_dec_wTask_CR\u001b[0m\u001b[1;33m(\u001b[0m\u001b[1;34m'/neurospin/meg/meg_tmp/Calculation_Pedro_2014'\u001b[0m\u001b[1;33m,\u001b[0m\u001b[1;33m[\u001b[0m\u001b[1;34m'opbigdec'\u001b[0m\u001b[1;33m,\u001b[0m \u001b[1;34m'opbigdec'\u001b[0m\u001b[1;33m]\u001b[0m\u001b[1;33m,\u001b[0m\u001b[1;34m's01'\u001b[0m\u001b[1;33m,\u001b[0m\u001b[1;34m'class'\u001b[0m\u001b[1;33m)\u001b[0m\u001b[1;33m\u001b[0m\u001b[0m\n\u001b[0m",
      "\u001b[1;32m/neurospin/meg/meg_tmp/Calculation_Pedro_2014/scripts/decoding/calc_dec_wTask_CR.pyc\u001b[0m in \u001b[0;36mcalc_dec_wTask_CR\u001b[1;34m(wkdir, Condition, Subject, Type)\u001b[0m\n\u001b[0;32m    622\u001b[0m                 \u001b[1;32mreturn\u001b[0m \u001b[0mparams\u001b[0m\u001b[1;33m,\u001b[0m \u001b[0mepoch_calc\u001b[0m\u001b[1;33m.\u001b[0m\u001b[0mtimes\u001b[0m\u001b[1;33m,\u001b[0m \u001b[0mgat\u001b[0m\u001b[1;33m,\u001b[0m \u001b[0mscore\u001b[0m\u001b[1;33m,\u001b[0m \u001b[0mdiagonal\u001b[0m\u001b[1;33m,\u001b[0m \u001b[0my_train\u001b[0m\u001b[1;33m,\u001b[0m \u001b[0my_test\u001b[0m\u001b[1;33m\u001b[0m\u001b[0m\n\u001b[0;32m    623\u001b[0m \u001b[1;33m\u001b[0m\u001b[0m\n\u001b[1;32m--> 624\u001b[1;33m         \u001b[0mparams\u001b[0m\u001b[1;33m,\u001b[0m \u001b[0mtimes_calc\u001b[0m\u001b[1;33m,\u001b[0m \u001b[0mgat\u001b[0m\u001b[1;33m,\u001b[0m \u001b[0mscore\u001b[0m\u001b[1;33m,\u001b[0m \u001b[0mdiagonal\u001b[0m\u001b[1;33m,\u001b[0m \u001b[0my_train\u001b[0m\u001b[1;33m,\u001b[0m \u001b[0my_test\u001b[0m \u001b[1;33m=\u001b[0m \u001b[0mcalc_prepDec_wTask_CR\u001b[0m\u001b[1;33m(\u001b[0m\u001b[0mwkdir\u001b[0m\u001b[1;33m,\u001b[0m \u001b[0mCondition\u001b[0m\u001b[1;33m,\u001b[0m \u001b[0mSubject\u001b[0m\u001b[1;33m,\u001b[0m \u001b[0mType\u001b[0m\u001b[1;33m)\u001b[0m\u001b[1;33m\u001b[0m\u001b[0m\n\u001b[0m\u001b[0;32m    625\u001b[0m \u001b[1;33m\u001b[0m\u001b[0m\n\u001b[0;32m    626\u001b[0m         \u001b[0mresults\u001b[0m \u001b[1;33m=\u001b[0m \u001b[1;33m{\u001b[0m\u001b[1;34m'params'\u001b[0m\u001b[1;33m:\u001b[0m \u001b[0mparams\u001b[0m\u001b[1;33m,\u001b[0m \u001b[1;34m'times_calc'\u001b[0m\u001b[1;33m:\u001b[0m \u001b[0mtimes_calc\u001b[0m\u001b[1;33m,\u001b[0m \u001b[1;34m'score'\u001b[0m\u001b[1;33m:\u001b[0m \u001b[0mscore\u001b[0m\u001b[1;33m,\u001b[0m \u001b[1;34m'diagonal'\u001b[0m\u001b[1;33m:\u001b[0m \u001b[0mdiagonal\u001b[0m\u001b[1;33m,\u001b[0m \u001b[1;34m'y_train'\u001b[0m\u001b[1;33m:\u001b[0m \u001b[0my_train\u001b[0m\u001b[1;33m,\u001b[0m \u001b[1;34m'y_test'\u001b[0m\u001b[1;33m:\u001b[0m \u001b[0my_test\u001b[0m\u001b[1;33m}\u001b[0m\u001b[1;33m\u001b[0m\u001b[0m\n",
      "\u001b[1;32m/neurospin/meg/meg_tmp/Calculation_Pedro_2014/scripts/decoding/calc_dec_wTask_CR.pyc\u001b[0m in \u001b[0;36mcalc_prepDec_wTask_CR\u001b[1;34m(wkdir, Condition, Subject, Type)\u001b[0m\n\u001b[0;32m     78\u001b[0m                 \u001b[0minfo_calc_nodelay\u001b[0m\u001b[1;33m[\u001b[0m\u001b[1;34m'operand'\u001b[0m\u001b[1;33m]\u001b[0m \u001b[1;33m=\u001b[0m \u001b[0minfo_calc_nodelay\u001b[0m\u001b[1;33m[\u001b[0m\u001b[1;34m'preResult'\u001b[0m\u001b[1;33m]\u001b[0m \u001b[1;31m# add another column 'operand' for the big decoder\u001b[0m\u001b[1;33m\u001b[0m\u001b[0m\n\u001b[0;32m     79\u001b[0m \u001b[1;33m\u001b[0m\u001b[0m\n\u001b[1;32m---> 80\u001b[1;33m                 \u001b[0mepoch_calc_resplock\u001b[0m \u001b[1;33m=\u001b[0m \u001b[0mmne\u001b[0m\u001b[1;33m.\u001b[0m\u001b[0mepochs\u001b[0m\u001b[1;33m.\u001b[0m\u001b[0mconcatenate_epochs\u001b[0m\u001b[1;33m(\u001b[0m\u001b[1;33m[\u001b[0m\u001b[0mepoch_calc_delay\u001b[0m\u001b[1;33m,\u001b[0m\u001b[0mepoch_calc_nodelay\u001b[0m\u001b[1;33m]\u001b[0m\u001b[1;33m)\u001b[0m\u001b[1;33m\u001b[0m\u001b[0m\n\u001b[0m\u001b[0;32m     81\u001b[0m                 \u001b[0minfo_calc_resplock\u001b[0m \u001b[1;33m=\u001b[0m \u001b[0mpd\u001b[0m\u001b[1;33m.\u001b[0m\u001b[0mconcat\u001b[0m\u001b[1;33m(\u001b[0m\u001b[1;33m[\u001b[0m\u001b[0minfo_calc_delay\u001b[0m\u001b[1;33m,\u001b[0m \u001b[0minfo_calc_nodelay\u001b[0m\u001b[1;33m]\u001b[0m\u001b[1;33m)\u001b[0m\u001b[1;33m\u001b[0m\u001b[0m\n\u001b[0;32m     82\u001b[0m                 \u001b[1;32mprint\u001b[0m \u001b[1;34m'concat well'\u001b[0m\u001b[1;33m\u001b[0m\u001b[0m\n",
      "\u001b[1;32m/volatile/anaconda/lib/python2.7/site-packages/mne/epochs.pyc\u001b[0m in \u001b[0;36mconcatenate_epochs\u001b[1;34m(epochs_list)\u001b[0m\n\u001b[0;32m   2628\u001b[0m     \u001b[1;33m.\u001b[0m\u001b[1;33m.\u001b[0m \u001b[0mversionadded\u001b[0m\u001b[1;33m:\u001b[0m\u001b[1;33m:\u001b[0m \u001b[1;36m0.9\u001b[0m\u001b[1;36m.0\u001b[0m\u001b[1;33m\u001b[0m\u001b[0m\n\u001b[0;32m   2629\u001b[0m     \"\"\"\n\u001b[1;32m-> 2630\u001b[1;33m     \u001b[1;32mreturn\u001b[0m \u001b[0m_finish_concat\u001b[0m\u001b[1;33m(\u001b[0m\u001b[1;33m*\u001b[0m\u001b[0m_concatenate_epochs\u001b[0m\u001b[1;33m(\u001b[0m\u001b[0mepochs_list\u001b[0m\u001b[1;33m)\u001b[0m\u001b[1;33m)\u001b[0m\u001b[1;33m\u001b[0m\u001b[0m\n\u001b[0m\u001b[0;32m   2631\u001b[0m \u001b[1;33m\u001b[0m\u001b[0m\n\u001b[0;32m   2632\u001b[0m \u001b[1;33m\u001b[0m\u001b[0m\n",
      "\u001b[1;32m/volatile/anaconda/lib/python2.7/site-packages/mne/epochs.pyc\u001b[0m in \u001b[0;36m_concatenate_epochs\u001b[1;34m(epochs_list, with_data)\u001b[0m\n\u001b[0;32m   2593\u001b[0m     \u001b[0mevents\u001b[0m \u001b[1;33m=\u001b[0m \u001b[0mnp\u001b[0m\u001b[1;33m.\u001b[0m\u001b[0mconcatenate\u001b[0m\u001b[1;33m(\u001b[0m\u001b[0mevents\u001b[0m\u001b[1;33m,\u001b[0m \u001b[0maxis\u001b[0m\u001b[1;33m=\u001b[0m\u001b[1;36m0\u001b[0m\u001b[1;33m)\u001b[0m\u001b[1;33m\u001b[0m\u001b[0m\n\u001b[0;32m   2594\u001b[0m     \u001b[1;32mif\u001b[0m \u001b[0mwith_data\u001b[0m\u001b[1;33m:\u001b[0m\u001b[1;33m\u001b[0m\u001b[0m\n\u001b[1;32m-> 2595\u001b[1;33m         \u001b[0mdata\u001b[0m \u001b[1;33m=\u001b[0m \u001b[0mnp\u001b[0m\u001b[1;33m.\u001b[0m\u001b[0mconcatenate\u001b[0m\u001b[1;33m(\u001b[0m\u001b[0mdata\u001b[0m\u001b[1;33m,\u001b[0m \u001b[0maxis\u001b[0m\u001b[1;33m=\u001b[0m\u001b[1;36m0\u001b[0m\u001b[1;33m)\u001b[0m\u001b[1;33m\u001b[0m\u001b[0m\n\u001b[0m\u001b[0;32m   2596\u001b[0m     return (info, data, events, event_id, tmin, tmax, baseline, selection,\n\u001b[0;32m   2597\u001b[0m             drop_log, verbose)\n",
      "\u001b[1;31mValueError\u001b[0m: all the input array dimensions except for the concatenation axis must match exactly"
     ]
    }
   ],
   "source": [
    "import sys \n",
    "sys.path.append('/neurospin/meg/meg_tmp/Calculation_Pedro_2014/scripts/decoding')\n",
    "from calc_dec_wTask_CR import calc_dec_wTask_CR\n",
    "gat, score, diagonal = calc_dec_wTask_CR('/neurospin/meg/meg_tmp/Calculation_Pedro_2014',['opbigdec', 'opbigdec'],'s01','class')"
   ]
  },
  {
   "cell_type": "code",
   "execution_count": null,
   "metadata": {
    "collapsed": false
   },
   "outputs": [
    {
     "name": "stdout",
     "output_type": "stream",
     "text": [
      "> \u001b[1;32m/volatile/anaconda/lib/python2.7/site-packages/mne/epochs.py\u001b[0m(2595)\u001b[0;36m_concatenate_epochs\u001b[1;34m()\u001b[0m\n",
      "\u001b[1;32m   2594 \u001b[1;33m    \u001b[1;32mif\u001b[0m \u001b[0mwith_data\u001b[0m\u001b[1;33m:\u001b[0m\u001b[1;33m\u001b[0m\u001b[0m\n",
      "\u001b[0m\u001b[1;32m-> 2595 \u001b[1;33m        \u001b[0mdata\u001b[0m \u001b[1;33m=\u001b[0m \u001b[0mnp\u001b[0m\u001b[1;33m.\u001b[0m\u001b[0mconcatenate\u001b[0m\u001b[1;33m(\u001b[0m\u001b[0mdata\u001b[0m\u001b[1;33m,\u001b[0m \u001b[0maxis\u001b[0m\u001b[1;33m=\u001b[0m\u001b[1;36m0\u001b[0m\u001b[1;33m)\u001b[0m\u001b[1;33m\u001b[0m\u001b[0m\n",
      "\u001b[0m\u001b[1;32m   2596 \u001b[1;33m    return (info, data, events, event_id, tmin, tmax, baseline, selection,\n",
      "\u001b[0m\n",
      "ipdb> up\n",
      "> \u001b[1;32m/volatile/anaconda/lib/python2.7/site-packages/mne/epochs.py\u001b[0m(2630)\u001b[0;36mconcatenate_epochs\u001b[1;34m()\u001b[0m\n",
      "\u001b[1;32m   2629 \u001b[1;33m    \"\"\"\n",
      "\u001b[0m\u001b[1;32m-> 2630 \u001b[1;33m    \u001b[1;32mreturn\u001b[0m \u001b[0m_finish_concat\u001b[0m\u001b[1;33m(\u001b[0m\u001b[1;33m*\u001b[0m\u001b[0m_concatenate_epochs\u001b[0m\u001b[1;33m(\u001b[0m\u001b[0mepochs_list\u001b[0m\u001b[1;33m)\u001b[0m\u001b[1;33m)\u001b[0m\u001b[1;33m\u001b[0m\u001b[0m\n",
      "\u001b[0m\u001b[1;32m   2631 \u001b[1;33m\u001b[1;33m\u001b[0m\u001b[0m\n",
      "\u001b[0m\n",
      "ipdb> up\n",
      "> \u001b[1;32m/neurospin/meg/meg_tmp/Calculation_Pedro_2014/scripts/decoding/calc_dec_wTask_CR.py\u001b[0m(80)\u001b[0;36mcalc_prepDec_wTask_CR\u001b[1;34m()\u001b[0m\n",
      "\u001b[1;32m     79 \u001b[1;33m\u001b[1;33m\u001b[0m\u001b[0m\n",
      "\u001b[0m\u001b[1;32m---> 80 \u001b[1;33m                \u001b[0mepoch_calc_resplock\u001b[0m \u001b[1;33m=\u001b[0m \u001b[0mmne\u001b[0m\u001b[1;33m.\u001b[0m\u001b[0mepochs\u001b[0m\u001b[1;33m.\u001b[0m\u001b[0mconcatenate_epochs\u001b[0m\u001b[1;33m(\u001b[0m\u001b[1;33m[\u001b[0m\u001b[0mepoch_calc_delay\u001b[0m\u001b[1;33m,\u001b[0m\u001b[0mepoch_calc_nodelay\u001b[0m\u001b[1;33m]\u001b[0m\u001b[1;33m)\u001b[0m\u001b[1;33m\u001b[0m\u001b[0m\n",
      "\u001b[0m\u001b[1;32m     81 \u001b[1;33m                \u001b[0minfo_calc_resplock\u001b[0m \u001b[1;33m=\u001b[0m \u001b[0mpd\u001b[0m\u001b[1;33m.\u001b[0m\u001b[0mconcat\u001b[0m\u001b[1;33m(\u001b[0m\u001b[1;33m[\u001b[0m\u001b[0minfo_calc_delay\u001b[0m\u001b[1;33m,\u001b[0m \u001b[0minfo_calc_nodelay\u001b[0m\u001b[1;33m]\u001b[0m\u001b[1;33m)\u001b[0m\u001b[1;33m\u001b[0m\u001b[0m\n",
      "\u001b[0m\n",
      "ipdb> epoch_calc\n",
      "<EpochsArray  |  n_events : 362 (all good), tmin : -0.1 (s), tmax : 4.1 (s), baseline : None>\n"
     ]
    }
   ],
   "source": [
    "%debug"
   ]
  },
  {
   "cell_type": "code",
   "execution_count": null,
   "metadata": {
    "collapsed": false
   },
   "outputs": [],
   "source": [
    "import sys \n",
    "sys.path.append('/neurospin/meg/meg_tmp/Calculation_Pedro_2014/scripts/decoding')\n",
    "from fldtrp2mne_calc import fldtrp2mne_calc\n",
    "import numpy as np\n",
    "import mne\n",
    "import pandas as pd"
   ]
  },
  {
   "cell_type": "code",
   "execution_count": null,
   "metadata": {
    "collapsed": false
   },
   "outputs": [],
   "source": [
    "data_path = '/neurospin/meg/meg_tmp/Calculation_Pedro_2014/data/mat'\n",
    "Subject = 's01'"
   ]
  },
  {
   "cell_type": "code",
   "execution_count": null,
   "metadata": {
    "collapsed": true
   },
   "outputs": [],
   "source": [
    "fname_calc = data_path + '/' + Subject + '_calc_smooth.mat'\n",
    "epoch_calc,info_calc = fldtrp2mne_calc(fname_calc, 'data', 'calc')\n"
   ]
  },
  {
   "cell_type": "code",
   "execution_count": null,
   "metadata": {
    "collapsed": false
   },
   "outputs": [],
   "source": [
    "idx_delay = info_calc['delay'] == 1\n",
    "idx_nodelay = info_calc['delay'] == 0\n",
    "epoch_calc_delay = epoch_calc[idx_delay]\n",
    "epoch_calc_nodelay = epoch_calc[idx_nodelay]\n",
    "epoch_calc_Op1 = epoch_calc[info_calc['operand1'] < 100] # have to add that otherwise it rewrites info_calc!-why?\n",
    "epoch_calc_Op2 = epoch_calc[info_calc['operand1'] < 100] \n",
    "\n",
    "info_calc_delay = info_calc[info_calc['delay'] == 1]\n",
    "info_calc_nodelay = info_calc[info_calc['delay'] == 0]\n",
    "info_calc_Op1 = info_calc[info_calc['operand1'] < 100]\n",
    "info_calc_Op2 = info_calc[info_calc['operand1'] < 100]\n",
    "\n",
    "time_calc_crop = np.arange(-0.1,0.8004,0.004) \n",
    "\n",
    "epoch_calc_delay.crop(3.5,4.4)\n",
    "epoch_calc_delay.times = time_calc_crop\n",
    "\n",
    "epoch_calc_nodelay.crop(3.1,4)\n",
    "epoch_calc_nodelay.times = time_calc_crop\n",
    "\n",
    "info_calc_delay['operand'] = info_calc_delay['preResult'] # add another column 'operand' for the big decoder\n",
    "info_calc_nodelay['operand'] = info_calc_nodelay['preResult'] # add another column 'operand' for the big decoder\n",
    "\n",
    "epoch_calc_resplock = mne.epochs.concatenate_epochs([epoch_calc_delay,epoch_calc_nodelay])\n",
    "info_calc_resplock = pd.concat([info_calc_delay, info_calc_nodelay])\n",
    "print 'concat well'\n",
    "# Create the big decoder with operand1, operand2 and presented result \n",
    "# Epochs will have 900 ms, -100 to 800. \n",
    "# Epochs Operand1\n",
    "epoch_calc_Op1.crop(-0.1,0.8)\n",
    "epoch_calc_Op1.times = time_calc_crop\n",
    "info_calc_Op1['operand'] = info_calc_Op1['operand1'] # add another column 'operand' for the big decoder\n",
    "print epoch_calc\n",
    "print info_calc\n",
    "# Epochs Operand1\n",
    "epoch_calc_Op2.crop(0.7, 1.6)\n",
    "epoch_calc_Op2.times = time_calc_crop\n",
    "info_calc_Op2['operand'] = info_calc_Op2['operand2'] # add another column 'operand' for the big decoder\n",
    "# Concatenate\n",
    "epoch_calc_bigdec = mne.epochs.concatenate_epochs([epoch_calc_Op1,epoch_calc_Op2,epoch_calc_delay,epoch_calc_nodelay])\t\n",
    "info_calc_bigdec = pd.concat([info_calc_Op1,info_calc_Op2,info_calc_delay, info_calc_nodelay])\n"
   ]
  },
  {
   "cell_type": "code",
   "execution_count": null,
   "metadata": {
    "collapsed": false
   },
   "outputs": [],
   "source": [
    "train_index = info_calc_bigdec['operator'] != 0\n",
    "X_train = epoch_calc_bigdec[train_index]\n",
    "y_train = np.array(info_calc_bigdec[train_index]['operand'])\n",
    "y_train = y_train.astype(np.float64)\n",
    "X_test = X_train\n",
    "y_test = y_train"
   ]
  },
  {
   "cell_type": "code",
   "execution_count": null,
   "metadata": {
    "collapsed": false
   },
   "outputs": [],
   "source": [
    "unique, counts = np.unique(y_train, return_counts=True)\n",
    "print np.asarray((unique, counts)).T"
   ]
  },
  {
   "cell_type": "code",
   "execution_count": null,
   "metadata": {
    "collapsed": false
   },
   "outputs": [],
   "source": [
    "idx_delay = info_calc['delay'] == 1\n",
    "idx_nodelay = info_calc['delay'] == 0\n",
    "\n",
    "info_calc_delay = info_calc[info_calc['delay'] == 1]\n",
    "info_calc_nodelay = info_calc[info_calc['delay'] == 0]\n",
    "\n",
    "time_calc_crop = np.arange(-0.1,0.8004,0.004) \n",
    "\n",
    "epoch_calc_delay = epoch_calc[idx_delay]\n",
    "epoch_calc_delay.crop(3.5,4.4)\n",
    "epoch_calc_delay.times = time_calc_crop\n",
    "\n",
    "epoch_calc_nodelay = epoch_calc[idx_nodelay]\n",
    "epoch_calc_nodelay.crop(3.1,4)\n",
    "epoch_calc_nodelay.times = time_calc_crop\n",
    "\n",
    "info_calc_delay['operand'] = info_calc_delay['preResult'] # add another column 'operand' for the big decoder\n",
    "info_calc_nodelay['operand'] = info_calc_nodelay['preResult'] # add another column 'operand' for the big decoder\n",
    "\n",
    "epoch_calc_resplock = mne.epochs.concatenate_epochs([epoch_calc_delay,epoch_calc_nodelay])\n",
    "info_calc_resplock = pd.concat([info_calc_delay, info_calc_nodelay])\n",
    "\n"
   ]
  },
  {
   "cell_type": "code",
   "execution_count": null,
   "metadata": {
    "collapsed": false
   },
   "outputs": [],
   "source": [
    "idx_delay = info_calc['delay'] == 1\n",
    "idx_nodelay = info_calc['delay'] == 0\n",
    "\n",
    "info_calc_delay = info_calc[info_calc['delay'] == 1]\n",
    "info_calc_nodelay = info_calc[info_calc['delay'] == 0]\n",
    "\n",
    "time_calc_crop = np.arange(-0.1,0.8004,0.004) \n",
    "\n",
    "epoch_calc_delay = epoch_calc[idx_delay]\n",
    "epoch_calc_delay.crop(3.5,4.4)\n",
    "epoch_calc_delay.times = time_calc_crop\n",
    "\n",
    "epoch_calc_nodelay = epoch_calc[idx_nodelay]\n",
    "epoch_calc_nodelay.crop(3.1,4)\n",
    "epoch_calc_nodelay.times = time_calc_crop\n",
    "\n",
    "info_calc_delay['operand'] = info_calc_delay['preResult'] # add another column 'operand' for the big decoder\n",
    "info_calc_nodelay['operand'] = info_calc_nodelay['preResult'] # add another column 'operand' for the big decoder\n",
    "\n",
    "epoch_calc_resplock = mne.epochs.concatenate_epochs([epoch_calc_delay,epoch_calc_nodelay])\n",
    "info_calc_resplock = pd.concat([info_calc_delay, info_calc_nodelay])\n"
   ]
  },
  {
   "cell_type": "code",
   "execution_count": null,
   "metadata": {
    "collapsed": false
   },
   "outputs": [],
   "source": [
    "# Epochs Operand1\n",
    "epoch_calc_Op1 = epoch_calc\n",
    "epoch_calc_Op1.crop(-1,0.8)\n",
    "info_calc_Op1['operand'] = info_calc_Op1['operand1'] # add another column 'operand' for the big decoder\n",
    "\n",
    "epoch_calc_Op2 = epoch_calc\n",
    "epoch_calc_Op2.crop(0.7, 1.6)\n",
    "info_calc_Op2['operand'] = info_calc_Op2['operand2'] # add another column 'operand' for the big decoder\n",
    "\n",
    "epoch_calc_bigdec = mne.epochs.concatenate_epochs([epoch_calc_Op1,epoch_calc_Op2,epoch_calc_delay,epoch_calc_nodelay])\t\n",
    "info_calc_bigdec = pd.concat([info_calc_Op1,info_calc_Op2,info_calc_delay, info_calc_nodelay])"
   ]
  },
  {
   "cell_type": "code",
   "execution_count": null,
   "metadata": {
    "collapsed": false
   },
   "outputs": [],
   "source": [
    "epoch_calc"
   ]
  },
  {
   "cell_type": "code",
   "execution_count": null,
   "metadata": {
    "collapsed": false
   },
   "outputs": [],
   "source": [
    "idx_delay = info_calc['delay'] == 1\n",
    "idx_nodelay = info_calc['delay'] == 0\n",
    "time_calc_crop = np.arange(-0.1,0.8004,0.004)\n",
    "\n"
   ]
  },
  {
   "cell_type": "code",
   "execution_count": null,
   "metadata": {
    "collapsed": false
   },
   "outputs": [],
   "source": [
    "epoch_calc_delay = epoch_calc[idx_delay]\n",
    "epoch_calc_delay.crop(3.5,4.4)\n",
    "epoch_calc_delay.times = time_calc_crop\n"
   ]
  },
  {
   "cell_type": "code",
   "execution_count": null,
   "metadata": {
    "collapsed": false
   },
   "outputs": [],
   "source": [
    "epoch_calc_nodelay = epoch_calc[idx_nodelay]\n",
    "epoch_calc_nodelay.crop(3.1,4)\n",
    "epoch_calc_nodelay.times = time_calc_crop"
   ]
  },
  {
   "cell_type": "code",
   "execution_count": null,
   "metadata": {
    "collapsed": false
   },
   "outputs": [],
   "source": [
    "epoch_calc_resplock = mne.epochs.concatenate_epochs([epoch_calc_delay,epoch_calc_nodelay])"
   ]
  },
  {
   "cell_type": "code",
   "execution_count": null,
   "metadata": {
    "collapsed": false
   },
   "outputs": [],
   "source": [
    "epoch_calc_res"
   ]
  },
  {
   "cell_type": "code",
   "execution_count": null,
   "metadata": {
    "collapsed": false
   },
   "outputs": [],
   "source": [
    "baseline = (-0.5, -0.05) #time for the baseline period\n",
    "epoch_calc.apply_baseline(baseline)\n",
    "evoked_baseline = epoch_calc.average()\n",
    "evoked_baseline.plot()"
   ]
  },
  {
   "cell_type": "code",
   "execution_count": null,
   "metadata": {
    "collapsed": false
   },
   "outputs": [],
   "source": [
    "%pylab inline \n",
    "evoked.plot()\n",
    "evoked_baseline.plot()"
   ]
  },
  {
   "cell_type": "code",
   "execution_count": null,
   "metadata": {
    "collapsed": false
   },
   "outputs": [],
   "source": [
    "info_calc_delay = info_calc[info_calc['delay'] == 1]\n",
    "info_calc_nodelay = info_calc[info_calc['delay'] == 0]\n"
   ]
  },
  {
   "cell_type": "code",
   "execution_count": null,
   "metadata": {
    "collapsed": false
   },
   "outputs": [],
   "source": [
    "info_calc_resplock = pd.concat([info_calc_delay, info_calc_nodelay])"
   ]
  },
  {
   "cell_type": "code",
   "execution_count": null,
   "metadata": {
    "collapsed": false
   },
   "outputs": [],
   "source": []
  },
  {
   "cell_type": "code",
   "execution_count": null,
   "metadata": {
    "collapsed": false
   },
   "outputs": [],
   "source": [
    "X_train = epoch_calc_resplock[(info_calc_resplock['preResult'] >= 3) & (info_calc_resplock['preResult'] <= 6)]"
   ]
  },
  {
   "cell_type": "code",
   "execution_count": null,
   "metadata": {
    "collapsed": false
   },
   "outputs": [],
   "source": [
    "y_train = np.array(info_calc_resplock['preResult'])\n",
    "y_train = y_train.astype(np.float64)\n",
    "X_test = X_train\n",
    "y_test = y_train"
   ]
  },
  {
   "cell_type": "code",
   "execution_count": null,
   "metadata": {
    "collapsed": false
   },
   "outputs": [],
   "source": [
    "y_train\n"
   ]
  },
  {
   "cell_type": "code",
   "execution_count": null,
   "metadata": {
    "collapsed": false
   },
   "outputs": [],
   "source": [
    "b"
   ]
  },
  {
   "cell_type": "code",
   "execution_count": null,
   "metadata": {
    "collapsed": false
   },
   "outputs": [],
   "source": [
    "%pylab qt\n",
    "a.plot()\n"
   ]
  },
  {
   "cell_type": "code",
   "execution_count": null,
   "metadata": {
    "collapsed": false
   },
   "outputs": [],
   "source": [
    "c = mne.epochs.concatenate_epochs([a,b])"
   ]
  },
  {
   "cell_type": "code",
   "execution_count": null,
   "metadata": {
    "collapsed": false
   },
   "outputs": [],
   "source": [
    "c"
   ]
  },
  {
   "cell_type": "code",
   "execution_count": null,
   "metadata": {
    "collapsed": false
   },
   "outputs": [],
   "source": [
    "c.plot()"
   ]
  },
  {
   "cell_type": "code",
   "execution_count": null,
   "metadata": {
    "collapsed": true
   },
   "outputs": [],
   "source": []
  }
 ],
 "metadata": {
  "kernelspec": {
   "display_name": "Python 2",
   "language": "python",
   "name": "python2"
  },
  "language_info": {
   "codemirror_mode": {
    "name": "ipython",
    "version": 2
   },
   "file_extension": ".py",
   "mimetype": "text/x-python",
   "name": "python",
   "nbconvert_exporter": "python",
   "pygments_lexer": "ipython2",
   "version": "2.7.11"
  }
 },
 "nbformat": 4,
 "nbformat_minor": 0
}
