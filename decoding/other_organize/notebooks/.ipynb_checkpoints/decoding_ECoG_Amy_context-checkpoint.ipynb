{
 "cells": [
  {
   "cell_type": "code",
   "execution_count": null,
   "metadata": {
    "collapsed": true
   },
   "outputs": [],
   "source": [
    "### DECODING NUMBERS FROM ECoG - AMY'S DATA"
   ]
  },
  {
   "cell_type": "code",
   "execution_count": 1,
   "metadata": {
    "collapsed": false
   },
   "outputs": [
    {
     "name": "stderr",
     "output_type": "stream",
     "text": [
      "/Users/pinheirochagas/anaconda/lib/python2.7/site-packages/matplotlib/font_manager.py:273: UserWarning: Matplotlib is building the font cache using fc-list. This may take a moment.\n",
      "  warnings.warn('Matplotlib is building the font cache using fc-list. This may take a moment.')\n"
     ]
    }
   ],
   "source": [
    "# %matplotlib inline \n",
    "# Import needed libraries\n",
    "import sys \n",
    "#sys.path.append('/neurospin/meg/meg_tmp/Calculation_Pedro_2014/scripts/decoding')\n",
    "sys.path.append('/Users/pinheirochagas/Pedro/NeuroSpin/Experiments/Calc_MEG/scripts_git/Calc_MEG/decoding/')\n",
    "from ecog2mne_calculia import ecog2mne_calculia\n",
    "import numpy as np\n",
    "from calc_classification import calc_classification\n",
    "from jr.plot import pretty_gat, pretty_decod\n",
    "from jr_tweaked.plot import pretty_gat, pretty_decod\n",
    "import mne\n",
    "from mne.decoding import GeneralizationAcrossTime\n",
    "from scipy.stats import itemfreq\n",
    "import random\n",
    "import matplotlib.pyplot as plt\n",
    "import scipy.io as sio\n"
   ]
  },
  {
   "cell_type": "code",
   "execution_count": 2,
   "metadata": {
    "collapsed": false
   },
   "outputs": [],
   "source": [
    "### Let's start by subject 64, who showed a nice response in NFA \n",
    "# Define directories and data name\n",
    "result_path = '/Volumes/NeuroSpin2T/Calc_ECoG/analysis_ECoG/neuralData/SpecData/S13_57_TVD/decoding/'\n",
    "fname_ecog = '/Volumes/NeuroSpin2T/Calc_ECoG/analysis_ECoG/neuralData/SpecData/S13_57_TVD/data_fieldtrip/S13_57_TVD_context.mat'\n",
    "# Load data \n",
    "epoch_calc,info_calc = ecog2mne_calculia(fname_ecog, 'data', 'context')\n",
    "\n",
    "#result_path = '/Volumes/NeuroSpin2T/Calculia/validdata/S16_94_DR/data_fieldtrip/decoding/'\n",
    "#fname_ecog = '/Volumes/NeuroSpin2T/Calculia/validdata/S16_94_DR/data_fieldtrip/S16_94_DR_selected.mat'"
   ]
  },
  {
   "cell_type": "code",
   "execution_count": 3,
   "metadata": {
    "collapsed": false
   },
   "outputs": [
    {
     "name": "stdout",
     "output_type": "stream",
     "text": [
      "The measurement information indicates a low-pass frequency of 254.313 Hz. The decim=2 parameter will result in a sampling frequency of 254.313 Hz, which can cause aliasing artifacts.\n"
     ]
    },
    {
     "name": "stderr",
     "output_type": "stream",
     "text": [
      "/Users/pinheirochagas/anaconda/lib/python2.7/site-packages/ipykernel/__main__.py:6: RuntimeWarning: The measurement information indicates a low-pass frequency of 254.313 Hz. The decim=2 parameter will result in a sampling frequency of 254.313 Hz, which can cause aliasing artifacts.\n"
     ]
    },
    {
     "data": {
      "text/plain": [
       "<EpochsArray  |  n_events : 96 (all good), tmin : -0.200540016253 (s), tmax : 6.49592366372 (s), baseline : None>"
      ]
     },
     "execution_count": 3,
     "metadata": {},
     "output_type": "execute_result"
    }
   ],
   "source": [
    "### Baseline correction and downsampling\n",
    "#baseline = (-0.5, -0.05) #time for the baseline period\n",
    "#epoch_calc.apply_baseline(baseline)\n",
    "\n",
    "downsampling = 2\n",
    "epoch_calc.decimate(downsampling)"
   ]
  },
  {
   "cell_type": "code",
   "execution_count": null,
   "metadata": {
    "collapsed": false
   },
   "outputs": [],
   "source": [
    "#Let's first see if we can decode operand 1"
   ]
  },
  {
   "cell_type": "code",
   "execution_count": null,
   "metadata": {
    "collapsed": false
   },
   "outputs": [],
   "source": [
    "# Let's start with all channels \n"
   ]
  },
  {
   "cell_type": "code",
   "execution_count": null,
   "metadata": {
    "collapsed": false
   },
   "outputs": [],
   "source": []
  },
  {
   "cell_type": "code",
   "execution_count": 4,
   "metadata": {
    "collapsed": true
   },
   "outputs": [],
   "source": [
    "#Define decoding parameters\n",
    "trainTimes = {'start': -0.2, 'stop': 5}\n",
    "testTimes = {'start': -0.2, 'stop': 5}\n",
    "params = {'trainTimes': trainTimes, 'testTimes': testTimes}"
   ]
  },
  {
   "cell_type": "code",
   "execution_count": 5,
   "metadata": {
    "collapsed": true
   },
   "outputs": [],
   "source": [
    "# Select the number of trials and the channels\n",
    "epoch_calcS = epoch_calc # copy the data\n",
    "info_calcS = info_calc\n",
    "\n",
    "# # Randomly select 122 calculation trials (just to make sure that the decoding is working with balanced classes)\n",
    "# freqConditions = itemfreq(info_calc['isCalc'])\n",
    "# isCalcIdx = np.where(info_calc['isCalc']==1)[0]\n",
    "# isCalcIdx = random.sample(isCalcIdx, 122)\n",
    "# isCalcIdxAll = np.concatenate((isCalcIdx,np.where(info_calc['isCalc']==0)[0]))\n",
    "\n",
    "# # Rewrite the epochs\n",
    "# epoch_calcS = epoch_calcS[isCalcIdxAll]\n",
    "# info_calcS = info_calc.iloc[isCalcIdxAll]"
   ]
  },
  {
   "cell_type": "code",
   "execution_count": 9,
   "metadata": {
    "collapsed": true
   },
   "outputs": [],
   "source": [
    "# Select some channels\n",
    "chan_list = epoch_calcS.ch_names\n",
    "\n",
    "\n",
    "# epoch_calcS.pick_channels(chan_list[0:36])"
   ]
  },
  {
   "cell_type": "code",
   "execution_count": 10,
   "metadata": {
    "collapsed": false
   },
   "outputs": [
    {
     "data": {
      "text/plain": [
       "[u'S13_57_TVD_001',\n",
       " u'S13_57_TVD_002',\n",
       " u'S13_57_TVD_003',\n",
       " u'S13_57_TVD_004',\n",
       " u'S13_57_TVD_005',\n",
       " u'S13_57_TVD_006',\n",
       " u'S13_57_TVD_007',\n",
       " u'S13_57_TVD_008',\n",
       " u'S13_57_TVD_009',\n",
       " u'S13_57_TVD_010',\n",
       " u'S13_57_TVD_011',\n",
       " u'S13_57_TVD_012',\n",
       " u'S13_57_TVD_013',\n",
       " u'S13_57_TVD_014',\n",
       " u'S13_57_TVD_015',\n",
       " u'S13_57_TVD_016',\n",
       " u'S13_57_TVD_018',\n",
       " u'S13_57_TVD_019',\n",
       " u'S13_57_TVD_021',\n",
       " u'S13_57_TVD_022',\n",
       " u'S13_57_TVD_023',\n",
       " u'S13_57_TVD_024',\n",
       " u'S13_57_TVD_025',\n",
       " u'S13_57_TVD_026',\n",
       " u'S13_57_TVD_027',\n",
       " u'S13_57_TVD_028',\n",
       " u'S13_57_TVD_029',\n",
       " u'S13_57_TVD_030',\n",
       " u'S13_57_TVD_031',\n",
       " u'S13_57_TVD_032',\n",
       " u'S13_57_TVD_033',\n",
       " u'S13_57_TVD_034',\n",
       " u'S13_57_TVD_035',\n",
       " u'S13_57_TVD_036',\n",
       " u'S13_57_TVD_037',\n",
       " u'S13_57_TVD_038',\n",
       " u'S13_57_TVD_039',\n",
       " u'S13_57_TVD_040',\n",
       " u'S13_57_TVD_041',\n",
       " u'S13_57_TVD_042',\n",
       " u'S13_57_TVD_043',\n",
       " u'S13_57_TVD_044',\n",
       " u'S13_57_TVD_045',\n",
       " u'S13_57_TVD_046',\n",
       " u'S13_57_TVD_047',\n",
       " u'S13_57_TVD_048',\n",
       " u'S13_57_TVD_049',\n",
       " u'S13_57_TVD_050',\n",
       " u'S13_57_TVD_051',\n",
       " u'S13_57_TVD_052',\n",
       " u'S13_57_TVD_053',\n",
       " u'S13_57_TVD_054',\n",
       " u'S13_57_TVD_055',\n",
       " u'S13_57_TVD_056',\n",
       " u'S13_57_TVD_057',\n",
       " u'S13_57_TVD_058',\n",
       " u'S13_57_TVD_059',\n",
       " u'S13_57_TVD_060',\n",
       " u'S13_57_TVD_061',\n",
       " u'S13_57_TVD_062',\n",
       " u'S13_57_TVD_063',\n",
       " u'S13_57_TVD_064',\n",
       " u'S13_57_TVD_065',\n",
       " u'S13_57_TVD_066',\n",
       " u'S13_57_TVD_067',\n",
       " u'S13_57_TVD_068',\n",
       " u'S13_57_TVD_069',\n",
       " u'S13_57_TVD_070',\n",
       " u'S13_57_TVD_071',\n",
       " u'S13_57_TVD_072',\n",
       " u'S13_57_TVD_073',\n",
       " u'S13_57_TVD_074',\n",
       " u'S13_57_TVD_075',\n",
       " u'S13_57_TVD_076',\n",
       " u'S13_57_TVD_077',\n",
       " u'S13_57_TVD_078',\n",
       " u'S13_57_TVD_079',\n",
       " u'S13_57_TVD_080',\n",
       " u'S13_57_TVD_081',\n",
       " u'S13_57_TVD_082',\n",
       " u'S13_57_TVD_083',\n",
       " u'S13_57_TVD_084',\n",
       " u'S13_57_TVD_085',\n",
       " u'S13_57_TVD_086',\n",
       " u'S13_57_TVD_087',\n",
       " u'S13_57_TVD_088',\n",
       " u'S13_57_TVD_089',\n",
       " u'S13_57_TVD_090',\n",
       " u'S13_57_TVD_091',\n",
       " u'S13_57_TVD_092',\n",
       " u'S13_57_TVD_093',\n",
       " u'S13_57_TVD_094',\n",
       " u'S13_57_TVD_095',\n",
       " u'S13_57_TVD_096',\n",
       " u'S13_57_TVD_097',\n",
       " u'S13_57_TVD_098',\n",
       " u'S13_57_TVD_099',\n",
       " u'S13_57_TVD_100',\n",
       " u'S13_57_TVD_101',\n",
       " u'S13_57_TVD_102',\n",
       " u'S13_57_TVD_103',\n",
       " u'S13_57_TVD_104',\n",
       " u'S13_57_TVD_105',\n",
       " u'S13_57_TVD_106',\n",
       " u'S13_57_TVD_107',\n",
       " u'S13_57_TVD_108',\n",
       " u'S13_57_TVD_109',\n",
       " u'S13_57_TVD_110',\n",
       " u'S13_57_TVD_111',\n",
       " u'S13_57_TVD_112',\n",
       " u'S13_57_TVD_113',\n",
       " u'S13_57_TVD_114',\n",
       " u'S13_57_TVD_115',\n",
       " u'S13_57_TVD_116',\n",
       " u'S13_57_TVD_117',\n",
       " u'S13_57_TVD_118',\n",
       " u'S13_57_TVD_119',\n",
       " u'S13_57_TVD_120',\n",
       " u'S13_57_TVD_121',\n",
       " u'S13_57_TVD_122',\n",
       " u'S13_57_TVD_123',\n",
       " u'S13_57_TVD_124',\n",
       " u'S13_57_TVD_125',\n",
       " u'S13_57_TVD_126',\n",
       " u'S13_57_TVD_127',\n",
       " u'S13_57_TVD_128']"
      ]
     },
     "execution_count": 10,
     "metadata": {},
     "output_type": "execute_result"
    }
   ],
   "source": [
    "chan_list"
   ]
  },
  {
   "cell_type": "code",
   "execution_count": 8,
   "metadata": {
    "collapsed": false
   },
   "outputs": [
    {
     "data": {
      "text/plain": [
       "<EpochsArray  |  n_events : 96 (all good), tmin : -0.200540016253 (s), tmax : 6.49592366372 (s), baseline : None>"
      ]
     },
     "execution_count": 8,
     "metadata": {},
     "output_type": "execute_result"
    }
   ],
   "source": [
    "epoch_calcS.drop_channels(chan_list[18:19])"
   ]
  },
  {
   "cell_type": "code",
   "execution_count": 11,
   "metadata": {
    "collapsed": false
   },
   "outputs": [
    {
     "name": "stderr",
     "output_type": "stream",
     "text": [
      "Exception in Tkinter callback\n",
      "Traceback (most recent call last):\n",
      "  File \"/Users/pinheirochagas/anaconda/lib/python2.7/lib-tk/Tkinter.py\", line 1536, in __call__\n",
      "    return self.func(*args)\n",
      "  File \"/Users/pinheirochagas/anaconda/lib/python2.7/site-packages/matplotlib/backends/backend_tkagg.py\", line 283, in resize\n",
      "    self.show()\n",
      "  File \"/Users/pinheirochagas/anaconda/lib/python2.7/site-packages/matplotlib/backends/backend_tkagg.py\", line 355, in draw\n",
      "    tkagg.blit(self._tkphoto, self.renderer._renderer, colormode=2)\n",
      "  File \"/Users/pinheirochagas/anaconda/lib/python2.7/site-packages/matplotlib/backends/tkagg.py\", line 30, in blit\n",
      "    id(data), colormode, id(bbox_array))\n",
      "TclError\n"
     ]
    },
    {
     "ename": "KeyboardInterrupt",
     "evalue": "",
     "output_type": "error",
     "traceback": [
      "\u001b[0;31m---------------------------------------------------------------------------\u001b[0m",
      "\u001b[0;31mKeyboardInterrupt\u001b[0m                         Traceback (most recent call last)",
      "\u001b[0;32m<ipython-input-11-160816025db5>\u001b[0m in \u001b[0;36m<module>\u001b[0;34m()\u001b[0m\n\u001b[1;32m      2\u001b[0m \u001b[0mcondA\u001b[0m \u001b[0;34m=\u001b[0m \u001b[0minfo_calcS\u001b[0m\u001b[0;34m[\u001b[0m\u001b[0;34m'operand1'\u001b[0m\u001b[0;34m]\u001b[0m \u001b[0;34m<\u001b[0m\u001b[0;36m10\u001b[0m\u001b[0;34m\u001b[0m\u001b[0m\n\u001b[1;32m      3\u001b[0m \u001b[0mevoked_condA\u001b[0m \u001b[0;34m=\u001b[0m \u001b[0mepoch_calcS\u001b[0m\u001b[0;34m[\u001b[0m\u001b[0mcondA\u001b[0m\u001b[0;34m]\u001b[0m\u001b[0;34m.\u001b[0m\u001b[0maverage\u001b[0m\u001b[0;34m(\u001b[0m\u001b[0;34m)\u001b[0m \u001b[0;31m# condA = info_calc['isCalc'] == 1\u001b[0m\u001b[0;34m\u001b[0m\u001b[0m\n\u001b[0;32m----> 4\u001b[0;31m \u001b[0mevoked_condA\u001b[0m\u001b[0;34m.\u001b[0m\u001b[0mplot\u001b[0m\u001b[0;34m(\u001b[0m\u001b[0;34m)\u001b[0m\u001b[0;34m\u001b[0m\u001b[0m\n\u001b[0m\u001b[1;32m      5\u001b[0m \u001b[0;34m\u001b[0m\u001b[0m\n\u001b[1;32m      6\u001b[0m \u001b[0;34m\u001b[0m\u001b[0m\n",
      "\u001b[0;32m/Users/pinheirochagas/.local/lib/python2.7/site-packages/mne/evoked.pyc\u001b[0m in \u001b[0;36mplot\u001b[0;34m(self, picks, exclude, unit, show, ylim, xlim, proj, hline, units, scalings, titles, axes, gfp, window_title, spatial_colors)\u001b[0m\n\u001b[1;32m    265\u001b[0m                            \u001b[0mtitles\u001b[0m\u001b[0;34m=\u001b[0m\u001b[0mtitles\u001b[0m\u001b[0;34m,\u001b[0m \u001b[0maxes\u001b[0m\u001b[0;34m=\u001b[0m\u001b[0maxes\u001b[0m\u001b[0;34m,\u001b[0m \u001b[0mgfp\u001b[0m\u001b[0;34m=\u001b[0m\u001b[0mgfp\u001b[0m\u001b[0;34m,\u001b[0m\u001b[0;34m\u001b[0m\u001b[0m\n\u001b[1;32m    266\u001b[0m                            \u001b[0mwindow_title\u001b[0m\u001b[0;34m=\u001b[0m\u001b[0mwindow_title\u001b[0m\u001b[0;34m,\u001b[0m\u001b[0;34m\u001b[0m\u001b[0m\n\u001b[0;32m--> 267\u001b[0;31m                            spatial_colors=spatial_colors)\n\u001b[0m\u001b[1;32m    268\u001b[0m \u001b[0;34m\u001b[0m\u001b[0m\n\u001b[1;32m    269\u001b[0m     def plot_image(self, picks=None, exclude='bads', unit=True, show=True,\n",
      "\u001b[0;32m/Users/pinheirochagas/.local/lib/python2.7/site-packages/mne/viz/evoked.pyc\u001b[0m in \u001b[0;36mplot_evoked\u001b[0;34m(evoked, picks, exclude, unit, show, ylim, xlim, proj, hline, units, scalings, titles, axes, gfp, window_title, spatial_colors)\u001b[0m\n\u001b[1;32m    477\u001b[0m                         \u001b[0mtitles\u001b[0m\u001b[0;34m=\u001b[0m\u001b[0mtitles\u001b[0m\u001b[0;34m,\u001b[0m \u001b[0maxes\u001b[0m\u001b[0;34m=\u001b[0m\u001b[0maxes\u001b[0m\u001b[0;34m,\u001b[0m \u001b[0mplot_type\u001b[0m\u001b[0;34m=\u001b[0m\u001b[0;34m\"butterfly\"\u001b[0m\u001b[0;34m,\u001b[0m\u001b[0;34m\u001b[0m\u001b[0m\n\u001b[1;32m    478\u001b[0m                         \u001b[0mgfp\u001b[0m\u001b[0;34m=\u001b[0m\u001b[0mgfp\u001b[0m\u001b[0;34m,\u001b[0m \u001b[0mwindow_title\u001b[0m\u001b[0;34m=\u001b[0m\u001b[0mwindow_title\u001b[0m\u001b[0;34m,\u001b[0m\u001b[0;34m\u001b[0m\u001b[0m\n\u001b[0;32m--> 479\u001b[0;31m                         spatial_colors=spatial_colors, selectable=True)\n\u001b[0m\u001b[1;32m    480\u001b[0m \u001b[0;34m\u001b[0m\u001b[0m\n\u001b[1;32m    481\u001b[0m \u001b[0;34m\u001b[0m\u001b[0m\n",
      "\u001b[0;32m/Users/pinheirochagas/.local/lib/python2.7/site-packages/mne/viz/evoked.pyc\u001b[0m in \u001b[0;36m_plot_evoked\u001b[0;34m(evoked, picks, exclude, unit, show, ylim, proj, xlim, hline, units, scalings, titles, axes, plot_type, cmap, gfp, window_title, spatial_colors, set_tight_layout, selectable)\u001b[0m\n\u001b[1;32m    397\u001b[0m         \u001b[0m_draw_proj_checkbox\u001b[0m\u001b[0;34m(\u001b[0m\u001b[0mNone\u001b[0m\u001b[0;34m,\u001b[0m \u001b[0mparams\u001b[0m\u001b[0;34m)\u001b[0m\u001b[0;34m\u001b[0m\u001b[0m\n\u001b[1;32m    398\u001b[0m \u001b[0;34m\u001b[0m\u001b[0m\n\u001b[0;32m--> 399\u001b[0;31m     \u001b[0mplt_show\u001b[0m\u001b[0;34m(\u001b[0m\u001b[0mshow\u001b[0m\u001b[0;34m)\u001b[0m\u001b[0;34m\u001b[0m\u001b[0m\n\u001b[0m\u001b[1;32m    400\u001b[0m     \u001b[0mfig\u001b[0m\u001b[0;34m.\u001b[0m\u001b[0mcanvas\u001b[0m\u001b[0;34m.\u001b[0m\u001b[0mdraw\u001b[0m\u001b[0;34m(\u001b[0m\u001b[0;34m)\u001b[0m  \u001b[0;31m# for axes plots update axes.\u001b[0m\u001b[0;34m\u001b[0m\u001b[0m\n\u001b[1;32m    401\u001b[0m     \u001b[0;32mif\u001b[0m \u001b[0mset_tight_layout\u001b[0m\u001b[0;34m:\u001b[0m\u001b[0;34m\u001b[0m\u001b[0m\n",
      "\u001b[0;32m/Users/pinheirochagas/.local/lib/python2.7/site-packages/mne/viz/utils.pyc\u001b[0m in \u001b[0;36mplt_show\u001b[0;34m(show, **kwargs)\u001b[0m\n\u001b[1;32m     61\u001b[0m     \u001b[0;32mimport\u001b[0m \u001b[0mmatplotlib\u001b[0m\u001b[0;34m.\u001b[0m\u001b[0mpyplot\u001b[0m \u001b[0;32mas\u001b[0m \u001b[0mplt\u001b[0m\u001b[0;34m\u001b[0m\u001b[0m\n\u001b[1;32m     62\u001b[0m     \u001b[0;32mif\u001b[0m \u001b[0mshow\u001b[0m \u001b[0;32mand\u001b[0m \u001b[0mmatplotlib\u001b[0m\u001b[0;34m.\u001b[0m\u001b[0mget_backend\u001b[0m\u001b[0;34m(\u001b[0m\u001b[0;34m)\u001b[0m \u001b[0;34m!=\u001b[0m \u001b[0;34m'agg'\u001b[0m\u001b[0;34m:\u001b[0m\u001b[0;34m\u001b[0m\u001b[0m\n\u001b[0;32m---> 63\u001b[0;31m         \u001b[0mplt\u001b[0m\u001b[0;34m.\u001b[0m\u001b[0mshow\u001b[0m\u001b[0;34m(\u001b[0m\u001b[0;34m**\u001b[0m\u001b[0mkwargs\u001b[0m\u001b[0;34m)\u001b[0m\u001b[0;34m\u001b[0m\u001b[0m\n\u001b[0m\u001b[1;32m     64\u001b[0m \u001b[0;34m\u001b[0m\u001b[0m\n\u001b[1;32m     65\u001b[0m \u001b[0;34m\u001b[0m\u001b[0m\n",
      "\u001b[0;32m/Users/pinheirochagas/anaconda/lib/python2.7/site-packages/matplotlib/pyplot.pyc\u001b[0m in \u001b[0;36mshow\u001b[0;34m(*args, **kw)\u001b[0m\n\u001b[1;32m    242\u001b[0m     \"\"\"\n\u001b[1;32m    243\u001b[0m     \u001b[0;32mglobal\u001b[0m \u001b[0m_show\u001b[0m\u001b[0;34m\u001b[0m\u001b[0m\n\u001b[0;32m--> 244\u001b[0;31m     \u001b[0;32mreturn\u001b[0m \u001b[0m_show\u001b[0m\u001b[0;34m(\u001b[0m\u001b[0;34m*\u001b[0m\u001b[0margs\u001b[0m\u001b[0;34m,\u001b[0m \u001b[0;34m**\u001b[0m\u001b[0mkw\u001b[0m\u001b[0;34m)\u001b[0m\u001b[0;34m\u001b[0m\u001b[0m\n\u001b[0m\u001b[1;32m    245\u001b[0m \u001b[0;34m\u001b[0m\u001b[0m\n\u001b[1;32m    246\u001b[0m \u001b[0;34m\u001b[0m\u001b[0m\n",
      "\u001b[0;32m/Users/pinheirochagas/anaconda/lib/python2.7/site-packages/matplotlib/backend_bases.pyc\u001b[0m in \u001b[0;36m__call__\u001b[0;34m(self, block)\u001b[0m\n\u001b[1;32m    190\u001b[0m \u001b[0;34m\u001b[0m\u001b[0m\n\u001b[1;32m    191\u001b[0m         \u001b[0;32mif\u001b[0m \u001b[0;32mnot\u001b[0m \u001b[0mis_interactive\u001b[0m\u001b[0;34m(\u001b[0m\u001b[0;34m)\u001b[0m \u001b[0;32mor\u001b[0m \u001b[0mget_backend\u001b[0m\u001b[0;34m(\u001b[0m\u001b[0;34m)\u001b[0m \u001b[0;34m==\u001b[0m \u001b[0;34m'WebAgg'\u001b[0m\u001b[0;34m:\u001b[0m\u001b[0;34m\u001b[0m\u001b[0m\n\u001b[0;32m--> 192\u001b[0;31m             \u001b[0mself\u001b[0m\u001b[0;34m.\u001b[0m\u001b[0mmainloop\u001b[0m\u001b[0;34m(\u001b[0m\u001b[0;34m)\u001b[0m\u001b[0;34m\u001b[0m\u001b[0m\n\u001b[0m\u001b[1;32m    193\u001b[0m \u001b[0;34m\u001b[0m\u001b[0m\n\u001b[1;32m    194\u001b[0m     \u001b[0;32mdef\u001b[0m \u001b[0mmainloop\u001b[0m\u001b[0;34m(\u001b[0m\u001b[0mself\u001b[0m\u001b[0;34m)\u001b[0m\u001b[0;34m:\u001b[0m\u001b[0;34m\u001b[0m\u001b[0m\n",
      "\u001b[0;32m/Users/pinheirochagas/anaconda/lib/python2.7/site-packages/matplotlib/backends/backend_tkagg.pyc\u001b[0m in \u001b[0;36mmainloop\u001b[0;34m(self)\u001b[0m\n\u001b[1;32m     72\u001b[0m \u001b[0;32mclass\u001b[0m \u001b[0mShow\u001b[0m\u001b[0;34m(\u001b[0m\u001b[0mShowBase\u001b[0m\u001b[0;34m)\u001b[0m\u001b[0;34m:\u001b[0m\u001b[0;34m\u001b[0m\u001b[0m\n\u001b[1;32m     73\u001b[0m     \u001b[0;32mdef\u001b[0m \u001b[0mmainloop\u001b[0m\u001b[0;34m(\u001b[0m\u001b[0mself\u001b[0m\u001b[0;34m)\u001b[0m\u001b[0;34m:\u001b[0m\u001b[0;34m\u001b[0m\u001b[0m\n\u001b[0;32m---> 74\u001b[0;31m         \u001b[0mTk\u001b[0m\u001b[0;34m.\u001b[0m\u001b[0mmainloop\u001b[0m\u001b[0;34m(\u001b[0m\u001b[0;34m)\u001b[0m\u001b[0;34m\u001b[0m\u001b[0m\n\u001b[0m\u001b[1;32m     75\u001b[0m \u001b[0;34m\u001b[0m\u001b[0m\n\u001b[1;32m     76\u001b[0m \u001b[0mshow\u001b[0m \u001b[0;34m=\u001b[0m \u001b[0mShow\u001b[0m\u001b[0;34m(\u001b[0m\u001b[0;34m)\u001b[0m\u001b[0;34m\u001b[0m\u001b[0m\n",
      "\u001b[0;32m/Users/pinheirochagas/anaconda/lib/python2.7/lib-tk/Tkinter.pyc\u001b[0m in \u001b[0;36mmainloop\u001b[0;34m(n)\u001b[0m\n\u001b[1;32m    412\u001b[0m \u001b[0;32mdef\u001b[0m \u001b[0mmainloop\u001b[0m\u001b[0;34m(\u001b[0m\u001b[0mn\u001b[0m\u001b[0;34m=\u001b[0m\u001b[0;36m0\u001b[0m\u001b[0;34m)\u001b[0m\u001b[0;34m:\u001b[0m\u001b[0;34m\u001b[0m\u001b[0m\n\u001b[1;32m    413\u001b[0m     \u001b[0;34m\"\"\"Run the main loop of Tcl.\"\"\"\u001b[0m\u001b[0;34m\u001b[0m\u001b[0m\n\u001b[0;32m--> 414\u001b[0;31m     \u001b[0m_default_root\u001b[0m\u001b[0;34m.\u001b[0m\u001b[0mtk\u001b[0m\u001b[0;34m.\u001b[0m\u001b[0mmainloop\u001b[0m\u001b[0;34m(\u001b[0m\u001b[0mn\u001b[0m\u001b[0;34m)\u001b[0m\u001b[0;34m\u001b[0m\u001b[0m\n\u001b[0m\u001b[1;32m    415\u001b[0m \u001b[0;34m\u001b[0m\u001b[0m\n\u001b[1;32m    416\u001b[0m \u001b[0mgetint\u001b[0m \u001b[0;34m=\u001b[0m \u001b[0mint\u001b[0m\u001b[0;34m\u001b[0m\u001b[0m\n",
      "\u001b[0;31mKeyboardInterrupt\u001b[0m: "
     ]
    }
   ],
   "source": [
    "# Plot evoked responses just to check\n",
    "condA = info_calcS['operand1'] <10\n",
    "evoked_condA = epoch_calcS[condA].average() # condA = info_calc['isCalc'] == 1\n",
    "evoked_condA.plot()\n",
    "\n",
    "\n"
   ]
  },
  {
   "cell_type": "code",
   "execution_count": null,
   "metadata": {
    "collapsed": false
   },
   "outputs": [],
   "source": []
  },
  {
   "cell_type": "code",
   "execution_count": 12,
   "metadata": {
    "collapsed": false
   },
   "outputs": [],
   "source": [
    "# Train and test data\n",
    "train_index = (info_calcS['operand1'] < 20) # all trials\n",
    "X_train = epoch_calcS[train_index]\n",
    "y_train = np.array(info_calcS[train_index]['operand1'])\n",
    "y_train = y_train.astype(np.float64)\n",
    "X_test = X_train\n",
    "y_test = y_train\n",
    "mode = 'cross-validation'\n",
    "params.update({'mode': mode})"
   ]
  },
  {
   "cell_type": "code",
   "execution_count": null,
   "metadata": {
    "collapsed": false
   },
   "outputs": [
    {
     "name": "stderr",
     "output_type": "stream",
     "text": [
      "[Parallel(n_jobs=6)]: Done   6 out of   6 | elapsed:   11.0s finished\n"
     ]
    }
   ],
   "source": [
    "# Run GAT decoding and save results\n",
    "gat, score, diagonal = calc_classification(X_train, y_train, X_test, y_test, params)\n",
    "results = {'params': params, 'times_calc': epoch_calc.times, 'score': score, 'diagonal': diagonal, 'y_train': y_train, 'y_test': y_test}\n",
    "fname = result_path + 'decoding_iscalc_allchannels'\n",
    "np.save(fname, results)"
   ]
  },
  {
   "cell_type": "code",
   "execution_count": null,
   "metadata": {
    "collapsed": false
   },
   "outputs": [],
   "source": [
    "# Plot results \n",
    "pretty_gat(score, chance=.5, smoothWindow=15)\n",
    "ax = plt.gca()\n",
    "# ax.axvline(.7, color='k',linestyle='dashed') \n",
    "# ax.axvline(1, color='k',linestyle='dotted')    \n",
    "# ax.axvline(1.4, color='k',linestyle='dashed') \n",
    "# ax.axvline(1.9, color='k',linestyle='dotted')\n",
    "# ax.axvline(2.4, color='k',linestyle='dashed') \n",
    "# ax.axvline(2.9, color='k',linestyle='dotted')\n",
    "# ax.axvline(3.4, color='k',linestyle='dashed') \n",
    "# ax.axvline(3.9, color='k',linestyle='dotted')\n",
    "# ax.axvline(4.4, color='k',linestyle='dashed') \n",
    "# ax.axvline(4.9, color='k',linestyle='dotted')\n",
    "plt.show()\n",
    "pretty_decod(diagonal, chance =.5, smoothWindow=15)\n",
    "ax = plt.gca()\n",
    "# ax.axvline(.5, color='k',linestyle='dashed') \n",
    "# ax.axvline(1, color='k',linestyle='dotted')    \n",
    "# ax.axvline(1.4, color='k',linestyle='dashed') \n",
    "# ax.axvline(1.9, color='k',linestyle='dotted')\n",
    "# ax.axvline(2.4, color='k',linestyle='dashed') \n",
    "# ax.axvline(2.9, color='k',linestyle='dotted')\n",
    "# ax.axvline(3.4, color='k',linestyle='dashed') \n",
    "# ax.axvline(3.9, color='k',linestyle='dotted')\n",
    "# ax.axvline(4.4, color='k',linestyle='dashed') \n",
    "# ax.axvline(4.9, color='k',linestyle='dotted') \n",
    "plt.show()"
   ]
  },
  {
   "cell_type": "code",
   "execution_count": null,
   "metadata": {
    "collapsed": false
   },
   "outputs": [],
   "source": []
  },
  {
   "cell_type": "code",
   "execution_count": null,
   "metadata": {
    "collapsed": true
   },
   "outputs": [],
   "source": [
    "### Now let's focus on the VTC channels"
   ]
  },
  {
   "cell_type": "code",
   "execution_count": null,
   "metadata": {
    "collapsed": false
   },
   "outputs": [],
   "source": [
    "# Select the number of trials and the channels\n",
    "epoch_calcS = epoch_calc # copy the data\n",
    "info_calcS = info_calc\n",
    "\n",
    "# Randomly select 122 calculation trials (just to make sure that the decoding is working with balanced classes)\n",
    "freqConditions = itemfreq(info_calc['isCalc'])\n",
    "isCalcIdx = np.where(info_calc['isCalc']==1)[0]\n",
    "isCalcIdx = random.sample(isCalcIdx, 122)\n",
    "isCalcIdxAll = np.concatenate((isCalcIdx,np.where(info_calc['isCalc']==0)[0]))\n",
    "\n",
    "# Rewrite the epochs\n",
    "epoch_calcS = epoch_calcS[isCalcIdxAll]\n",
    "info_calcS = info_calc.iloc[isCalcIdxAll]\n",
    "\n",
    "# Select some channels\n",
    "chan_list = epoch_calcS.ch_names\n",
    "epoch_calcS.pick_channels(chan_list[0:36])"
   ]
  },
  {
   "cell_type": "code",
   "execution_count": null,
   "metadata": {
    "collapsed": false
   },
   "outputs": [],
   "source": [
    "# Plot evoked responses just to check\n",
    "condA = info_calcS['isCalc'] == 1\n",
    "condB = info_calcS['isCalc'] == 0\n",
    "evoked_condA = epoch_calcS[condA].average() # condA = info_calc['isCalc'] == 1\n",
    "evoked_condB = epoch_calcS[condB].average() # \n",
    "evoked_condA.plot()\n",
    "evoked_condB.plot()"
   ]
  },
  {
   "cell_type": "code",
   "execution_count": null,
   "metadata": {
    "collapsed": false
   },
   "outputs": [],
   "source": [
    "# Train and test data\n",
    "train_index = (info_calcS['isCalc'] < 10) # all trials\n",
    "X_train = epoch_calcS[train_index]\n",
    "y_train = np.array(info_calcS[train_index]['isCalc'])\n",
    "y_train = y_train.astype(np.float64)\n",
    "X_test = X_train\n",
    "y_test = y_train\n",
    "mode = 'cross-validation'\n",
    "params.update({'mode': mode})"
   ]
  },
  {
   "cell_type": "code",
   "execution_count": null,
   "metadata": {
    "collapsed": false
   },
   "outputs": [],
   "source": [
    "# Run GAT decoding and save results\n",
    "gat, score, diagonal = calc_classification(X_train, y_train, X_test, y_test, params)\n",
    "results = {'params': params, 'times_calc': epoch_calc.times, 'score': score, 'diagonal': diagonal, 'y_train': y_train, 'y_test': y_test}\n",
    "fname = result_path + 'decoding_iscalc_VTC'\n",
    "np.save(fname, results)"
   ]
  },
  {
   "cell_type": "code",
   "execution_count": null,
   "metadata": {
    "collapsed": true
   },
   "outputs": [],
   "source": [
    "fnameLoad = result_path + 'decoding_iscalc_VTC.npy'\n",
    "results_load = np.load(fnameLoad)\n",
    "results_load = results_load.tolist()\n",
    "score = results_load['score']\n",
    "diagonal = results_load['diagonal']"
   ]
  },
  {
   "cell_type": "code",
   "execution_count": null,
   "metadata": {
    "collapsed": false
   },
   "outputs": [],
   "source": [
    "# Plot results \n",
    "pretty_gat(score, chance=.5, smoothWindow=15)\n",
    "ax = plt.gca()\n",
    "ax.axvline(.5, color='k',linestyle='dashed') \n",
    "ax.axvline(1, color='k',linestyle='dotted')    \n",
    "ax.axvline(1.4, color='k',linestyle='dashed') \n",
    "ax.axvline(1.9, color='k',linestyle='dotted')\n",
    "ax.axvline(2.4, color='k',linestyle='dashed') \n",
    "ax.axvline(2.9, color='k',linestyle='dotted')\n",
    "ax.axvline(3.4, color='k',linestyle='dashed') \n",
    "ax.axvline(3.9, color='k',linestyle='dotted')\n",
    "ax.axvline(4.4, color='k',linestyle='dashed') \n",
    "ax.axvline(4.9, color='k',linestyle='dotted')\n",
    "plt.show()\n",
    "pretty_decod(diagonal, chance =.5, smoothWindow=15)\n",
    "ax = plt.gca()\n",
    "ax.axvline(.5, color='k',linestyle='dashed') \n",
    "ax.axvline(1, color='k',linestyle='dotted')    \n",
    "ax.axvline(1.4, color='k',linestyle='dashed') \n",
    "ax.axvline(1.9, color='k',linestyle='dotted')\n",
    "ax.axvline(2.4, color='k',linestyle='dashed') \n",
    "ax.axvline(2.9, color='k',linestyle='dotted')\n",
    "ax.axvline(3.4, color='k',linestyle='dashed') \n",
    "ax.axvline(3.9, color='k',linestyle='dotted')\n",
    "ax.axvline(4.4, color='k',linestyle='dashed') \n",
    "ax.axvline(4.9, color='k',linestyle='dotted') \n",
    "plt.show()"
   ]
  },
  {
   "cell_type": "code",
   "execution_count": null,
   "metadata": {
    "collapsed": false
   },
   "outputs": [],
   "source": [
    "\n"
   ]
  },
  {
   "cell_type": "code",
   "execution_count": null,
   "metadata": {
    "collapsed": false
   },
   "outputs": [],
   "source": [
    "# Now let's focus on channel 8"
   ]
  },
  {
   "cell_type": "code",
   "execution_count": null,
   "metadata": {
    "collapsed": false
   },
   "outputs": [],
   "source": [
    "# Select the number of trials and the channels\n",
    "epoch_calcS = epoch_calc # copy the data\n",
    "info_calcS = info_calc\n",
    "\n",
    "# Randomly select 122 calculation trials (just to make sure that the decoding is working with balanced classes)\n",
    "freqConditions = itemfreq(info_calc['isCalc'])\n",
    "isCalcIdx = np.where(info_calc['isCalc']==1)[0]\n",
    "isCalcIdx = random.sample(isCalcIdx, 122)\n",
    "isCalcIdxAll = np.concatenate((isCalcIdx,np.where(info_calc['isCalc']==0)[0]))\n",
    "\n",
    "# Rewrite the epochs\n",
    "epoch_calcS = epoch_calcS[isCalcIdxAll]\n",
    "info_calcS = info_calc.iloc[isCalcIdxAll]\n",
    "\n",
    "# Select some channels\n",
    "chan_list = epoch_calcS.ch_names\n",
    "epoch_calcS.pick_channels(['S14_64_SP_008'])"
   ]
  },
  {
   "cell_type": "code",
   "execution_count": null,
   "metadata": {
    "collapsed": false
   },
   "outputs": [],
   "source": [
    "# Plot evoked responses just to check\n",
    "condA = info_calcS['isCalc'] == 1\n",
    "condB = info_calcS['isCalc'] == 0\n",
    "evoked_condA = epoch_calcS[condA].average() # condA = info_calc['isCalc'] == 1\n",
    "evoked_condB = epoch_calcS[condB].average() # \n",
    "evoked_condA.plot()\n",
    "evoked_condB.plot()"
   ]
  },
  {
   "cell_type": "code",
   "execution_count": null,
   "metadata": {
    "collapsed": false
   },
   "outputs": [],
   "source": [
    "# Train and test data\n",
    "train_index = (info_calcS['isCalc'] < 10) # all trials\n",
    "X_train = epoch_calcS[train_index]\n",
    "y_train = np.array(info_calcS[train_index]['isCalc'])\n",
    "y_train = y_train.astype(np.float64)\n",
    "X_test = X_train\n",
    "y_test = y_train\n",
    "mode = 'cross-validation'\n",
    "params.update({'mode': mode})"
   ]
  },
  {
   "cell_type": "code",
   "execution_count": null,
   "metadata": {
    "collapsed": false
   },
   "outputs": [],
   "source": [
    "# Run GAT decoding and save results\n",
    "gat, score, diagonal = calc_classification(X_train, y_train, X_test, y_test, params)\n",
    "results = {'params': params, 'times_calc': epoch_calc.times, 'score': score, 'diagonal': diagonal, 'y_train': y_train, 'y_test': y_test}\n",
    "fname = result_path + 'decoding_iscalc_channel8'\n",
    "np.save(fname, results)"
   ]
  },
  {
   "cell_type": "code",
   "execution_count": null,
   "metadata": {
    "collapsed": false
   },
   "outputs": [],
   "source": [
    "# Plot results \n",
    "pretty_gat(score, chance=.5,smoothWindow=15)\n",
    "ax = plt.gca()\n",
    "ax.axvline(.5, color='k',linestyle='dashed') \n",
    "ax.axvline(1, color='k',linestyle='dotted')    \n",
    "ax.axvline(1.4, color='k',linestyle='dashed') \n",
    "ax.axvline(1.9, color='k',linestyle='dotted')\n",
    "ax.axvline(2.4, color='k',linestyle='dashed') \n",
    "ax.axvline(2.9, color='k',linestyle='dotted')\n",
    "ax.axvline(3.4, color='k',linestyle='dashed') \n",
    "ax.axvline(3.9, color='k',linestyle='dotted')\n",
    "ax.axvline(4.4, color='k',linestyle='dashed') \n",
    "ax.axvline(4.9, color='k',linestyle='dotted')\n",
    "plt.show()\n",
    "pretty_decod(diagonal, chance =.5, smoothWindow=15)\n",
    "ax = plt.gca()\n",
    "ax.axvline(.5, color='k',linestyle='dashed') \n",
    "ax.axvline(1, color='k',linestyle='dotted')    \n",
    "ax.axvline(1.4, color='k',linestyle='dashed') \n",
    "ax.axvline(1.9, color='k',linestyle='dotted')\n",
    "ax.axvline(2.4, color='k',linestyle='dashed') \n",
    "ax.axvline(2.9, color='k',linestyle='dotted')\n",
    "ax.axvline(3.4, color='k',linestyle='dashed') \n",
    "ax.axvline(3.9, color='k',linestyle='dotted')\n",
    "ax.axvline(4.4, color='k',linestyle='dashed') \n",
    "ax.axvline(4.9, color='k',linestyle='dotted') \n",
    "plt.show()"
   ]
  },
  {
   "cell_type": "code",
   "execution_count": null,
   "metadata": {
    "collapsed": false
   },
   "outputs": [],
   "source": [
    "# Now let's remove channel 8 from the VTC"
   ]
  },
  {
   "cell_type": "code",
   "execution_count": null,
   "metadata": {
    "collapsed": false,
    "scrolled": true
   },
   "outputs": [],
   "source": [
    "# Select the number of trials and the channels\n",
    "epoch_calcS = epoch_calc # copy the data\n",
    "info_calcS = info_calc\n",
    "\n",
    "# Randomly select 122 calculation trials (just to make sure that the decoding is working with balanced classes)\n",
    "freqConditions = itemfreq(info_calc['isCalc'])\n",
    "isCalcIdx = np.where(info_calc['isCalc']==1)[0]\n",
    "isCalcIdx = random.sample(isCalcIdx, 122)\n",
    "isCalcIdxAll = np.concatenate((isCalcIdx,np.where(info_calc['isCalc']==0)[0]))\n",
    "\n",
    "# Rewrite the epochs\n",
    "epoch_calcS = epoch_calcS[isCalcIdxAll]\n",
    "info_calcS = info_calc.iloc[isCalcIdxAll]\n",
    "\n",
    "# Select some channels\n",
    "chan_list = epoch_calcS.ch_names\n",
    "epoch_calcS.pick_channels(chan_list[0:36])\n",
    "epoch_calcS.drop_channels(chan_list[7:8])"
   ]
  },
  {
   "cell_type": "code",
   "execution_count": null,
   "metadata": {
    "collapsed": false
   },
   "outputs": [],
   "source": [
    "# Plot evoked responses just to check\n",
    "condA = info_calcS['isCalc'] == 1\n",
    "condB = info_calcS['isCalc'] == 0\n",
    "evoked_condA = epoch_calcS[condA].average() # condA = info_calc['isCalc'] == 1\n",
    "evoked_condB = epoch_calcS[condB].average() # \n",
    "evoked_condA.plot()\n",
    "evoked_condB.plot()"
   ]
  },
  {
   "cell_type": "code",
   "execution_count": null,
   "metadata": {
    "collapsed": false
   },
   "outputs": [],
   "source": [
    "# Train and test data\n",
    "train_index = (info_calcS['isCalc'] < 10) # all trials\n",
    "X_train = epoch_calcS[train_index]\n",
    "y_train = np.array(info_calcS[train_index]['isCalc'])\n",
    "y_train = y_train.astype(np.float64)\n",
    "X_test = X_train\n",
    "y_test = y_train\n",
    "mode = 'cross-validation'\n",
    "params.update({'mode': mode})"
   ]
  },
  {
   "cell_type": "code",
   "execution_count": null,
   "metadata": {
    "collapsed": false
   },
   "outputs": [],
   "source": [
    "# Run GAT decoding and save results\n",
    "gat, score, diagonal = calc_classification(X_train, y_train, X_test, y_test, params)\n",
    "results = {'params': params, 'times_calc': epoch_calc.times, 'score': score, 'diagonal': diagonal, 'y_train': y_train, 'y_test': y_test}\n",
    "fname = result_path + 'decoding_iscalc_VTC_except8.npy'\n",
    "np.save(fname, results)"
   ]
  },
  {
   "cell_type": "code",
   "execution_count": null,
   "metadata": {
    "collapsed": false
   },
   "outputs": [],
   "source": [
    "# Plot results \n",
    "pretty_gat(score, chance=.5, smoothWindow=15)\n",
    "ax = plt.gca()\n",
    "ax.axvline(.5, color='k',linestyle='dashed') \n",
    "ax.axvline(1, color='k',linestyle='dotted')    \n",
    "ax.axvline(1.4, color='k',linestyle='dashed') \n",
    "ax.axvline(1.9, color='k',linestyle='dotted')\n",
    "ax.axvline(2.4, color='k',linestyle='dashed') \n",
    "ax.axvline(2.9, color='k',linestyle='dotted')\n",
    "ax.axvline(3.4, color='k',linestyle='dashed') \n",
    "ax.axvline(3.9, color='k',linestyle='dotted')\n",
    "ax.axvline(4.4, color='k',linestyle='dashed') \n",
    "ax.axvline(4.9, color='k',linestyle='dotted')\n",
    "plt.show()\n",
    "pretty_decod(diagonal, chance =.5, smoothWindow=15)\n",
    "ax = plt.gca()\n",
    "ax.axvline(.5, color='k',linestyle='dashed') \n",
    "ax.axvline(1, color='k',linestyle='dotted')    \n",
    "ax.axvline(1.4, color='k',linestyle='dashed') \n",
    "ax.axvline(1.9, color='k',linestyle='dotted')\n",
    "ax.axvline(2.4, color='k',linestyle='dashed') \n",
    "ax.axvline(2.9, color='k',linestyle='dotted')\n",
    "ax.axvline(3.4, color='k',linestyle='dashed') \n",
    "ax.axvline(3.9, color='k',linestyle='dotted')\n",
    "ax.axvline(4.4, color='k',linestyle='dashed') \n",
    "ax.axvline(4.9, color='k',linestyle='dotted') \n",
    "plt.show()\n"
   ]
  },
  {
   "cell_type": "code",
   "execution_count": null,
   "metadata": {
    "collapsed": true
   },
   "outputs": [],
   "source": [
    "# Now let's try with only the first 3 runs"
   ]
  },
  {
   "cell_type": "code",
   "execution_count": null,
   "metadata": {
    "collapsed": false
   },
   "outputs": [],
   "source": [
    "# Select the number of trials and the channels\n",
    "epoch_calcS = epoch_calc # copy the data\n",
    "info_calcS = info_calc\n",
    "\n",
    "selecIdx = info_calcS['run'] < 16\n",
    "epoch_calcS = epoch_calcS[selecIdx]\n",
    "info_calcS = info_calcS[selecIdx]\n",
    "\n",
    "# Randomly select 122 calculation trials (just to make sure that the decoding is working with balanced classes)\n",
    "freqConditions = itemfreq(info_calcS['isCalc'])\n",
    "isCalcIdx = np.where(info_calcS['isCalc']==1)[0]\n",
    "isCalcIdx = random.sample(isCalcIdx, 42)\n",
    "isCalcIdxAll = np.concatenate((isCalcIdx,np.where(info_calcS['isCalc']==0)[0]))\n",
    "\n",
    "# Rewrite the epochs\n",
    "epoch_calcS = epoch_calcS[isCalcIdxAll]\n",
    "info_calcS = info_calc.iloc[isCalcIdxAll]\n",
    "\n",
    "# Select some channels\n",
    "chan_list = epoch_calcS.ch_names\n",
    "epoch_calcS.pick_channels(['S14_64_SP_008'])"
   ]
  },
  {
   "cell_type": "code",
   "execution_count": null,
   "metadata": {
    "collapsed": false
   },
   "outputs": [],
   "source": [
    "# Plot evoked responses just to check\n",
    "condA = info_calcS['isCalc'] == 1\n",
    "condB = info_calcS['isCalc'] == 0\n",
    "evoked_condA = epoch_calcS[condA].average() # condA = info_calc['isCalc'] == 1\n",
    "evoked_condB = epoch_calcS[condB].average() # \n",
    "evoked_condA.plot()\n",
    "evoked_condB.plot()"
   ]
  },
  {
   "cell_type": "code",
   "execution_count": null,
   "metadata": {
    "collapsed": false
   },
   "outputs": [],
   "source": [
    "# Train and test data\n",
    "train_index = (info_calcS['isCalc'] < 10) # all trials\n",
    "X_train = epoch_calcS[train_index]\n",
    "y_train = np.array(info_calcS[train_index]['isCalc'])\n",
    "y_train = y_train.astype(np.float64)\n",
    "X_test = X_train\n",
    "y_test = y_train\n",
    "mode = 'cross-validation'\n",
    "params.update({'mode': mode})"
   ]
  },
  {
   "cell_type": "code",
   "execution_count": null,
   "metadata": {
    "collapsed": false
   },
   "outputs": [],
   "source": [
    "# Run GAT decoding and save results\n",
    "gat, score, diagonal = calc_classification(X_train, y_train, X_test, y_test, params)\n",
    "results = {'params': params, 'times_calc': epoch_calc.times, 'score': score, 'diagonal': diagonal, 'y_train': y_train, 'y_test': y_test}\n",
    "fname = result_path + 'decoding_iscalc_chan8_block1to3.npy'\n",
    "np.save(fname, results)"
   ]
  },
  {
   "cell_type": "code",
   "execution_count": null,
   "metadata": {
    "collapsed": false
   },
   "outputs": [],
   "source": [
    "# Plot results \n",
    "pretty_gat(score, chance=.5, smoothWindow=15)\n",
    "ax = plt.gca()\n",
    "ax.axvline(.5, color='k',linestyle='dashed') \n",
    "ax.axvline(1, color='k',linestyle='dotted')    \n",
    "ax.axvline(1.4, color='k',linestyle='dashed') \n",
    "ax.axvline(1.9, color='k',linestyle='dotted')\n",
    "ax.axvline(2.4, color='k',linestyle='dashed') \n",
    "ax.axvline(2.9, color='k',linestyle='dotted')\n",
    "ax.axvline(3.4, color='k',linestyle='dashed') \n",
    "ax.axvline(3.9, color='k',linestyle='dotted')\n",
    "ax.axvline(4.4, color='k',linestyle='dashed') \n",
    "ax.axvline(4.9, color='k',linestyle='dotted')\n",
    "plt.show()\n",
    "pretty_decod(diagonal, chance =.5, smoothWindow=15)\n",
    "ax = plt.gca()\n",
    "ax.axvline(.5, color='k',linestyle='dashed') \n",
    "ax.axvline(1, color='k',linestyle='dotted')    \n",
    "ax.axvline(1.4, color='k',linestyle='dashed') \n",
    "ax.axvline(1.9, color='k',linestyle='dotted')\n",
    "ax.axvline(2.4, color='k',linestyle='dashed') \n",
    "ax.axvline(2.9, color='k',linestyle='dotted')\n",
    "ax.axvline(3.4, color='k',linestyle='dashed') \n",
    "ax.axvline(3.9, color='k',linestyle='dotted')\n",
    "ax.axvline(4.4, color='k',linestyle='dashed') \n",
    "ax.axvline(4.9, color='k',linestyle='dotted') \n",
    "plt.show()\n"
   ]
  },
  {
   "cell_type": "code",
   "execution_count": null,
   "metadata": {
    "collapsed": false
   },
   "outputs": [],
   "source": [
    "# Now let's try to decode operand 1 in all channels"
   ]
  },
  {
   "cell_type": "code",
   "execution_count": null,
   "metadata": {
    "collapsed": false
   },
   "outputs": [],
   "source": [
    "# Select the number of trials and the channels\n",
    "epoch_calcS = epoch_calc # copy the data\n",
    "info_calcS = info_calc\n",
    "\n",
    "selecIdx = info_calcS['isCalc'] == 1\n",
    "epoch_calcS = epoch_calcS[selecIdx]\n",
    "info_calcS = info_calcS[selecIdx]\n",
    "\n",
    "# Randomly select 122 calculation trials (just to make sure that the decoding is working with balanced classes)\n",
    "freqConditions = itemfreq(info_calcS['operand1'])\n",
    "isCalcIdx = np.where(info_calcS['isCalc']==1)[0]\n",
    "isCalcIdx = random.sample(isCalcIdx, 42)\n",
    "isCalcIdxAll = np.concatenate((isCalcIdx,np.where(info_calcS['isCalc']==0)[0]))\n",
    "\n",
    "# Rewrite the epochs\n",
    "epoch_calcS = epoch_calcS[isCalcIdxAll]\n",
    "info_calcS = info_calc.iloc[isCalcIdxAll]\n",
    "\n",
    "# Select some channels\n",
    "chan_list = epoch_calcS.ch_names\n",
    "epoch_calcS.pick_channels(['S14_64_SP_008'])"
   ]
  },
  {
   "cell_type": "code",
   "execution_count": null,
   "metadata": {
    "collapsed": false
   },
   "outputs": [],
   "source": [
    "\n",
    "freqConditions\n"
   ]
  },
  {
   "cell_type": "code",
   "execution_count": null,
   "metadata": {
    "collapsed": false
   },
   "outputs": [],
   "source": [
    "# Train and test data\n",
    "train_index = (info_calcS['isCalc'] < 10) # all trials\n",
    "X_train = epoch_calcS[train_index]\n",
    "y_train = np.array(info_calcS[train_index]['operand1'])\n",
    "y_train = y_train.astype(np.float64)\n",
    "X_test = X_train\n",
    "y_test = y_train\n",
    "mode = 'cross-validation'\n",
    "params.update({'mode': mode})"
   ]
  },
  {
   "cell_type": "code",
   "execution_count": null,
   "metadata": {
    "collapsed": false
   },
   "outputs": [],
   "source": [
    "# Run GAT decoding and save results\n",
    "gat, score, diagonal = calc_classification(X_train, y_train, X_test, y_test, params)\n",
    "results = {'params': params, 'times_calc': epoch_calc.times, 'score': score, 'diagonal': diagonal, 'y_train': y_train, 'y_test': y_test}\n",
    "fname = result_path + 'decoding_operand1_allchannels.npy'\n",
    "np.save(fname, results)"
   ]
  },
  {
   "cell_type": "code",
   "execution_count": null,
   "metadata": {
    "collapsed": false
   },
   "outputs": [],
   "source": [
    "# Plot results \n",
    "pretty_gat(score, smoothWindow=15)\n",
    "ax = plt.gca()\n",
    "ax.axvline(.5, color='k',linestyle='dashed') \n",
    "ax.axvline(1, color='k',linestyle='dotted')    \n",
    "ax.axvline(1.4, color='k',linestyle='dashed') \n",
    "ax.axvline(1.9, color='k',linestyle='dotted')\n",
    "ax.axvline(2.4, color='k',linestyle='dashed') \n",
    "ax.axvline(2.9, color='k',linestyle='dotted')\n",
    "ax.axvline(3.4, color='k',linestyle='dashed') \n",
    "ax.axvline(3.9, color='k',linestyle='dotted')\n",
    "ax.axvline(4.4, color='k',linestyle='dashed') \n",
    "ax.axvline(4.9, color='k',linestyle='dotted')\n",
    "plt.show()\n",
    "pretty_decod(diagonal, smoothWindow=15)\n",
    "ax = plt.gca()\n",
    "ax.axvline(.5, color='k',linestyle='dashed') \n",
    "ax.axvline(1, color='k',linestyle='dotted')    \n",
    "ax.axvline(1.4, color='k',linestyle='dashed') \n",
    "ax.axvline(1.9, color='k',linestyle='dotted')\n",
    "ax.axvline(2.4, color='k',linestyle='dashed') \n",
    "ax.axvline(2.9, color='k',linestyle='dotted')\n",
    "ax.axvline(3.4, color='k',linestyle='dashed') \n",
    "ax.axvline(3.9, color='k',linestyle='dotted')\n",
    "ax.axvline(4.4, color='k',linestyle='dashed') \n",
    "ax.axvline(4.9, color='k',linestyle='dotted') \n",
    "plt.show()\n"
   ]
  },
  {
   "cell_type": "code",
   "execution_count": null,
   "metadata": {
    "collapsed": false
   },
   "outputs": [],
   "source": [
    "# Decoding operand1\n",
    "X_train = epoch_calc\n",
    "y_train = np.array(info_calc['isCalc'])\n",
    "y_train = y_train.astype(np.float64)\n",
    "X_test = X_train\n",
    "y_test = y_train\n",
    "trainTimes = {'start': -0.1, 'stop': 4.5}\n",
    "testTimes = {'start': -0.1, 'stop': 4.5}\n",
    "mode = 'cross-validation'\n",
    "params.update({'mode': mode})"
   ]
  },
  {
   "cell_type": "code",
   "execution_count": null,
   "metadata": {
    "collapsed": false
   },
   "outputs": [],
   "source": [
    "condA = info_calc['operand1'] == 3\n",
    "condB = info_calc['operand1'] == 4\n",
    "condC = info_calc['operand1'] == 5\n",
    "condD = info_calc['operand1'] == 6\n",
    "\n",
    "#Sanity check #1: Plot evoked response\n",
    "evoked_condA = epoch_calc[condA].average() # \n",
    "evoked_condB = epoch_calc[condB].average() #   \n",
    "evoked_condC = epoch_calc[condC].average() #   \n",
    "evoked_condD = epoch_calc[condD].average() #   \n",
    "\n",
    "evoked_condA.plot()\n",
    "evoked_condB.plot()\n",
    "evoked_condC.plot()\n",
    "evoked_condD.plot()  \n",
    "\n",
    "plt.show()"
   ]
  },
  {
   "cell_type": "code",
   "execution_count": null,
   "metadata": {
    "collapsed": true
   },
   "outputs": [],
   "source": [
    "info_calc_train['operand1'].map(lambda x: x[0])\n",
    "\n",
    "\n",
    "# condA = info_calc['operand1'] == 2\n",
    "# condB = info_calc['operand1'] == 3\n",
    "# condC = info_calc['operand1'] == 4\n",
    "# condD = info_calc['operand1'] == 7\n",
    "# condE = info_calc['operand1'] == 8\n",
    "# condF = info_calc['operand1'] == 9\n",
    "\n",
    "# #Sanity check #1: Plot evoked response\n",
    "# evoked_condA = epoch_calc[condA].average() # \n",
    "# evoked_condB = epoch_calc[condB].average() #   \n",
    "# evoked_condC = epoch_calc[condC].average() #   \n",
    "# evoked_condD = epoch_calc[condD].average() #   \n",
    "# evoked_condE = epoch_calc[condE].average() #   \n",
    "# evoked_condF = epoch_calc[condF].average() #   \n",
    "\n",
    "# evoked_condA.plot()\n",
    "# evoked_condB.plot()\n",
    "# evoked_condC.plot()\n",
    "# evoked_condD.plot()  \n",
    "# evoked_condC.plot()\n",
    "# evoked_condD.plot()  \n",
    "\n",
    "# plt.show()"
   ]
  },
  {
   "cell_type": "code",
   "execution_count": null,
   "metadata": {
    "collapsed": true
   },
   "outputs": [],
   "source": [
    "#Define decoding parameters\n",
    "trainTimes = {'start': -0.5, 'stop': 5}\n",
    "testTimes = {'start': -0.5, 'stop': 5}\n",
    "params = {'trainTimes': trainTimes, 'testTimes': testTimes}\n",
    "# Train and test data\n",
    "train_index = (info_calc['isCalc'] < 10) # S\n",
    "X_train = epoch_calc[train_index]\n",
    "y_train = np.array(info_calc[train_index]['isCalc'])\n",
    "#y_train = np.array(info_calc[train_index]['operand1'])\n",
    "y_train = y_train.astype(np.float64)\n",
    "X_test = X_train\n",
    "y_test = y_train\n",
    "mode = 'cross-validation'\n",
    "params.update({'mode': mode})"
   ]
  },
  {
   "cell_type": "code",
   "execution_count": null,
   "metadata": {
    "collapsed": true
   },
   "outputs": [],
   "source": [
    "fnameLoad = result_path + 'decoding_iscalc_VTC_except8.npy'\n",
    "results_load = np.load(fnameLoad)\n",
    "results_load = results_load.tolist()\n",
    "score = results_load['score']\n",
    "diagonal = results_load['diagonal']"
   ]
  }
 ],
 "metadata": {
  "kernelspec": {
   "display_name": "Python 2",
   "language": "python",
   "name": "python2"
  },
  "language_info": {
   "codemirror_mode": {
    "name": "ipython",
    "version": 2
   },
   "file_extension": ".py",
   "mimetype": "text/x-python",
   "name": "python",
   "nbconvert_exporter": "python",
   "pygments_lexer": "ipython2",
   "version": "2.7.11"
  }
 },
 "nbformat": 4,
 "nbformat_minor": 0
}
