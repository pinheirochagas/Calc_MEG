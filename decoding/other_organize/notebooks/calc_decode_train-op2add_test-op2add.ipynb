{
 "cells": [
  {
   "cell_type": "code",
   "execution_count": null,
   "metadata": {
    "collapsed": true
   },
   "outputs": [],
   "source": [
    "# Function to decode operation"
   ]
  },
  {
   "cell_type": "code",
   "execution_count": 1,
   "metadata": {
    "collapsed": false
   },
   "outputs": [
    {
     "name": "stdout",
     "output_type": "stream",
     "text": [
      "Populating the interactive namespace from numpy and matplotlib\n"
     ]
    }
   ],
   "source": [
    "%pylab inline \n",
    "\n",
    "import mne\n",
    "from mne.datasets import spm_face\n",
    "from mne.decoding import GeneralizationAcrossTime\n",
    "import sys\n",
    "import os.path as op\n",
    "import numpy as np\n",
    "import matplotlib.pyplot as plt\n",
    "import scipy.io as sio\n",
    "import pandas as pd\n",
    "from scipy import stats\n",
    "#Add personal functions to python path\n",
    "sys.path.append('/neurospin/meg/meg_tmp/Calculation_Pedro_2014/scripts/decoding/')\n",
    "#sys.path.append('/Volumes/NeuroSpin2T/Calculation_Pedro_2014/scripts/decoding/')\n",
    "from fldtrp2mne import fldtrp2mne\n",
    "from calc_ClassifyTwoCond import calc_ClassifyTwoCond\n",
    "from calc_twoClassClassify import calc_twoClassClassify\n",
    "from sklearn import svm\n",
    "from sklearn.cross_validation import cross_val_score, StratifiedShuffleSplit\n",
    "from sklearn.preprocessing import StandardScaler\n",
    "from sklearn.pipeline import Pipeline\n",
    "from sklearn.feature_selection import SelectKBest, f_classif\n",
    "from sklearn.pipeline import make_pipeline\n",
    "from sklearn.cross_validation import StratifiedKFold"
   ]
  },
  {
   "cell_type": "code",
   "execution_count": 2,
   "metadata": {
    "collapsed": false
   },
   "outputs": [],
   "source": [
    "#Directories\n",
    "data_path = '/neurospin/meg/meg_tmp/Calculation_Pedro_2014/data/mat/'\n",
    "result_path = '/neurospin/meg/meg_tmp/Calculation_Pedro_2014/data/decoding/'\n",
    "#data_path = '/Volumes/NeuroSpin2T/Calculation_Pedro_2014/data/mat/'\n",
    "#result_path = '/Volumes/NeuroSpin2T/Calculation_Pedro_2014/data/decoding/'\n",
    "\n",
    "#Subjects\n",
    "subjects = ['s01', 's02', 's03', 's04', 's05', 's06', 's07', 's08', 's09', 's10', \n",
    "            's11', 's12', 's13', 's14', 's15', 's16', 's17', 's18','s19', 's21', 's22']\n",
    "\n",
    "#subjects = ['s06']\n",
    "\n",
    "\n",
    "#General parameters\n",
    "baseline = (-0.5, -0.05)\n",
    "\n",
    "downsmpDec = 4\n",
    "\n",
    "#Decoding\n",
    "trainset = 'addop2'\n",
    "testset = 'addop2'\n",
    "decCond = ['0', '1', '2', '3']\n",
    "\n",
    "params = {'baseline': baseline, 'downsmpDec': downsmpDec, \n",
    "'Classification': decCond, 'trainset': trainset, 'testset': testset}\n",
    "\n",
    "#Results initialization\n",
    "all_scores = []\n",
    "all_diagonals = []"
   ]
  },
  {
   "cell_type": "code",
   "execution_count": 3,
   "metadata": {
    "collapsed": false
   },
   "outputs": [
    {
     "name": "stdout",
     "output_type": "stream",
     "text": [
      "Baseline-correcting data for subject: s01\n",
      "Applying baseline correction ... (mode: mean)\n",
      "Loading trialinfo for subject: s01\n"
     ]
    },
    {
     "ename": "NameError",
     "evalue": "name 'stop' is not defined",
     "output_type": "error",
     "traceback": [
      "\u001b[1;31m---------------------------------------------------------------------------\u001b[0m",
      "\u001b[1;31mNameError\u001b[0m                                 Traceback (most recent call last)",
      "\u001b[1;32m<ipython-input-3-052cb36a03b2>\u001b[0m in \u001b[0;36m<module>\u001b[1;34m()\u001b[0m\n\u001b[0;32m     36\u001b[0m     \u001b[1;31m#op13456 = op13456[0:len(res3456)]\u001b[0m\u001b[1;33m\u001b[0m\u001b[1;33m\u001b[0m\u001b[0m\n\u001b[0;32m     37\u001b[0m \u001b[1;33m\u001b[0m\u001b[0m\n\u001b[1;32m---> 38\u001b[1;33m     \u001b[0mstop\u001b[0m\u001b[1;33m\u001b[0m\u001b[0m\n\u001b[0m\u001b[0;32m     39\u001b[0m     \u001b[1;31m# Decoding\u001b[0m\u001b[1;33m\u001b[0m\u001b[1;33m\u001b[0m\u001b[0m\n\u001b[0;32m     40\u001b[0m     \u001b[0mX_train\u001b[0m \u001b[1;33m=\u001b[0m \u001b[0mepoch\u001b[0m\u001b[1;33m[\u001b[0m\u001b[0mtrainSet\u001b[0m\u001b[1;33m]\u001b[0m \u001b[1;31m#\u001b[0m\u001b[1;33m\u001b[0m\u001b[0m\n",
      "\u001b[1;31mNameError\u001b[0m: name 'stop' is not defined"
     ]
    }
   ],
   "source": [
    "for sub in subjects:\n",
    "    fname = op.join(data_path, sub + '_calc.mat') \n",
    "    epoch = fldtrp2mne(fname, 'data')\n",
    "\n",
    "    #Baseline-correct & filter data\n",
    "    print('Baseline-correcting data for subject: ' + sub)\n",
    "    epoch.apply_baseline(baseline)\n",
    "    \n",
    "    #Load condition/behavior info\n",
    "    matfile = sio.loadmat(fname)\n",
    "    print('Loading trialinfo for subject: ' + sub)   \n",
    "    trialinfo = matfile['data']['trialinfo']   \n",
    "    \n",
    "    run = trialinfo[0][0][0][0][0].T\n",
    "    operand1 = trialinfo[0][0][0][0][1].T\n",
    "    operator = trialinfo[0][0][0][0][2].T\n",
    "    operand2 = trialinfo[0][0][0][0][3].T\n",
    "    preResult = trialinfo[0][0][0][0][4].T\n",
    "    delay = trialinfo[0][0][0][0][5].T\n",
    "    corrResult = trialinfo[0][0][0][0][6].T\n",
    "    deviant = trialinfo[0][0][0][0][7].T\n",
    "    absdeviant = trialinfo[0][0][0][0][8].T\n",
    "    rt = trialinfo[0][0][0][0][9].T\n",
    "    respSide = trialinfo[0][0][0][0][10].T\n",
    "\n",
    "    \n",
    "    # Merge back and define conditions\n",
    "    info = pd.DataFrame(data = np.concatenate((run, operand1, operator, operand2, preResult, delay, corrResult, deviant, absdeviant, rt, respSide), axis = 1), \n",
    "                        columns = ['run', 'operand1', 'operator', 'operand2', 'preResult', 'delay', 'corrResult', 'deviant', 'absdeviant', 'rt', 'respSide'])\n",
    "\n",
    "    #info['absdeviant'][info['absdeviant'] != 0] = 1  \n",
    "    trainSet = (info['operand2'] >= 0) & (info['operand2'] <= 3) & (info['operator'] == 1) \n",
    "    testSet = (info['operand2'] >= 0) & (info['operand2'] <= 3) & (info['operator'] == 1)  \n",
    "\n",
    "    # Make train and test same size\n",
    "    #op13456 = op13456[0:len(res3456)]\n",
    "    \n",
    "    stop\n",
    "    # Decoding\n",
    "    X_train = epoch[trainSet] #\n",
    "    info_train = info[trainSet]    #\n",
    "    y_train = np.array(info_train['operand2']) #\n",
    "    y_train = y_train.astype(numpy.float64)\n",
    "    # Downsampling for decoding\n",
    "    X_train.decimate(downsmpDec)\n",
    "    \n",
    "    # Decoding\n",
    "    X_test = epoch[testSet] #\n",
    "    info_test = info[testSet]    #\n",
    "    y_test = np.array(info_test['operand2']) #\n",
    "    y_test = y_test.astype(numpy.float64)\n",
    "    # Downsampling for decoding\n",
    "    X_test.decimate(downsmpDec)\n",
    "    \n",
    "    print('Decoding subject: ' + sub)\n",
    "    \n",
    "    gat, score, diagonal = calc_twoClassClassify(X_train, y_train, [], [], params)\n",
    "    #gat, score, diagonal = calc_ClassifyTwoCond(X_train, y_train, X_test, y_test, params)\n",
    "    gat.plot()\n",
    "    gat.plot_diagonal()  # plot decoding across time (correspond to GAT diagonal)\n",
    "\n",
    "    #Store scores of different subjects in the same list\n",
    "    all_scores.append(score)\n",
    "    all_diagonals.append(diagonal)\n",
    "    \n",
    "#Transform into a numpy array   \n",
    "all_scores = np.array(all_scores)\n",
    "all_diagonals = np.array(all_diagonals)\n",
    "\n",
    "# Save individual results\n",
    "fname = op.join(result_path, 'Classification_ ' + decCond[0] + '_vs_' + \n",
    "                decCond[1] + '_vs_' + decCond[2] + '_vs_' + decCond[3] + '_Trainset_' + trainset + '_Testset_' + testset) \n",
    "np.save(fname, all_scores)\n",
    "\n",
    "# Compute group averages\n",
    "group_scores = np.mean(all_scores, 0)\n",
    "sem_group_scores = stats.sem(all_scores, 0)\n",
    "\n",
    "group_diagonal = np.mean(all_diagonals, 0)\n",
    "sem_group_diagonal = stats.sem(all_diagonals, 0)\n",
    "    "
   ]
  },
  {
   "cell_type": "code",
   "execution_count": null,
   "metadata": {
    "collapsed": false
   },
   "outputs": [],
   "source": []
  },
  {
   "cell_type": "code",
   "execution_count": null,
   "metadata": {
    "collapsed": false
   },
   "outputs": [],
   "source": []
  },
  {
   "cell_type": "code",
   "execution_count": null,
   "metadata": {
    "collapsed": false
   },
   "outputs": [],
   "source": [
    "epoch"
   ]
  },
  {
   "cell_type": "code",
   "execution_count": 5,
   "metadata": {
    "collapsed": false
   },
   "outputs": [
    {
     "ename": "NameError",
     "evalue": "name 'group_scores' is not defined",
     "output_type": "error",
     "traceback": [
      "\u001b[1;31m---------------------------------------------------------------------------\u001b[0m",
      "\u001b[1;31mNameError\u001b[0m                                 Traceback (most recent call last)",
      "\u001b[1;32m<ipython-input-5-ef2b30cf84ff>\u001b[0m in \u001b[0;36m<module>\u001b[1;34m()\u001b[0m\n\u001b[0;32m      2\u001b[0m \u001b[1;33m\u001b[0m\u001b[0m\n\u001b[0;32m      3\u001b[0m \u001b[1;31m# Plot GAT\u001b[0m\u001b[1;33m\u001b[0m\u001b[1;33m\u001b[0m\u001b[0m\n\u001b[1;32m----> 4\u001b[1;33m plt.imshow(group_scores, origin = 'lower', extent = [X_train.times[0], X_train.times[len(X_train.times)-1], \n\u001b[0m\u001b[0;32m      5\u001b[0m                                                      X_train.times[0], X_train.times[len(X_train.times)-1]]) #flip the matrix around\n\u001b[0;32m      6\u001b[0m \u001b[0mplt\u001b[0m\u001b[1;33m.\u001b[0m\u001b[0maxvline\u001b[0m\u001b[1;33m(\u001b[0m\u001b[1;36m0\u001b[0m\u001b[1;33m,\u001b[0m \u001b[0mcolor\u001b[0m \u001b[1;33m=\u001b[0m \u001b[1;34m'k'\u001b[0m\u001b[1;33m)\u001b[0m \u001b[1;31m#mark stimulus onset\u001b[0m\u001b[1;33m\u001b[0m\u001b[0m\n",
      "\u001b[1;31mNameError\u001b[0m: name 'group_scores' is not defined"
     ]
    }
   ],
   "source": [
    "# Plotting  \n",
    "\n",
    "# Plot GAT\n",
    "plt.imshow(group_scores, origin = 'lower', extent = [X_train.times[0], X_train.times[len(X_train.times)-1], \n",
    "                                                     X_train.times[0], X_train.times[len(X_train.times)-1]]) #flip the matrix around\n",
    "plt.axvline(0, color = 'k') #mark stimulus onset\n",
    "plt.axhline(0, color = 'k') #mark stimulus onset\n",
    "plt.colorbar()\n",
    "plt.xlabel('Testing Time (s)')\n",
    "plt.ylabel('Training Time (s)')\n",
    "plt.title('Group average generalization across time \\n Classification: ' + decCond[0] + ' vs ' \n",
    "+ decCond[1] + '\\n Trainset: ' + trainset + ', Testset: ' + testset)\n",
    "\n"
   ]
  },
  {
   "cell_type": "code",
   "execution_count": 4,
   "metadata": {
    "collapsed": false
   },
   "outputs": [
    {
     "ename": "NameError",
     "evalue": "name 'X_train' is not defined",
     "output_type": "error",
     "traceback": [
      "\u001b[1;31m---------------------------------------------------------------------------\u001b[0m",
      "\u001b[1;31mNameError\u001b[0m                                 Traceback (most recent call last)",
      "\u001b[1;32m<ipython-input-4-951234daa2ef>\u001b[0m in \u001b[0;36m<module>\u001b[1;34m()\u001b[0m\n\u001b[0;32m      1\u001b[0m \u001b[1;31m# Plot Diagonal\u001b[0m\u001b[1;33m\u001b[0m\u001b[1;33m\u001b[0m\u001b[0m\n\u001b[1;32m----> 2\u001b[1;33m \u001b[0mplt\u001b[0m\u001b[1;33m.\u001b[0m\u001b[0mplot\u001b[0m\u001b[1;33m(\u001b[0m\u001b[0mX_train\u001b[0m\u001b[1;33m.\u001b[0m\u001b[0mtimes\u001b[0m\u001b[1;33m,\u001b[0m \u001b[0mgroup_diagonal\u001b[0m\u001b[1;33m,\u001b[0m \u001b[0mlabel\u001b[0m \u001b[1;33m=\u001b[0m \u001b[1;34m\"Classification score\"\u001b[0m\u001b[1;33m)\u001b[0m\u001b[1;33m\u001b[0m\u001b[0m\n\u001b[0m\u001b[0;32m      3\u001b[0m \u001b[0mplt\u001b[0m\u001b[1;33m.\u001b[0m\u001b[0maxvline\u001b[0m\u001b[1;33m(\u001b[0m\u001b[1;36m0\u001b[0m\u001b[1;33m,\u001b[0m \u001b[0mcolor\u001b[0m \u001b[1;33m=\u001b[0m \u001b[1;34m'k'\u001b[0m\u001b[1;33m)\u001b[0m \u001b[1;31m#mark stimulus onset\u001b[0m\u001b[1;33m\u001b[0m\u001b[0m\n\u001b[0;32m      4\u001b[0m \u001b[0mplt\u001b[0m\u001b[1;33m.\u001b[0m\u001b[0maxvline\u001b[0m\u001b[1;33m(\u001b[0m\u001b[1;36m.8\u001b[0m\u001b[1;33m,\u001b[0m \u001b[0mcolor\u001b[0m \u001b[1;33m=\u001b[0m \u001b[1;34m'k'\u001b[0m\u001b[1;33m)\u001b[0m \u001b[1;31m#mark stimulus onset\u001b[0m\u001b[1;33m\u001b[0m\u001b[0m\n\u001b[0;32m      5\u001b[0m \u001b[0mplt\u001b[0m\u001b[1;33m.\u001b[0m\u001b[0maxvline\u001b[0m\u001b[1;33m(\u001b[0m\u001b[1;36m1.6\u001b[0m\u001b[1;33m,\u001b[0m \u001b[0mcolor\u001b[0m \u001b[1;33m=\u001b[0m \u001b[1;34m'k'\u001b[0m\u001b[1;33m)\u001b[0m \u001b[1;31m#mark stimulus onset\u001b[0m\u001b[1;33m\u001b[0m\u001b[0m\n",
      "\u001b[1;31mNameError\u001b[0m: name 'X_train' is not defined"
     ]
    }
   ],
   "source": [
    "# Plot Diagonal\n",
    "plt.plot(X_train.times, group_diagonal, label = \"Classification score\")\n",
    "plt.axvline(0, color = 'k') #mark stimulus onset\n",
    "plt.axvline(.8, color = 'k') #mark stimulus onset\n",
    "plt.axvline(1.6, color = 'k') #mark stimulus onset\n",
    "plt.axvline(2.4, color = 'k') #mark stimulus onset\n",
    "plt.axvline(3.2, color = 'k') #mark stimulus onset\n",
    "plt.axvline(3.6, color = 'k') #mark stimulus onset\n",
    "\n",
    "plt.axhline(0.25, color = 'k', ls = '--', label = \"Chance\") #mark chance level\n",
    "plt.legend(loc = 'upper right')\n",
    "plt.xlabel('Time (s)')\n",
    "plt.ylabel('Classification Score (%)')\n",
    "plt.title('Cl assification: ' + decCond[0] + ' vs ' \n",
    "+ decCond[1] + '\\n Trainset: ' + trainset + ', Testset: ' + testset)\n",
    "\n",
    "rcParams['figure.figsize'] = 25,10\n"
   ]
  },
  {
   "cell_type": "code",
   "execution_count": null,
   "metadata": {
    "collapsed": false
   },
   "outputs": [],
   "source": [
    "group_scores.shape"
   ]
  },
  {
   "cell_type": "code",
   "execution_count": null,
   "metadata": {
    "collapsed": true
   },
   "outputs": [],
   "source": [
    "a = 'a'"
   ]
  },
  {
   "cell_type": "code",
   "execution_count": null,
   "metadata": {
    "collapsed": false
   },
   "outputs": [],
   "source": [
    "a == 'a'"
   ]
  },
  {
   "cell_type": "code",
   "execution_count": null,
   "metadata": {
    "collapsed": true
   },
   "outputs": [],
   "source": []
  }
 ],
 "metadata": {
  "kernelspec": {
   "display_name": "Python 2",
   "language": "python",
   "name": "python2"
  },
  "language_info": {
   "codemirror_mode": {
    "name": "ipython",
    "version": 2
   },
   "file_extension": ".py",
   "mimetype": "text/x-python",
   "name": "python",
   "nbconvert_exporter": "python",
   "pygments_lexer": "ipython2",
   "version": "2.7.11"
  }
 },
 "nbformat": 4,
 "nbformat_minor": 0
}
