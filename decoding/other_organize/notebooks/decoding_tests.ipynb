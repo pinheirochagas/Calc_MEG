{
 "cells": [
  {
   "cell_type": "code",
   "execution_count": 1,
   "metadata": {
    "collapsed": false
   },
   "outputs": [
    {
     "ename": "NameError",
     "evalue": "name '__file__' is not defined",
     "output_type": "error",
     "traceback": [
      "\u001b[1;31m---------------------------------------------------------------------------\u001b[0m",
      "\u001b[1;31mNameError\u001b[0m                                 Traceback (most recent call last)",
      "\u001b[1;32m<ipython-input-1-615459edf694>\u001b[0m in \u001b[0;36m<module>\u001b[1;34m()\u001b[0m\n\u001b[0;32m     11\u001b[0m \u001b[1;32mfrom\u001b[0m \u001b[0mcalc_regression\u001b[0m \u001b[1;32mimport\u001b[0m \u001b[0mcalc_regression\u001b[0m\u001b[1;33m\u001b[0m\u001b[0m\n\u001b[0;32m     12\u001b[0m \u001b[1;32mfrom\u001b[0m \u001b[0mcalc_decoding_cfg\u001b[0m \u001b[1;32mimport\u001b[0m \u001b[1;33m(\u001b[0m\u001b[0mresult_path\u001b[0m\u001b[1;33m)\u001b[0m\u001b[1;33m\u001b[0m\u001b[0m\n\u001b[1;32m---> 13\u001b[1;33m \u001b[0mcwd\u001b[0m \u001b[1;33m=\u001b[0m \u001b[0mos\u001b[0m\u001b[1;33m.\u001b[0m\u001b[0mpath\u001b[0m\u001b[1;33m.\u001b[0m\u001b[0mdirname\u001b[0m\u001b[1;33m(\u001b[0m\u001b[0mos\u001b[0m\u001b[1;33m.\u001b[0m\u001b[0mpath\u001b[0m\u001b[1;33m.\u001b[0m\u001b[0mabspath\u001b[0m\u001b[1;33m(\u001b[0m\u001b[0m__file__\u001b[0m\u001b[1;33m)\u001b[0m\u001b[1;33m)\u001b[0m\u001b[1;33m\u001b[0m\u001b[0m\n\u001b[0m\u001b[0;32m     14\u001b[0m \u001b[0mos\u001b[0m\u001b[1;33m.\u001b[0m\u001b[0mchdir\u001b[0m\u001b[1;33m(\u001b[0m\u001b[0mcwd\u001b[0m\u001b[1;33m)\u001b[0m\u001b[1;33m\u001b[0m\u001b[0m\n",
      "\u001b[1;31mNameError\u001b[0m: name '__file__' is not defined"
     ]
    }
   ],
   "source": [
    "#Load necessary libraries\n",
    "import mne\n",
    "import os\n",
    "import os.path as op\n",
    "import numpy as np\n",
    "import pandas as pd\n",
    "import scipy.io as sio\n",
    "from scipy import stats\n",
    "from fldtrp2mne_calc import fldtrp2mne_calc\n",
    "from calc_classification import calc_classification\n",
    "from calc_regression import calc_regression\n",
    "from calc_decoding_cfg import (result_path)\n"
   ]
  },
  {
   "cell_type": "code",
   "execution_count": 7,
   "metadata": {
    "collapsed": false
   },
   "outputs": [
    {
     "name": "stdout",
     "output_type": "stream",
     "text": [
      "Applying baseline correction (mode: mean)\n",
      "The measurement information indicates a low-pass frequency of 125 Hz. The decim=2 parameter will result in a sampling frequency of 125 Hz, which can cause aliasing artifacts.\n"
     ]
    },
    {
     "name": "stderr",
     "output_type": "stream",
     "text": [
      "/volatile/anaconda/lib/python2.7/site-packages/ipykernel/__main__.py:21: RuntimeWarning: The measurement information indicates a low-pass frequency of 125 Hz. The decim=2 parameter will result in a sampling frequency of 125 Hz, which can cause aliasing artifacts.\n"
     ]
    }
   ],
   "source": [
    "from calc_decoding_cfg import (data_path, baseline, downsampling)\n",
    "#Decoding\n",
    "Subject = 's01'\n",
    "Condition = ['pres_34', 'pres_34']\n",
    "Type = 'class'\n",
    "trainset = Condition[0] # and then this will be already known when calling the function\n",
    "testset = Condition[1]\n",
    "\n",
    "params = {'baseline': baseline, 'downsampling': downsampling,\n",
    "'classification': Condition, 'trainset': trainset, \n",
    "'testset': testset}\n",
    "\n",
    "fname_calc = data_path + '/' + Subject + '_calc.mat'\n",
    "fname_vsa = data_path + '/' + Subject + '_vsa.mat'\n",
    "epoch_calc,info_calc = fldtrp2mne_calc(fname_calc, 'data', 'calc')\n",
    "#epoch_vsa,info_vsa = fldtrp2mne_calc(fname_vsa, 'data', 'vsa')\n",
    "epoch_calc.apply_baseline(baseline)\n",
    "#epoch_vsa.apply_baseline(baseline)\n",
    "\n",
    "#Downsample data if needed\n",
    "if downsampling > 0:\n",
    "    epoch_calc.decimate(downsampling)\n",
    "    #epoch_vsa.decimate(downsampling)"
   ]
  },
  {
   "cell_type": "code",
   "execution_count": 8,
   "metadata": {
    "collapsed": true
   },
   "outputs": [],
   "source": [
    "if trainset[-1] == testset[-1]: #Check whether we are training and testing on the same data\n",
    "\tmode = 'cross-validation'\n",
    "\tif trainset == 'op1':\n",
    "\t\tX_train = epoch_calc\n",
    "\t\ty_train = np.array(info_calc['operand1'])\n",
    "\t\ty_train = y_train.astype(np.float64)\n",
    "\t\tX_test = X_train\n",
    "\t\ty_test = y_train\n",
    "\telif trainset == 'op2':\n",
    "\t\tX_train = epoch_calc\n",
    "\t\ty_train = np.array(info_calc['operand2'])\n",
    "\t\ty_train = y_train.astype(np.float64)\n",
    "\t\tX_test = X_train\n",
    "\t\ty_test = y_train\n",
    "\telif trainset == 'pres':\n",
    "\t\tX_train = epoch_calc[(info_calc['preResult'] >= 3) & (info_calc['preResult'] <= 6)]\n",
    "\t\ty_train = np.array(info_calc['preResult'])\n",
    "\t\ty_train = y_train.astype(np.float64)\n",
    "\t\tX_test = X_train\n",
    "\t\ty_test = y_train\n",
    "\telif trainset == 'pres_34':\n",
    "\t\ttrain_index = (info_calc['preResult'] == 3) | (info_calc['preResult'] == 4)\n",
    "\t\tX_train = epoch_calc[train_index]\n",
    "\t\ty_train = np.array(info_calc[train_index]['preResult'])\n",
    "\t\ty_train = y_train.astype(np.float64)\n",
    "\t\tX_test = X_train\n",
    "\t\ty_test = y_train\n",
    "\telif trainset == 'pres_35':\n",
    "\t\ttrain_index = (info_calc['preResult'] == 3) | (info_calc['preResult'] == 5)\n",
    "\t\tX_train = epoch_calc[train_index]\n",
    "\t\ty_train = np.array(info_calc[train_index]['preResult'])\n",
    "\t\ty_train = y_train.astype(np.float64)\n",
    "\t\tX_test = X_train\n",
    "\t\ty_test = y_train\n",
    "\telif trainset == 'pres_36':\n",
    "\t\ttrain_index = (info_calc['preResult'] == 3) | (info_calc['preResult'] == 6)\n",
    "\t\tX_train = epoch_calc[train_index]\n",
    "\t\ty_train = np.array(info_calc[train_index]['preResult'])\n",
    "\t\ty_train = y_train.astype(np.float64)\n",
    "\t\tX_test = X_train\n",
    "\t\ty_test = y_train\n",
    "\telif trainset == 'pres_45':\n",
    "\t\ttrain_index = (info_calc['preResult'] == 4) | (info_calc['preResult'] == 5)\n",
    "\t\tX_train = epoch_calc[train_index]\n",
    "\t\ty_train = np.array(info_calc[train_index]['preResult'])\n",
    "\t\ty_train = y_train.astype(np.float64)\n",
    "\t\tX_test = X_train\n",
    "\t\ty_test = y_train\n",
    "\telif trainset == 'pres_46':\n",
    "\t\ttrain_index = (info_calc['preResult'] == 4) | (info_calc['preResult'] == 6)\n",
    "\t\tX_train = epoch_calc[train_index]\n",
    "\t\ty_train = np.array(info_calc[train_index]['preResult'])\n",
    "\t\ty_train = y_train.astype(np.float64)\n",
    "\t\tX_test = X_train\n",
    "\t\ty_test = y_train\n",
    "\telif trainset == 'pres_56':\n",
    "\t\ttrain_index = (info_calc['preResult'] == 5) | (info_calc['preResult'] == 6)\n",
    "\t\tX_train = epoch_calc[train_index]\n",
    "\t\ty_train = np.array(info_calc[train_index]['preResult'])\n",
    "\t\ty_train = y_train.astype(np.float64)\n",
    "\t\tX_test = X_train\n",
    "\t\ty_test = y_train\n",
    "\telif trainset == 'cres':\n",
    "\t\tX_train = epoch_calc[(info_calc['corrResult'] >= 3) & (info_calc['corrResult'] <= 6)]\n",
    "\t\ty_train = np.array(info_calc['corrResult'])\n",
    "\t\ty_train = y_train.astype(np.float64)\n",
    "\t\tX_test = X_train\n",
    "\t\ty_test = y_train\n",
    "\telif trainset == 'presi':\n",
    "\t\ttrain_index = (info_calc['preResult'] >= 3) & (info_calc['preResult'] <= 6) & (info_calc['absdeviant'] > 0)\n",
    "\t\tX_train = epoch_calc[train_index]\n",
    "\t\ty_train = np.array(info_calc[train_index]['preResult'])\n",
    "\t\ty_train = y_train.astype(np.float64)\n",
    "\t\tX_test = X_train\n",
    "\t\ty_test = y_train\n",
    "\telif trainset == 'presc':\n",
    "\t\ttrain_index = (info_calc['preResult'] >= 3) & (info_calc['preResult'] <= 6) & (info_calc['absdeviant'] == 0)\n",
    "\t\tX_train = epoch_calc[train_index]\n",
    "\t\ty_train = np.array(info_calc[train_index]['preResult'])\n",
    "\t\ty_train = y_train.astype(np.float64)\n",
    "\t\tX_test = X_train\n",
    "\t\ty_test = y_train\n",
    "\telif trainset == 'op1comp':\n",
    "\t\ttrain_index = info_calc['operand2'] == 33 # only comparison trials\n",
    "\t\tX_train = epoch_calc[train_index]\n",
    "\t\ty_train = np.array(info_calc[train_index]['operand1'])\n",
    "\t\ty_train = y_train.astype(np.float64)\n",
    "\t\tX_test = X_train\n",
    "\t\ty_test = y_train\n",
    "\telif trainset == 'delay_nodelay':\n",
    "\t\tX_train = epoch_calc\n",
    "\t\ty_train = np.array(info_calc['delay'])\n",
    "\t\ty_train = y_train.astype(np.float64)\n",
    "\t\tX_test = X_train\n",
    "\t\ty_test = y_train\n",
    "\telif trainset == 'op1_34':\n",
    "\t\ttrain_index = (info_calc['operand1'] == 3) | (info_calc['operand1'] == 4)\n",
    "\t\tX_train = epoch_calc[train_index]\n",
    "\t\ty_train = np.array(info_calc[train_index]['operand1'])\n",
    "\t\ty_train = y_train.astype(np.float64)\n",
    "\t\tX_test = X_train\n",
    "\t\ty_test = y_train\n",
    "\telif trainset == 'op1_35':\n",
    "\t\ttrain_index = (info_calc['operand1'] == 3) | (info_calc['operand1'] == 5)\n",
    "\t\tX_train = epoch_calc[train_index]\n",
    "\t\ty_train = np.array(info_calc[train_index]['operand1'])\n",
    "\t\ty_train = y_train.astype(np.float64)\n",
    "\t\tX_test = X_train\n",
    "\t\ty_test = y_train\n",
    "\telif trainset == 'op1_36':\n",
    "\t\ttrain_index = (info_calc['operand1'] == 3) | (info_calc['operand1'] == 6)\n",
    "\t\tX_train = epoch_calc[train_index]\n",
    "\t\ty_train = np.array(info_calc[train_index]['operand1'])\n",
    "\t\ty_train = y_train.astype(np.float64)\n",
    "\t\tX_test = X_train\n",
    "\t\ty_test = y_train\n",
    "\telif trainset == 'op1_45':\n",
    "\t\ttrain_index = (info_calc['operand1'] == 4) | (info_calc['operand1'] == 5)\n",
    "\t\tX_train = epoch_calc[train_index]\n",
    "\t\ty_train = np.array(info_calc[train_index]['operand1'])\n",
    "\t\ty_train = y_train.astype(np.float64)\n",
    "\t\tX_test = X_train\n",
    "\t\ty_test = y_train\n",
    "\telif trainset == 'op1_46':\n",
    "\t\ttrain_index = (info_calc['operand1'] == 4) | (info_calc['operand1'] == 6)\n",
    "\t\tX_train = epoch_calc[train_index]\n",
    "\t\ty_train = np.array(info_calc[train_index]['operand1'])\n",
    "\t\ty_train = y_train.astype(np.float64)\n",
    "\t\tX_test = X_train\n",
    "\t\ty_test = y_train\n",
    "\telif trainset == 'op1_56':\n",
    "\t\ttrain_index = (info_calc['operand1'] == 5) | (info_calc['operand1'] == 6)\n",
    "\t\tX_train = epoch_calc[train_index]\n",
    "\t\ty_train = np.array(info_calc[train_index]['operand1'])\n",
    "\t\ty_train = y_train.astype(np.float64)\n",
    "\t\tX_test = X_train\n",
    "\t\ty_test = y_train\n",
    "\telif trainset == 'op2_01':\n",
    "\t\ttrain_index = (info_calc['operand2'] == 0) | (info_calc['operand2'] == 1)\n",
    "\t\tX_train = epoch_calc[train_index]\n",
    "\t\ty_train = np.array(info_calc[train_index]['operand2'])\n",
    "\t\ty_train = y_train.astype(np.float64)\n",
    "\t\tX_test = X_train\n",
    "\t\ty_test = y_train\n",
    "\telif trainset == 'op2_02':\n",
    "\t\ttrain_index = (info_calc['operand2'] == 0) | (info_calc['operand2'] == 2)\n",
    "\t\tX_train = epoch_calc[train_index]\n",
    "\t\ty_train = np.array(info_calc[train_index]['operand2'])\n",
    "\t\ty_train = y_train.astype(np.float64)\n",
    "\t\tX_test = X_train\n",
    "\t\ty_test = y_train\n",
    "\telif trainset == 'op2_03':\n",
    "\t\ttrain_index = (info_calc['operand2'] == 0) | (info_calc['operand2'] == 3)\n",
    "\t\tX_train = epoch_calc[train_index]\n",
    "\t\ty_train = np.array(info_calc[train_index]['operand2'])\n",
    "\t\ty_train = y_train.astype(np.float64)\n",
    "\t\tX_test = X_train\n",
    "\t\ty_test = y_train\n",
    "\telif trainset == 'op2_12':\n",
    "\t\ttrain_index = (info_calc['operand2'] == 1) | (info_calc['operand2'] == 2)\n",
    "\t\tX_train = epoch_calc[train_index]\n",
    "\t\ty_train = np.array(info_calc[train_index]['operand2'])\n",
    "\t\ty_train = y_train.astype(np.float64)\n",
    "\t\tX_test = X_train\n",
    "\t\ty_test = y_train\n",
    "\telif trainset == 'op2_13':\n",
    "\t\ttrain_index = (info_calc['operand2'] == 1) | (info_calc['operand2'] == 3)\n",
    "\t\tX_train = epoch_calc[train_index]\n",
    "\t\ty_train = np.array(info_calc[train_index]['operand2'])\n",
    "\t\ty_train = y_train.astype(np.float64)\n",
    "\t\tX_test = X_train\n",
    "\t\ty_test = y_train\n",
    "\telif trainset == 'op2_23':\n",
    "\t\ttrain_index = (info_calc['operand2'] == 2) | (info_calc['operand2'] == 3)\n",
    "\t\tX_train = epoch_calc[train_index]\n",
    "\t\ty_train = np.array(info_calc[train_index]['operand2'])\n",
    "\t\ty_train = y_train.astype(np.float64)\n",
    "\t\tX_test = X_train\n",
    "\t\ty_test = y_train\n",
    "else:\n",
    "\tmode = 'mean-prediction'\n",
    "\tif (trainset == 'op1') & (testset == 'prescdelay'):\n",
    "\t\ttrain_index = info_calc['operand1'] != info_calc['preResult']\n",
    "\t\ttest_index = (info_calc['preResult'] >= 3) & (info_calc['preResult'] <= 6) & (info_calc['absdeviant'] == 0) & (info_calc['delay'] == 1)\n",
    "\t\tX_train = epoch_calc[train_index]\n",
    "\t\ty_train = np.array(info_calc[train_index]['operand1'])\n",
    "\t\ty_train = y_train.astype(np.float64)\n",
    "\t\tX_test = epoch_calc[test_index]\n",
    "\t\ty_test = np.array(info_calc[test_index]['preResult'])\n",
    "\t\ty_test = y_test.astype(np.float64)\n",
    "\telif (trainset == 'op1') & (testset == 'prescnodelay'):\n",
    "\t\ttrain_index = info_calc['operand1'] != info_calc['preResult']\n",
    "\t\ttest_index = (info_calc['preResult'] >= 3) & (info_calc['preResult'] <= 6) & (info_calc['absdeviant'] == 0) & (info_calc['delay'] == 0)\n",
    "\t\tX_train = epoch_calc[train_index]\n",
    "\t\ty_train = np.array(info_calc[train_index]['operand1'])\n",
    "\t\ty_train = y_train.astype(np.float64)\n",
    "\t\tX_test = epoch_calc[test_index]\n",
    "\t\ty_test = np.array(info_calc[test_index]['preResult'])\n",
    "\t\ty_test = y_test.astype(np.float64)\n",
    "\telif (trainset == 'op1') & (testset == 'presinodelay'):\n",
    "\t\ttrain_index = info_calc['operand2'] > 0\n",
    "\t\ttest_index = (info_calc['preResult'] >= 3) & (info_calc['preResult'] <= 6) & (info_calc['absdeviant'] > 1) & (info_calc['delay'] == 0)\n",
    "\t\tX_train = epoch_calc[train_index]\n",
    "\t\ty_train = np.array(info_calc[train_index]['operand1'])\n",
    "\t\ty_train = y_train.astype(np.float64)\n",
    "\t\tX_test = epoch_calc[test_index]\n",
    "\t\ty_test = np.array(info_calc[test_index]['preResult'])\n",
    "\t\ty_test = y_test.astype(np.float64)\n",
    "\telif (trainset == 'op1') & (testset == 'presidelay'):\n",
    "\t\ttrain_index = info_calc['operand2'] > 0\n",
    "\t\ttest_index = (info_calc['preResult'] >= 3) & (info_calc['preResult'] <= 6) & (info_calc['absdeviant'] > 1) & (info_calc['delay'] == 1)\n",
    "\t\tX_train = epoch_calc[train_index]\n",
    "\t\ty_train = np.array(info_calc[train_index]['operand1'])\n",
    "\t\ty_train = y_train.astype(np.float64)\n",
    "\t\tX_test = epoch_calc[test_index]\n",
    "\t\ty_test = np.array(info_calc[test_index]['preResult'])\n",
    "\t\ty_test = y_test.astype(np.float64)\n",
    "\telif (trainset == 'op1') & (testset == 'pres'):\n",
    "\t\ttrain_index = info_calc['operand1'] != info_calc['preResult']\n",
    "\t\ttest_index = info_calc['operand1'] == info_calc['preResult']\n",
    "\t\tX_train = epoch_calc[train_index]\n",
    "\t\ty_train = np.array(info_calc[train_index]['operand1'])\n",
    "\t\ty_train = y_train.astype(np.float64)\n",
    "\t\tX_test = epoch_calc[test_index]\n",
    "\t\ty_test = np.array(info_calc[test_index]['preResult'])\n",
    "\t\ty_test = y_test.astype(np.float64)"
   ]
  },
  {
   "cell_type": "code",
   "execution_count": 11,
   "metadata": {
    "collapsed": false
   },
   "outputs": [],
   "source": [
    "params.update({'mode': mode})"
   ]
  },
  {
   "cell_type": "code",
   "execution_count": 14,
   "metadata": {
    "collapsed": false
   },
   "outputs": [
    {
     "name": "stderr",
     "output_type": "stream",
     "text": [
      "[Parallel(n_jobs=6)]: Done   6 out of   6 | elapsed:   12.7s finished\n",
      "[Parallel(n_jobs=6)]: Done   6 out of   6 | elapsed:  3.2min finished\n"
     ]
    },
    {
     "name": "stdout",
     "output_type": "stream",
     "text": [
      "Decoding subject classification\n"
     ]
    },
    {
     "name": "stderr",
     "output_type": "stream",
     "text": [
      "[Parallel(n_jobs=6)]: Done   6 out of   6 | elapsed:   24.8s finished\n"
     ]
    }
   ],
   "source": [
    "#Decode\n",
    "if Type == 'class':\n",
    "\tgat, score, diagonal = calc_classification(X_train, y_train, X_test, y_test, params)\n",
    "\tprint('Decoding subject classification')\n",
    "elif Type == 'reg':\n",
    "\tgat, score, diagonal = calc_regression(X_train, y_train, X_test, y_test, params)\n",
    "\tprint('Decoding subject regression')"
   ]
  },
  {
   "cell_type": "code",
   "execution_count": 15,
   "metadata": {
    "collapsed": false
   },
   "outputs": [
    {
     "data": {
      "text/plain": [
       "<GAT | fitted, start : -0.500 (s), stop : 4.500 (s), predicted 98 epochs,\n",
       " scored (accuracy_score)>"
      ]
     },
     "execution_count": 15,
     "metadata": {},
     "output_type": "execute_result"
    }
   ],
   "source": [
    "gat"
   ]
  },
  {
   "cell_type": "code",
   "execution_count": null,
   "metadata": {
    "collapsed": false
   },
   "outputs": [],
   "source": []
  }
 ],
 "metadata": {
  "kernelspec": {
   "display_name": "Python 2",
   "language": "python",
   "name": "python2"
  },
  "language_info": {
   "codemirror_mode": {
    "name": "ipython",
    "version": 2
   },
   "file_extension": ".py",
   "mimetype": "text/x-python",
   "name": "python",
   "nbconvert_exporter": "python",
   "pygments_lexer": "ipython2",
   "version": "2.7.11"
  }
 },
 "nbformat": 4,
 "nbformat_minor": 0
}
