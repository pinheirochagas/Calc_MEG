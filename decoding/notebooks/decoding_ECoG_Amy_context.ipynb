{
 "cells": [
  {
   "cell_type": "code",
   "execution_count": null,
   "metadata": {
    "collapsed": true
   },
   "outputs": [],
   "source": [
    "### DECODING NUMBERS FROM ECoG - AMY'S DATA"
   ]
  },
  {
   "cell_type": "code",
   "execution_count": 10,
   "metadata": {
    "collapsed": false
   },
   "outputs": [],
   "source": [
    "%matplotlib inline \n",
    "# Import needed libraries\n",
    "import sys \n",
    "#sys.path.append('/neurospin/meg/meg_tmp/Calculation_Pedro_2014/scripts/decoding')\n",
    "sys.path.append('/Users/pinheirochagas/Pedro/NeuroSpin/Experiments/Calc_MEG/scripts_git/Calc_MEG/decoding/')\n",
    "from ecog2mne_calculia import ecog2mne_calculia\n",
    "import numpy as np\n",
    "from calc_classification import calc_classification\n",
    "from jr.plot import pretty_gat, pretty_decod\n",
    "from jr_tweaked.plot import pretty_gat, pretty_decod\n",
    "import mne\n",
    "from mne.decoding import GeneralizationAcrossTime\n",
    "from scipy.stats import itemfreq\n",
    "import random\n",
    "import matplotlib.pyplot as plt\n",
    "import scipy.io as sio\n"
   ]
  },
  {
   "cell_type": "code",
   "execution_count": 2,
   "metadata": {
    "collapsed": false
   },
   "outputs": [],
   "source": [
    "### Let's start by subject 64, who showed a nice response in NFA \n",
    "# Define directories and data name\n",
    "result_path = '/Volumes/NeuroSpin2T/Calc_ECoG/analysis_ECoG/neuralData/SpecData/S13_57_TVD/decoding/'\n",
    "fname_ecog = '/Volumes/NeuroSpin2T/Calc_ECoG/analysis_ECoG/neuralData/SpecData/S13_57_TVD/data_fieldtrip/S13_57_TVD_context.mat'\n",
    "# Load data \n",
    "epoch_calc,info_calc = ecog2mne_calculia(fname_ecog, 'data', 'context')\n",
    "\n",
    "#result_path = '/Volumes/NeuroSpin2T/Calculia/validdata/S16_94_DR/data_fieldtrip/decoding/'\n",
    "#fname_ecog = '/Volumes/NeuroSpin2T/Calculia/validdata/S16_94_DR/data_fieldtrip/S16_94_DR_selected.mat'"
   ]
  },
  {
   "cell_type": "code",
   "execution_count": 3,
   "metadata": {
    "collapsed": false
   },
   "outputs": [
    {
     "name": "stdout",
     "output_type": "stream",
     "text": [
      "The measurement information indicates a low-pass frequency of 254.313 Hz. The decim=2 parameter will result in a sampling frequency of 254.313 Hz, which can cause aliasing artifacts.\n"
     ]
    },
    {
     "name": "stderr",
     "output_type": "stream",
     "text": [
      "/Users/pinheirochagas/anaconda/lib/python2.7/site-packages/ipykernel/__main__.py:6: RuntimeWarning: The measurement information indicates a low-pass frequency of 254.313 Hz. The decim=2 parameter will result in a sampling frequency of 254.313 Hz, which can cause aliasing artifacts.\n"
     ]
    },
    {
     "data": {
      "text/plain": [
       "<EpochsArray  |  n_events : 96 (all good), tmin : -0.200540016253 (s), tmax : 6.49592366372 (s), baseline : None>"
      ]
     },
     "execution_count": 3,
     "metadata": {},
     "output_type": "execute_result"
    }
   ],
   "source": [
    "### Baseline correction and downsampling\n",
    "#baseline = (-0.5, -0.05) #time for the baseline period\n",
    "#epoch_calc.apply_baseline(baseline)\n",
    "\n",
    "downsampling = 2\n",
    "epoch_calc.decimate(downsampling)"
   ]
  },
  {
   "cell_type": "code",
   "execution_count": null,
   "metadata": {
    "collapsed": false
   },
   "outputs": [],
   "source": [
    "#Let's first see if we can decode operand 1"
   ]
  },
  {
   "cell_type": "code",
   "execution_count": null,
   "metadata": {
    "collapsed": false
   },
   "outputs": [],
   "source": [
    "# Let's start with all channels \n"
   ]
  },
  {
   "cell_type": "code",
   "execution_count": null,
   "metadata": {
    "collapsed": false
   },
   "outputs": [],
   "source": []
  },
  {
   "cell_type": "code",
   "execution_count": 4,
   "metadata": {
    "collapsed": true
   },
   "outputs": [],
   "source": [
    "#Define decoding parameters\n",
    "trainTimes = {'start': -0.2, 'stop': 5}\n",
    "testTimes = {'start': -0.2, 'stop': 5}\n",
    "params = {'trainTimes': trainTimes, 'testTimes': testTimes}"
   ]
  },
  {
   "cell_type": "code",
   "execution_count": 5,
   "metadata": {
    "collapsed": true
   },
   "outputs": [],
   "source": [
    "# Select the number of trials and the channels\n",
    "epoch_calcS = epoch_calc # copy the data\n",
    "info_calcS = info_calc\n",
    "\n",
    "# # Randomly select 122 calculation trials (just to make sure that the decoding is working with balanced classes)\n",
    "# freqConditions = itemfreq(info_calc['isCalc'])\n",
    "# isCalcIdx = np.where(info_calc['isCalc']==1)[0]\n",
    "# isCalcIdx = random.sample(isCalcIdx, 122)\n",
    "# isCalcIdxAll = np.concatenate((isCalcIdx,np.where(info_calc['isCalc']==0)[0]))\n",
    "\n",
    "# # Rewrite the epochs\n",
    "# epoch_calcS = epoch_calcS[isCalcIdxAll]\n",
    "# info_calcS = info_calc.iloc[isCalcIdxAll]"
   ]
  },
  {
   "cell_type": "code",
   "execution_count": null,
   "metadata": {
    "collapsed": true
   },
   "outputs": [],
   "source": [
    "# Select some channels\n",
    "chan_list = epoch_calcS.ch_names\n",
    "\n",
    "\n",
    "# epoch_calcS.pick_channels(chan_list[0:36])"
   ]
  },
  {
   "cell_type": "code",
   "execution_count": null,
   "metadata": {
    "collapsed": false
   },
   "outputs": [],
   "source": [
    "chan_list"
   ]
  },
  {
   "cell_type": "code",
   "execution_count": null,
   "metadata": {
    "collapsed": false
   },
   "outputs": [],
   "source": [
    "epoch_calcS.drop_channels(chan_list[18:19])"
   ]
  },
  {
   "cell_type": "code",
   "execution_count": null,
   "metadata": {
    "collapsed": false
   },
   "outputs": [],
   "source": [
    "# Plot evoked responses just to check\n",
    "condA = info_calcS['operand1'] <10\n",
    "evoked_condA = epoch_calcS[condA].average() # condA = info_calc['isCalc'] == 1\n",
    "evoked_condA.plot()\n",
    "\n",
    "\n"
   ]
  },
  {
   "cell_type": "code",
   "execution_count": null,
   "metadata": {
    "collapsed": false
   },
   "outputs": [],
   "source": []
  },
  {
   "cell_type": "code",
   "execution_count": 6,
   "metadata": {
    "collapsed": false
   },
   "outputs": [],
   "source": [
    "# Train and test data\n",
    "train_index = (info_calcS['operand1'] < 20) # all trials\n",
    "X_train = epoch_calcS[train_index]\n",
    "y_train = np.array(info_calcS[train_index]['operand1'])\n",
    "y_train = y_train.astype(np.float64)\n",
    "X_test = X_train\n",
    "y_test = y_train\n",
    "mode = 'cross-validation'\n",
    "params.update({'mode': mode})"
   ]
  },
  {
   "cell_type": "code",
   "execution_count": 7,
   "metadata": {
    "collapsed": false
   },
   "outputs": [
    {
     "name": "stderr",
     "output_type": "stream",
     "text": [
      "[Parallel(n_jobs=6)]: Done   6 out of   6 | elapsed:   10.9s finished\n",
      "[Parallel(n_jobs=6)]: Done   6 out of   6 | elapsed:  8.6min finished\n",
      "[Parallel(n_jobs=6)]: Done   6 out of   6 | elapsed:  4.6min finished\n"
     ]
    }
   ],
   "source": [
    "# Run GAT decoding and save results\n",
    "gat, score, diagonal = calc_classification(X_train, y_train, X_test, y_test, params)\n",
    "results = {'params': params, 'times_calc': epoch_calc.times, 'score': score, 'diagonal': diagonal, 'y_train': y_train, 'y_test': y_test}\n",
    "fname = result_path + 'decoding_operand1_context'\n",
    "np.save(fname, results)"
   ]
  },
  {
   "cell_type": "code",
   "execution_count": 13,
   "metadata": {
    "collapsed": false
   },
   "outputs": [
    {
     "data": {
      "image/png": "[encoded data removed]",
      "text/plain": [
       "<matplotlib.figure.Figure at 0x132676950>"
      ]
     },
     "metadata": {},
     "output_type": "display_data"
    },
    {
     "data": {
      "image/png": "[encoded data removed]",
      "text/plain": [
       "<matplotlib.figure.Figure at 0x130f61510>"
      ]
     },
     "metadata": {},
     "output_type": "display_data"
    }
   ],
   "source": [
    "# Plot results \n",
    "pretty_gat(score, chance=.2, smoothWindow=15)\n",
    "ax = plt.gca()\n",
    "# ax.axvline(.7, color='k',linestyle='dashed') \n",
    "# ax.axvline(1, color='k',linestyle='dotted')    \n",
    "# ax.axvline(1.4, color='k',linestyle='dashed') \n",
    "# ax.axvline(1.9, color='k',linestyle='dotted')\n",
    "# ax.axvline(2.4, color='k',linestyle='dashed') \n",
    "# ax.axvline(2.9, color='k',linestyle='dotted')\n",
    "# ax.axvline(3.4, color='k',linestyle='dashed') \n",
    "# ax.axvline(3.9, color='k',linestyle='dotted')\n",
    "# ax.axvline(4.4, color='k',linestyle='dashed') \n",
    "# ax.axvline(4.9, color='k',linestyle='dotted')\n",
    "plt.show()\n",
    "pretty_decod(diagonal, chance =.2, smoothWindow=15)\n",
    "ax = plt.gca()\n",
    "# ax.axvline(.5, color='k',linestyle='dashed') \n",
    "# ax.axvline(1, color='k',linestyle='dotted')    \n",
    "# ax.axvline(1.4, color='k',linestyle='dashed') \n",
    "# ax.axvline(1.9, color='k',linestyle='dotted')\n",
    "# ax.axvline(2.4, color='k',linestyle='dashed') \n",
    "# ax.axvline(2.9, color='k',linestyle='dotted')\n",
    "# ax.axvline(3.4, color='k',linestyle='dashed') \n",
    "# ax.axvline(3.9, color='k',linestyle='dotted')\n",
    "# ax.axvline(4.4, color='k',linestyle='dashed') \n",
    "# ax.axvline(4.9, color='k',linestyle='dotted') \n",
    "plt.show()"
   ]
  },
  {
   "cell_type": "code",
   "execution_count": 14,
   "metadata": {
    "collapsed": false
   },
   "outputs": [],
   "source": [
    "# Train and test data\n",
    "train_index = (info_calcS['operand1'] < 20) # all trials\n",
    "X_train = epoch_calcS[train_index]\n",
    "y_train = np.array(info_calcS[train_index]['operand2'])\n",
    "y_train = y_train.astype(np.float64)\n",
    "X_test = X_train\n",
    "y_test = y_train\n",
    "mode = 'cross-validation'\n",
    "params.update({'mode': mode})"
   ]
  },
  {
   "cell_type": "code",
   "execution_count": null,
   "metadata": {
    "collapsed": true
   },
   "outputs": [],
   "source": [
    "# Run GAT decoding and save results\n",
    "gat, score, diagonal = calc_classification(X_train, y_train, X_test, y_test, params)\n",
    "results = {'params': params, 'times_calc': epoch_calc.times, 'score': score, 'diagonal': diagonal, 'y_train': y_train, 'y_test': y_test}\n",
    "fname = result_path + 'decoding_operand2_context'\n",
    "np.save(fname, results)"
   ]
  },
  {
   "cell_type": "code",
   "execution_count": null,
   "metadata": {
    "collapsed": true
   },
   "outputs": [],
   "source": [
    "# Plot results \n",
    "pretty_gat(score, chance=., smoothWindow=15)\n",
    "ax = plt.gca()\n",
    "# ax.axvline(.7, color='k',linestyle='dashed') \n",
    "# ax.axvline(1, color='k',linestyle='dotted')    \n",
    "# ax.axvline(1.4, color='k',linestyle='dashed') \n",
    "# ax.axvline(1.9, color='k',linestyle='dotted')\n",
    "# ax.axvline(2.4, color='k',linestyle='dashed') \n",
    "# ax.axvline(2.9, color='k',linestyle='dotted')\n",
    "# ax.axvline(3.4, color='k',linestyle='dashed') \n",
    "# ax.axvline(3.9, color='k',linestyle='dotted')\n",
    "# ax.axvline(4.4, color='k',linestyle='dashed') \n",
    "# ax.axvline(4.9, color='k',linestyle='dotted')\n",
    "plt.show()\n",
    "pretty_decod(diagonal, chance =.5, smoothWindow=15)\n",
    "ax = plt.gca()\n",
    "# ax.axvline(.5, color='k',linestyle='dashed') \n",
    "# ax.axvline(1, color='k',linestyle='dotted')    \n",
    "# ax.axvline(1.4, color='k',linestyle='dashed') \n",
    "# ax.axvline(1.9, color='k',linestyle='dotted')\n",
    "# ax.axvline(2.4, color='k',linestyle='dashed') \n",
    "# ax.axvline(2.9, color='k',linestyle='dotted')\n",
    "# ax.axvline(3.4, color='k',linestyle='dashed') \n",
    "# ax.axvline(3.9, color='k',linestyle='dotted')\n",
    "# ax.axvline(4.4, color='k',linestyle='dashed') \n",
    "# ax.axvline(4.9, color='k',linestyle='dotted') \n",
    "plt.show()"
   ]
  },
  {
   "cell_type": "code",
   "execution_count": null,
   "metadata": {
    "collapsed": true
   },
   "outputs": [],
   "source": [
    "### Now let's focus on the VTC channels"
   ]
  },
  {
   "cell_type": "code",
   "execution_count": null,
   "metadata": {
    "collapsed": false
   },
   "outputs": [],
   "source": [
    "# Select the number of trials and the channels\n",
    "epoch_calcS = epoch_calc # copy the data\n",
    "info_calcS = info_calc\n",
    "\n",
    "# Randomly select 122 calculation trials (just to make sure that the decoding is working with balanced classes)\n",
    "freqConditions = itemfreq(info_calc['isCalc'])\n",
    "isCalcIdx = np.where(info_calc['isCalc']==1)[0]\n",
    "isCalcIdx = random.sample(isCalcIdx, 122)\n",
    "isCalcIdxAll = np.concatenate((isCalcIdx,np.where(info_calc['isCalc']==0)[0]))\n",
    "\n",
    "# Rewrite the epochs\n",
    "epoch_calcS = epoch_calcS[isCalcIdxAll]\n",
    "info_calcS = info_calc.iloc[isCalcIdxAll]\n",
    "\n",
    "# Select some channels\n",
    "chan_list = epoch_calcS.ch_names\n",
    "epoch_calcS.pick_channels(chan_list[0:36])"
   ]
  },
  {
   "cell_type": "code",
   "execution_count": null,
   "metadata": {
    "collapsed": false
   },
   "outputs": [],
   "source": [
    "# Plot evoked responses just to check\n",
    "condA = info_calcS['isCalc'] == 1\n",
    "condB = info_calcS['isCalc'] == 0\n",
    "evoked_condA = epoch_calcS[condA].average() # condA = info_calc['isCalc'] == 1\n",
    "evoked_condB = epoch_calcS[condB].average() # \n",
    "evoked_condA.plot()\n",
    "evoked_condB.plot()"
   ]
  },
  {
   "cell_type": "code",
   "execution_count": null,
   "metadata": {
    "collapsed": false
   },
   "outputs": [],
   "source": [
    "# Train and test data\n",
    "train_index = (info_calcS['isCalc'] < 10) # all trials\n",
    "X_train = epoch_calcS[train_index]\n",
    "y_train = np.array(info_calcS[train_index]['isCalc'])\n",
    "y_train = y_train.astype(np.float64)\n",
    "X_test = X_train\n",
    "y_test = y_train\n",
    "mode = 'cross-validation'\n",
    "params.update({'mode': mode})"
   ]
  },
  {
   "cell_type": "code",
   "execution_count": null,
   "metadata": {
    "collapsed": false
   },
   "outputs": [],
   "source": [
    "# Run GAT decoding and save results\n",
    "gat, score, diagonal = calc_classification(X_train, y_train, X_test, y_test, params)\n",
    "results = {'params': params, 'times_calc': epoch_calc.times, 'score': score, 'diagonal': diagonal, 'y_train': y_train, 'y_test': y_test}\n",
    "fname = result_path + 'decoding_iscalc_VTC'\n",
    "np.save(fname, results)"
   ]
  },
  {
   "cell_type": "code",
   "execution_count": null,
   "metadata": {
    "collapsed": true
   },
   "outputs": [],
   "source": [
    "fnameLoad = result_path + 'decoding_iscalc_VTC.npy'\n",
    "results_load = np.load(fnameLoad)\n",
    "results_load = results_load.tolist()\n",
    "score = results_load['score']\n",
    "diagonal = results_load['diagonal']"
   ]
  },
  {
   "cell_type": "code",
   "execution_count": null,
   "metadata": {
    "collapsed": false
   },
   "outputs": [],
   "source": [
    "# Plot results \n",
    "pretty_gat(score, chance=.5, smoothWindow=15)\n",
    "ax = plt.gca()\n",
    "ax.axvline(.5, color='k',linestyle='dashed') \n",
    "ax.axvline(1, color='k',linestyle='dotted')    \n",
    "ax.axvline(1.4, color='k',linestyle='dashed') \n",
    "ax.axvline(1.9, color='k',linestyle='dotted')\n",
    "ax.axvline(2.4, color='k',linestyle='dashed') \n",
    "ax.axvline(2.9, color='k',linestyle='dotted')\n",
    "ax.axvline(3.4, color='k',linestyle='dashed') \n",
    "ax.axvline(3.9, color='k',linestyle='dotted')\n",
    "ax.axvline(4.4, color='k',linestyle='dashed') \n",
    "ax.axvline(4.9, color='k',linestyle='dotted')\n",
    "plt.show()\n",
    "pretty_decod(diagonal, chance =.5, smoothWindow=15)\n",
    "ax = plt.gca()\n",
    "ax.axvline(.5, color='k',linestyle='dashed') \n",
    "ax.axvline(1, color='k',linestyle='dotted')    \n",
    "ax.axvline(1.4, color='k',linestyle='dashed') \n",
    "ax.axvline(1.9, color='k',linestyle='dotted')\n",
    "ax.axvline(2.4, color='k',linestyle='dashed') \n",
    "ax.axvline(2.9, color='k',linestyle='dotted')\n",
    "ax.axvline(3.4, color='k',linestyle='dashed') \n",
    "ax.axvline(3.9, color='k',linestyle='dotted')\n",
    "ax.axvline(4.4, color='k',linestyle='dashed') \n",
    "ax.axvline(4.9, color='k',linestyle='dotted') \n",
    "plt.show()"
   ]
  },
  {
   "cell_type": "code",
   "execution_count": null,
   "metadata": {
    "collapsed": false
   },
   "outputs": [],
   "source": [
    "\n"
   ]
  },
  {
   "cell_type": "code",
   "execution_count": null,
   "metadata": {
    "collapsed": false
   },
   "outputs": [],
   "source": [
    "# Now let's focus on channel 8"
   ]
  },
  {
   "cell_type": "code",
   "execution_count": null,
   "metadata": {
    "collapsed": false
   },
   "outputs": [],
   "source": [
    "# Select the number of trials and the channels\n",
    "epoch_calcS = epoch_calc # copy the data\n",
    "info_calcS = info_calc\n",
    "\n",
    "# Randomly select 122 calculation trials (just to make sure that the decoding is working with balanced classes)\n",
    "freqConditions = itemfreq(info_calc['isCalc'])\n",
    "isCalcIdx = np.where(info_calc['isCalc']==1)[0]\n",
    "isCalcIdx = random.sample(isCalcIdx, 122)\n",
    "isCalcIdxAll = np.concatenate((isCalcIdx,np.where(info_calc['isCalc']==0)[0]))\n",
    "\n",
    "# Rewrite the epochs\n",
    "epoch_calcS = epoch_calcS[isCalcIdxAll]\n",
    "info_calcS = info_calc.iloc[isCalcIdxAll]\n",
    "\n",
    "# Select some channels\n",
    "chan_list = epoch_calcS.ch_names\n",
    "epoch_calcS.pick_channels(['S14_64_SP_008'])"
   ]
  },
  {
   "cell_type": "code",
   "execution_count": null,
   "metadata": {
    "collapsed": false
   },
   "outputs": [],
   "source": [
    "# Plot evoked responses just to check\n",
    "condA = info_calcS['isCalc'] == 1\n",
    "condB = info_calcS['isCalc'] == 0\n",
    "evoked_condA = epoch_calcS[condA].average() # condA = info_calc['isCalc'] == 1\n",
    "evoked_condB = epoch_calcS[condB].average() # \n",
    "evoked_condA.plot()\n",
    "evoked_condB.plot()"
   ]
  },
  {
   "cell_type": "code",
   "execution_count": null,
   "metadata": {
    "collapsed": false
   },
   "outputs": [],
   "source": [
    "# Train and test data\n",
    "train_index = (info_calcS['isCalc'] < 10) # all trials\n",
    "X_train = epoch_calcS[train_index]\n",
    "y_train = np.array(info_calcS[train_index]['isCalc'])\n",
    "y_train = y_train.astype(np.float64)\n",
    "X_test = X_train\n",
    "y_test = y_train\n",
    "mode = 'cross-validation'\n",
    "params.update({'mode': mode})"
   ]
  },
  {
   "cell_type": "code",
   "execution_count": null,
   "metadata": {
    "collapsed": false
   },
   "outputs": [],
   "source": [
    "# Run GAT decoding and save results\n",
    "gat, score, diagonal = calc_classification(X_train, y_train, X_test, y_test, params)\n",
    "results = {'params': params, 'times_calc': epoch_calc.times, 'score': score, 'diagonal': diagonal, 'y_train': y_train, 'y_test': y_test}\n",
    "fname = result_path + 'decoding_iscalc_channel8'\n",
    "np.save(fname, results)"
   ]
  },
  {
   "cell_type": "code",
   "execution_count": null,
   "metadata": {
    "collapsed": false
   },
   "outputs": [],
   "source": [
    "# Plot results \n",
    "pretty_gat(score, chance=.5,smoothWindow=15)\n",
    "ax = plt.gca()\n",
    "ax.axvline(.5, color='k',linestyle='dashed') \n",
    "ax.axvline(1, color='k',linestyle='dotted')    \n",
    "ax.axvline(1.4, color='k',linestyle='dashed') \n",
    "ax.axvline(1.9, color='k',linestyle='dotted')\n",
    "ax.axvline(2.4, color='k',linestyle='dashed') \n",
    "ax.axvline(2.9, color='k',linestyle='dotted')\n",
    "ax.axvline(3.4, color='k',linestyle='dashed') \n",
    "ax.axvline(3.9, color='k',linestyle='dotted')\n",
    "ax.axvline(4.4, color='k',linestyle='dashed') \n",
    "ax.axvline(4.9, color='k',linestyle='dotted')\n",
    "plt.show()\n",
    "pretty_decod(diagonal, chance =.5, smoothWindow=15)\n",
    "ax = plt.gca()\n",
    "ax.axvline(.5, color='k',linestyle='dashed') \n",
    "ax.axvline(1, color='k',linestyle='dotted')    \n",
    "ax.axvline(1.4, color='k',linestyle='dashed') \n",
    "ax.axvline(1.9, color='k',linestyle='dotted')\n",
    "ax.axvline(2.4, color='k',linestyle='dashed') \n",
    "ax.axvline(2.9, color='k',linestyle='dotted')\n",
    "ax.axvline(3.4, color='k',linestyle='dashed') \n",
    "ax.axvline(3.9, color='k',linestyle='dotted')\n",
    "ax.axvline(4.4, color='k',linestyle='dashed') \n",
    "ax.axvline(4.9, color='k',linestyle='dotted') \n",
    "plt.show()"
   ]
  },
  {
   "cell_type": "code",
   "execution_count": null,
   "metadata": {
    "collapsed": false
   },
   "outputs": [],
   "source": [
    "# Now let's remove channel 8 from the VTC"
   ]
  },
  {
   "cell_type": "code",
   "execution_count": null,
   "metadata": {
    "collapsed": false,
    "scrolled": true
   },
   "outputs": [],
   "source": [
    "# Select the number of trials and the channels\n",
    "epoch_calcS = epoch_calc # copy the data\n",
    "info_calcS = info_calc\n",
    "\n",
    "# Randomly select 122 calculation trials (just to make sure that the decoding is working with balanced classes)\n",
    "freqConditions = itemfreq(info_calc['isCalc'])\n",
    "isCalcIdx = np.where(info_calc['isCalc']==1)[0]\n",
    "isCalcIdx = random.sample(isCalcIdx, 122)\n",
    "isCalcIdxAll = np.concatenate((isCalcIdx,np.where(info_calc['isCalc']==0)[0]))\n",
    "\n",
    "# Rewrite the epochs\n",
    "epoch_calcS = epoch_calcS[isCalcIdxAll]\n",
    "info_calcS = info_calc.iloc[isCalcIdxAll]\n",
    "\n",
    "# Select some channels\n",
    "chan_list = epoch_calcS.ch_names\n",
    "epoch_calcS.pick_channels(chan_list[0:36])\n",
    "epoch_calcS.drop_channels(chan_list[7:8])"
   ]
  },
  {
   "cell_type": "code",
   "execution_count": null,
   "metadata": {
    "collapsed": false
   },
   "outputs": [],
   "source": [
    "# Plot evoked responses just to check\n",
    "condA = info_calcS['isCalc'] == 1\n",
    "condB = info_calcS['isCalc'] == 0\n",
    "evoked_condA = epoch_calcS[condA].average() # condA = info_calc['isCalc'] == 1\n",
    "evoked_condB = epoch_calcS[condB].average() # \n",
    "evoked_condA.plot()\n",
    "evoked_condB.plot()"
   ]
  },
  {
   "cell_type": "code",
   "execution_count": null,
   "metadata": {
    "collapsed": false
   },
   "outputs": [],
   "source": [
    "# Train and test data\n",
    "train_index = (info_calcS['isCalc'] < 10) # all trials\n",
    "X_train = epoch_calcS[train_index]\n",
    "y_train = np.array(info_calcS[train_index]['isCalc'])\n",
    "y_train = y_train.astype(np.float64)\n",
    "X_test = X_train\n",
    "y_test = y_train\n",
    "mode = 'cross-validation'\n",
    "params.update({'mode': mode})"
   ]
  },
  {
   "cell_type": "code",
   "execution_count": null,
   "metadata": {
    "collapsed": false
   },
   "outputs": [],
   "source": [
    "# Run GAT decoding and save results\n",
    "gat, score, diagonal = calc_classification(X_train, y_train, X_test, y_test, params)\n",
    "results = {'params': params, 'times_calc': epoch_calc.times, 'score': score, 'diagonal': diagonal, 'y_train': y_train, 'y_test': y_test}\n",
    "fname = result_path + 'decoding_iscalc_VTC_except8.npy'\n",
    "np.save(fname, results)"
   ]
  },
  {
   "cell_type": "code",
   "execution_count": null,
   "metadata": {
    "collapsed": false
   },
   "outputs": [],
   "source": [
    "# Plot results \n",
    "pretty_gat(score, chance=.5, smoothWindow=15)\n",
    "ax = plt.gca()\n",
    "ax.axvline(.5, color='k',linestyle='dashed') \n",
    "ax.axvline(1, color='k',linestyle='dotted')    \n",
    "ax.axvline(1.4, color='k',linestyle='dashed') \n",
    "ax.axvline(1.9, color='k',linestyle='dotted')\n",
    "ax.axvline(2.4, color='k',linestyle='dashed') \n",
    "ax.axvline(2.9, color='k',linestyle='dotted')\n",
    "ax.axvline(3.4, color='k',linestyle='dashed') \n",
    "ax.axvline(3.9, color='k',linestyle='dotted')\n",
    "ax.axvline(4.4, color='k',linestyle='dashed') \n",
    "ax.axvline(4.9, color='k',linestyle='dotted')\n",
    "plt.show()\n",
    "pretty_decod(diagonal, chance =.5, smoothWindow=15)\n",
    "ax = plt.gca()\n",
    "ax.axvline(.5, color='k',linestyle='dashed') \n",
    "ax.axvline(1, color='k',linestyle='dotted')    \n",
    "ax.axvline(1.4, color='k',linestyle='dashed') \n",
    "ax.axvline(1.9, color='k',linestyle='dotted')\n",
    "ax.axvline(2.4, color='k',linestyle='dashed') \n",
    "ax.axvline(2.9, color='k',linestyle='dotted')\n",
    "ax.axvline(3.4, color='k',linestyle='dashed') \n",
    "ax.axvline(3.9, color='k',linestyle='dotted')\n",
    "ax.axvline(4.4, color='k',linestyle='dashed') \n",
    "ax.axvline(4.9, color='k',linestyle='dotted') \n",
    "plt.show()\n"
   ]
  },
  {
   "cell_type": "code",
   "execution_count": null,
   "metadata": {
    "collapsed": true
   },
   "outputs": [],
   "source": [
    "# Now let's try with only the first 3 runs"
   ]
  },
  {
   "cell_type": "code",
   "execution_count": null,
   "metadata": {
    "collapsed": false
   },
   "outputs": [],
   "source": [
    "# Select the number of trials and the channels\n",
    "epoch_calcS = epoch_calc # copy the data\n",
    "info_calcS = info_calc\n",
    "\n",
    "selecIdx = info_calcS['run'] < 16\n",
    "epoch_calcS = epoch_calcS[selecIdx]\n",
    "info_calcS = info_calcS[selecIdx]\n",
    "\n",
    "# Randomly select 122 calculation trials (just to make sure that the decoding is working with balanced classes)\n",
    "freqConditions = itemfreq(info_calcS['isCalc'])\n",
    "isCalcIdx = np.where(info_calcS['isCalc']==1)[0]\n",
    "isCalcIdx = random.sample(isCalcIdx, 42)\n",
    "isCalcIdxAll = np.concatenate((isCalcIdx,np.where(info_calcS['isCalc']==0)[0]))\n",
    "\n",
    "# Rewrite the epochs\n",
    "epoch_calcS = epoch_calcS[isCalcIdxAll]\n",
    "info_calcS = info_calc.iloc[isCalcIdxAll]\n",
    "\n",
    "# Select some channels\n",
    "chan_list = epoch_calcS.ch_names\n",
    "epoch_calcS.pick_channels(['S14_64_SP_008'])"
   ]
  },
  {
   "cell_type": "code",
   "execution_count": null,
   "metadata": {
    "collapsed": false
   },
   "outputs": [],
   "source": [
    "# Plot evoked responses just to check\n",
    "condA = info_calcS['isCalc'] == 1\n",
    "condB = info_calcS['isCalc'] == 0\n",
    "evoked_condA = epoch_calcS[condA].average() # condA = info_calc['isCalc'] == 1\n",
    "evoked_condB = epoch_calcS[condB].average() # \n",
    "evoked_condA.plot()\n",
    "evoked_condB.plot()"
   ]
  },
  {
   "cell_type": "code",
   "execution_count": null,
   "metadata": {
    "collapsed": false
   },
   "outputs": [],
   "source": [
    "# Train and test data\n",
    "train_index = (info_calcS['isCalc'] < 10) # all trials\n",
    "X_train = epoch_calcS[train_index]\n",
    "y_train = np.array(info_calcS[train_index]['isCalc'])\n",
    "y_train = y_train.astype(np.float64)\n",
    "X_test = X_train\n",
    "y_test = y_train\n",
    "mode = 'cross-validation'\n",
    "params.update({'mode': mode})"
   ]
  },
  {
   "cell_type": "code",
   "execution_count": null,
   "metadata": {
    "collapsed": false
   },
   "outputs": [],
   "source": [
    "# Run GAT decoding and save results\n",
    "gat, score, diagonal = calc_classification(X_train, y_train, X_test, y_test, params)\n",
    "results = {'params': params, 'times_calc': epoch_calc.times, 'score': score, 'diagonal': diagonal, 'y_train': y_train, 'y_test': y_test}\n",
    "fname = result_path + 'decoding_iscalc_chan8_block1to3.npy'\n",
    "np.save(fname, results)"
   ]
  },
  {
   "cell_type": "code",
   "execution_count": null,
   "metadata": {
    "collapsed": false
   },
   "outputs": [],
   "source": [
    "# Plot results \n",
    "pretty_gat(score, chance=.5, smoothWindow=15)\n",
    "ax = plt.gca()\n",
    "ax.axvline(.5, color='k',linestyle='dashed') \n",
    "ax.axvline(1, color='k',linestyle='dotted')    \n",
    "ax.axvline(1.4, color='k',linestyle='dashed') \n",
    "ax.axvline(1.9, color='k',linestyle='dotted')\n",
    "ax.axvline(2.4, color='k',linestyle='dashed') \n",
    "ax.axvline(2.9, color='k',linestyle='dotted')\n",
    "ax.axvline(3.4, color='k',linestyle='dashed') \n",
    "ax.axvline(3.9, color='k',linestyle='dotted')\n",
    "ax.axvline(4.4, color='k',linestyle='dashed') \n",
    "ax.axvline(4.9, color='k',linestyle='dotted')\n",
    "plt.show()\n",
    "pretty_decod(diagonal, chance =.5, smoothWindow=15)\n",
    "ax = plt.gca()\n",
    "ax.axvline(.5, color='k',linestyle='dashed') \n",
    "ax.axvline(1, color='k',linestyle='dotted')    \n",
    "ax.axvline(1.4, color='k',linestyle='dashed') \n",
    "ax.axvline(1.9, color='k',linestyle='dotted')\n",
    "ax.axvline(2.4, color='k',linestyle='dashed') \n",
    "ax.axvline(2.9, color='k',linestyle='dotted')\n",
    "ax.axvline(3.4, color='k',linestyle='dashed') \n",
    "ax.axvline(3.9, color='k',linestyle='dotted')\n",
    "ax.axvline(4.4, color='k',linestyle='dashed') \n",
    "ax.axvline(4.9, color='k',linestyle='dotted') \n",
    "plt.show()\n"
   ]
  },
  {
   "cell_type": "code",
   "execution_count": null,
   "metadata": {
    "collapsed": false
   },
   "outputs": [],
   "source": [
    "# Now let's try to decode operand 1 in all channels"
   ]
  },
  {
   "cell_type": "code",
   "execution_count": null,
   "metadata": {
    "collapsed": false
   },
   "outputs": [],
   "source": [
    "# Select the number of trials and the channels\n",
    "epoch_calcS = epoch_calc # copy the data\n",
    "info_calcS = info_calc\n",
    "\n",
    "selecIdx = info_calcS['isCalc'] == 1\n",
    "epoch_calcS = epoch_calcS[selecIdx]\n",
    "info_calcS = info_calcS[selecIdx]\n",
    "\n",
    "# Randomly select 122 calculation trials (just to make sure that the decoding is working with balanced classes)\n",
    "freqConditions = itemfreq(info_calcS['operand1'])\n",
    "isCalcIdx = np.where(info_calcS['isCalc']==1)[0]\n",
    "isCalcIdx = random.sample(isCalcIdx, 42)\n",
    "isCalcIdxAll = np.concatenate((isCalcIdx,np.where(info_calcS['isCalc']==0)[0]))\n",
    "\n",
    "# Rewrite the epochs\n",
    "epoch_calcS = epoch_calcS[isCalcIdxAll]\n",
    "info_calcS = info_calc.iloc[isCalcIdxAll]\n",
    "\n",
    "# Select some channels\n",
    "chan_list = epoch_calcS.ch_names\n",
    "epoch_calcS.pick_channels(['S14_64_SP_008'])"
   ]
  },
  {
   "cell_type": "code",
   "execution_count": null,
   "metadata": {
    "collapsed": false
   },
   "outputs": [],
   "source": [
    "\n",
    "freqConditions\n"
   ]
  },
  {
   "cell_type": "code",
   "execution_count": null,
   "metadata": {
    "collapsed": false
   },
   "outputs": [],
   "source": [
    "# Train and test data\n",
    "train_index = (info_calcS['isCalc'] < 10) # all trials\n",
    "X_train = epoch_calcS[train_index]\n",
    "y_train = np.array(info_calcS[train_index]['operand1'])\n",
    "y_train = y_train.astype(np.float64)\n",
    "X_test = X_train\n",
    "y_test = y_train\n",
    "mode = 'cross-validation'\n",
    "params.update({'mode': mode})"
   ]
  },
  {
   "cell_type": "code",
   "execution_count": null,
   "metadata": {
    "collapsed": false
   },
   "outputs": [],
   "source": [
    "# Run GAT decoding and save results\n",
    "gat, score, diagonal = calc_classification(X_train, y_train, X_test, y_test, params)\n",
    "results = {'params': params, 'times_calc': epoch_calc.times, 'score': score, 'diagonal': diagonal, 'y_train': y_train, 'y_test': y_test}\n",
    "fname = result_path + 'decoding_operand1_allchannels.npy'\n",
    "np.save(fname, results)"
   ]
  },
  {
   "cell_type": "code",
   "execution_count": null,
   "metadata": {
    "collapsed": false
   },
   "outputs": [],
   "source": [
    "# Plot results \n",
    "pretty_gat(score, smoothWindow=15)\n",
    "ax = plt.gca()\n",
    "ax.axvline(.5, color='k',linestyle='dashed') \n",
    "ax.axvline(1, color='k',linestyle='dotted')    \n",
    "ax.axvline(1.4, color='k',linestyle='dashed') \n",
    "ax.axvline(1.9, color='k',linestyle='dotted')\n",
    "ax.axvline(2.4, color='k',linestyle='dashed') \n",
    "ax.axvline(2.9, color='k',linestyle='dotted')\n",
    "ax.axvline(3.4, color='k',linestyle='dashed') \n",
    "ax.axvline(3.9, color='k',linestyle='dotted')\n",
    "ax.axvline(4.4, color='k',linestyle='dashed') \n",
    "ax.axvline(4.9, color='k',linestyle='dotted')\n",
    "plt.show()\n",
    "pretty_decod(diagonal, smoothWindow=15)\n",
    "ax = plt.gca()\n",
    "ax.axvline(.5, color='k',linestyle='dashed') \n",
    "ax.axvline(1, color='k',linestyle='dotted')    \n",
    "ax.axvline(1.4, color='k',linestyle='dashed') \n",
    "ax.axvline(1.9, color='k',linestyle='dotted')\n",
    "ax.axvline(2.4, color='k',linestyle='dashed') \n",
    "ax.axvline(2.9, color='k',linestyle='dotted')\n",
    "ax.axvline(3.4, color='k',linestyle='dashed') \n",
    "ax.axvline(3.9, color='k',linestyle='dotted')\n",
    "ax.axvline(4.4, color='k',linestyle='dashed') \n",
    "ax.axvline(4.9, color='k',linestyle='dotted') \n",
    "plt.show()\n"
   ]
  },
  {
   "cell_type": "code",
   "execution_count": null,
   "metadata": {
    "collapsed": false
   },
   "outputs": [],
   "source": [
    "# Decoding operand1\n",
    "X_train = epoch_calc\n",
    "y_train = np.array(info_calc['isCalc'])\n",
    "y_train = y_train.astype(np.float64)\n",
    "X_test = X_train\n",
    "y_test = y_train\n",
    "trainTimes = {'start': -0.1, 'stop': 4.5}\n",
    "testTimes = {'start': -0.1, 'stop': 4.5}\n",
    "mode = 'cross-validation'\n",
    "params.update({'mode': mode})"
   ]
  },
  {
   "cell_type": "code",
   "execution_count": null,
   "metadata": {
    "collapsed": false
   },
   "outputs": [],
   "source": [
    "condA = info_calc['operand1'] == 3\n",
    "condB = info_calc['operand1'] == 4\n",
    "condC = info_calc['operand1'] == 5\n",
    "condD = info_calc['operand1'] == 6\n",
    "\n",
    "#Sanity check #1: Plot evoked response\n",
    "evoked_condA = epoch_calc[condA].average() # \n",
    "evoked_condB = epoch_calc[condB].average() #   \n",
    "evoked_condC = epoch_calc[condC].average() #   \n",
    "evoked_condD = epoch_calc[condD].average() #   \n",
    "\n",
    "evoked_condA.plot()\n",
    "evoked_condB.plot()\n",
    "evoked_condC.plot()\n",
    "evoked_condD.plot()  \n",
    "\n",
    "plt.show()"
   ]
  },
  {
   "cell_type": "code",
   "execution_count": null,
   "metadata": {
    "collapsed": true
   },
   "outputs": [],
   "source": [
    "info_calc_train['operand1'].map(lambda x: x[0])\n",
    "\n",
    "\n",
    "# condA = info_calc['operand1'] == 2\n",
    "# condB = info_calc['operand1'] == 3\n",
    "# condC = info_calc['operand1'] == 4\n",
    "# condD = info_calc['operand1'] == 7\n",
    "# condE = info_calc['operand1'] == 8\n",
    "# condF = info_calc['operand1'] == 9\n",
    "\n",
    "# #Sanity check #1: Plot evoked response\n",
    "# evoked_condA = epoch_calc[condA].average() # \n",
    "# evoked_condB = epoch_calc[condB].average() #   \n",
    "# evoked_condC = epoch_calc[condC].average() #   \n",
    "# evoked_condD = epoch_calc[condD].average() #   \n",
    "# evoked_condE = epoch_calc[condE].average() #   \n",
    "# evoked_condF = epoch_calc[condF].average() #   \n",
    "\n",
    "# evoked_condA.plot()\n",
    "# evoked_condB.plot()\n",
    "# evoked_condC.plot()\n",
    "# evoked_condD.plot()  \n",
    "# evoked_condC.plot()\n",
    "# evoked_condD.plot()  \n",
    "\n",
    "# plt.show()"
   ]
  },
  {
   "cell_type": "code",
   "execution_count": null,
   "metadata": {
    "collapsed": true
   },
   "outputs": [],
   "source": [
    "#Define decoding parameters\n",
    "trainTimes = {'start': -0.5, 'stop': 5}\n",
    "testTimes = {'start': -0.5, 'stop': 5}\n",
    "params = {'trainTimes': trainTimes, 'testTimes': testTimes}\n",
    "# Train and test data\n",
    "train_index = (info_calc['isCalc'] < 10) # S\n",
    "X_train = epoch_calc[train_index]\n",
    "y_train = np.array(info_calc[train_index]['isCalc'])\n",
    "#y_train = np.array(info_calc[train_index]['operand1'])\n",
    "y_train = y_train.astype(np.float64)\n",
    "X_test = X_train\n",
    "y_test = y_train\n",
    "mode = 'cross-validation'\n",
    "params.update({'mode': mode})"
   ]
  },
  {
   "cell_type": "code",
   "execution_count": null,
   "metadata": {
    "collapsed": true
   },
   "outputs": [],
   "source": [
    "fnameLoad = result_path + 'decoding_iscalc_VTC_except8.npy'\n",
    "results_load = np.load(fnameLoad)\n",
    "results_load = results_load.tolist()\n",
    "score = results_load['score']\n",
    "diagonal = results_load['diagonal']"
   ]
  }
 ],
 "metadata": {
  "kernelspec": {
   "display_name": "Python 2",
   "language": "python",
   "name": "python2"
  },
  "language_info": {
   "codemirror_mode": {
    "name": "ipython",
    "version": 2
   },
   "file_extension": ".py",
   "mimetype": "text/x-python",
   "name": "python",
   "nbconvert_exporter": "python",
   "pygments_lexer": "ipython2",
   "version": "2.7.11"
  }
 },
 "nbformat": 4,
 "nbformat_minor": 0
}
