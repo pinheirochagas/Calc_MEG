{
 "cells": [
  {
   "cell_type": "code",
   "execution_count": null,
   "metadata": {
    "collapsed": false
   },
   "outputs": [],
   "source": [
    "import os\n",
    "wkdir = '/neurospin/meg/meg_tmp/Calculation_Pedro_2014/'\n",
    "jobname = 's01'"
   ]
  },
  {
   "cell_type": "code",
   "execution_count": null,
   "metadata": {
    "collapsed": false
   },
   "outputs": [],
   "source": [
    "name_file = []\n",
    "name_file_class = os.path.join(wkdir, ('scripts/decoding/somaWF/jobs/jobs_' + jobname + '_class' + '.py'))\n",
    "name_file_reg = os.path.join(wkdir, ('scripts/decoding/somaWF/jobs/jobs_' + jobname + '_reg' + '.py'))\n"
   ]
  },
  {
   "cell_type": "code",
   "execution_count": 2,
   "metadata": {
    "collapsed": false
   },
   "outputs": [
    {
     "name": "stdout",
     "output_type": "stream",
     "text": [
      "Applying baseline correction ... (mode: mean)\n",
      "Applying baseline correction ... (mode: mean)\n"
     ]
    },
    {
     "name": "stderr",
     "output_type": "stream",
     "text": [
      "[Parallel(n_jobs=8)]: Done   8 out of   8 | elapsed:    1.3s finished\n",
      "[Parallel(n_jobs=8)]: Done   1 out of   1 | elapsed:    0.5s finished\n",
      "[Parallel(n_jobs=8)]: Done   8 out of   8 | elapsed:    0.2s finished\n",
      "[Parallel(n_jobs=8)]: Done   8 out of   8 | elapsed:    1.3s finished\n",
      "[Parallel(n_jobs=8)]: Done   1 out of   1 | elapsed:    0.5s finished\n",
      "[Parallel(n_jobs=8)]: Done   8 out of   8 | elapsed:    0.2s finished\n"
     ]
    }
   ],
   "source": [
    "import sys \n",
    "sys.path.append('/neurospin/meg/meg_tmp/Calculation_Pedro_2014/scripts/decoding')\n",
    "from calc_dec_wTask_CR import calc_dec_wTask_CR\n",
    "calc_dec_wTask_CR('/neurospin/meg/meg_tmp/Calculation_Pedro_2014',['op1', 'op1'],'s01','reg')"
   ]
  },
  {
   "cell_type": "code",
   "execution_count": 3,
   "metadata": {
    "collapsed": false
   },
   "outputs": [
    {
     "ename": "NameError",
     "evalue": "name 'ListJobName' is not defined",
     "output_type": "error",
     "traceback": [
      "\u001b[1;31m---------------------------------------------------------------------------\u001b[0m",
      "\u001b[1;31mNameError\u001b[0m                                 Traceback (most recent call last)",
      "\u001b[1;32m<ipython-input-3-b6fdf1e1d14a>\u001b[0m in \u001b[0;36m<module>\u001b[1;34m()\u001b[0m\n\u001b[0;32m     15\u001b[0m                         \u001b[0mjobname_class\u001b[0m \u001b[1;33m=\u001b[0m \u001b[0mjobname\u001b[0m \u001b[1;33m+\u001b[0m \u001b[1;34m'_'\u001b[0m \u001b[1;33m+\u001b[0m \u001b[0mcond\u001b[0m \u001b[1;33m+\u001b[0m \u001b[1;34m'_class'\u001b[0m\u001b[1;33m\u001b[0m\u001b[0m\n\u001b[0;32m     16\u001b[0m                         \u001b[0mjobname_reg\u001b[0m \u001b[1;33m=\u001b[0m \u001b[0mjobname\u001b[0m \u001b[1;33m+\u001b[0m \u001b[1;34m'_'\u001b[0m \u001b[1;33m+\u001b[0m \u001b[0mcond\u001b[0m \u001b[1;33m+\u001b[0m \u001b[1;34m'_reg'\u001b[0m\u001b[1;33m\u001b[0m\u001b[0m\n\u001b[1;32m---> 17\u001b[1;33m                 \u001b[0mListJobName\u001b[0m\u001b[1;33m.\u001b[0m\u001b[0mappend\u001b[0m\u001b[1;33m(\u001b[0m\u001b[0mjobname_class\u001b[0m\u001b[1;33m)\u001b[0m\u001b[1;33m\u001b[0m\u001b[0m\n\u001b[0m\u001b[0;32m     18\u001b[0m                 \u001b[0mListJobName\u001b[0m\u001b[1;33m.\u001b[0m\u001b[0mappend\u001b[0m\u001b[1;33m(\u001b[0m\u001b[0mjobname_reg\u001b[0m\u001b[1;33m)\u001b[0m \u001b[1;31m# this is done twice because each subject gets two python files.\u001b[0m\u001b[1;33m\u001b[0m\u001b[0m\n\u001b[0;32m     19\u001b[0m \u001b[1;33m\u001b[0m\u001b[0m\n",
      "\u001b[1;31mNameError\u001b[0m: name 'ListJobName' is not defined"
     ]
    }
   ],
   "source": [
    "conditions = [['op1', 'op1']]\n",
    "subjects = ['s01']\n",
    "ListJobName = []\n",
    "\n",
    "for c, condcouple in enumerate(conditions):\n",
    "\tfor s, subject in enumerate(subjects):\n",
    "\t\t\n",
    "\t\tbody_class = \"calc_dec_wTask_CR('\" + \"',\" + str(condcouple) + \",\" + \"'\" + subject + \"'\" \",\" \"'class'\" + \")\"\n",
    "\t\tbody_reg = \"calc_dec_wTask_CR('\" + \"',\" + str(condcouple) + \",\" + \"'\" + subject + \"'\" \",\" \"'reg'\" + \")\"\n",
    "\n",
    "\t\t#Use a transparent and complete job name referring to arguments of interests\n",
    "\t\tjobname = subject\n",
    "\t\t\n",
    "\t\tfor cond in condcouple:\n",
    "\t\t\tjobname_class = jobname + '_' + cond + '_class'\n",
    "\t\t\tjobname_reg = jobname + '_' + cond + '_reg'\n",
    "\t\tListJobName.append(jobname_class)\n",
    "\t\tListJobName.append(jobname_reg) # this is done twice because each subject gets two python files.\n",
    "    \n"
   ]
  },
  {
   "cell_type": "code",
   "execution_count": null,
   "metadata": {
    "collapsed": false
   },
   "outputs": [],
   "source": [
    "Listfile"
   ]
  },
  {
   "cell_type": "code",
   "execution_count": null,
   "metadata": {
    "collapsed": false
   },
   "outputs": [],
   "source": [
    "initbody = 'import sys \\n'\n",
    "initbody = initbody + \"sys.path.append(\" + \"'\" + cwd + \"')\\n\"\n",
    "initbody = initbody + 'import wmp_dec_loc as DecInd\\n'"
   ]
  },
  {
   "cell_type": "code",
   "execution_count": null,
   "metadata": {
    "collapsed": false
   },
   "outputs": [],
   "source": [
    "subjects = ['s01', 's02', 's03', 's04', 's05', 's06', 's07', 's08', 's09', 's10', \n",
    "            's11', 's12', 's13', 's14', 's15', 's16', 's17', 's18','s19', 's21', 's22']"
   ]
  },
  {
   "cell_type": "code",
   "execution_count": null,
   "metadata": {
    "collapsed": false
   },
   "outputs": [],
   "source": [
    "for c, condcouple in enumerate(conditions):\n",
    "\tfor s, subject in enumerate(subjects):\n",
    "\t\t\n",
    "\t\tbody = initbody + \"DecInd.wmp_dec_loc('\" + wkdir + \"',\"\n",
    "\t\tbody = body + str(condcouple) + \",\"\n",
    "\t\tbody = body + \"'\" + subject + \"')\"\n",
    "\t\t\n",
    "\t\t#Use a transparent and complete job name referring to arguments of interests\n",
    "\t\tjobname = subject\n",
    "\t\t\n",
    "\t\tfor cond in condcouple:\n",
    "\t\t\tjobname = jobname + '_' + cond\n",
    "\t\tListJobName.append(jobname)\n",
    "\t\t\n",
    "\t\t#Write jobs in a dedicated folder\n",
    "\t\tname_file = []\n",
    "\t\tname_file = os.path.join(wkdir, ('scripts/decoding/somaWF/jobs/jobs_' + jobname + '.py'))\n",
    "\t\tListfile.append(name_file)\n",
    "\t\t\n",
    "\t\twith open(name_file, 'w') as python_file:\n",
    "\t\t\tpython_file.write(body)"
   ]
  },
  {
   "cell_type": "code",
   "execution_count": null,
   "metadata": {
    "collapsed": false
   },
   "outputs": [],
   "source": [
    "Listfile"
   ]
  },
  {
   "cell_type": "code",
   "execution_count": null,
   "metadata": {
    "collapsed": false
   },
   "outputs": [],
   "source": [
    "body"
   ]
  },
  {
   "cell_type": "code",
   "execution_count": null,
   "metadata": {
    "collapsed": false
   },
   "outputs": [],
   "source": [
    "jobs = []\n",
    "\n",
    "for i in range(len(Listfile)):\n",
    "\tJobVar = Job(command = ['python', Listfile[i]], name = ListJobName[i],\n",
    "                 native_specification = '-l walltime=4:00:00, -l nodes=1:ppn=8')\n",
    "\tjobs.append(JobVar)\n",
    "\n",
    "#Save the workflow variables\n",
    "WfVar = Workflow(jobs = jobs)\n",
    "#WfVar = Workflow(jobs = jobs, dependencies = dependencies)\n",
    "somaWF_name = os.path.join(wkdir, 'scripts/decoding/somaWF/workflows/calc_decoding_workflow')\n",
    "Helper.serialize(somaWF_name, WfVar)"
   ]
  },
  {
   "cell_type": "code",
   "execution_count": null,
   "metadata": {
    "collapsed": true
   },
   "outputs": [],
   "source": []
  }
 ],
 "metadata": {
  "kernelspec": {
   "display_name": "Python 2",
   "language": "python",
   "name": "python2"
  },
  "language_info": {
   "codemirror_mode": {
    "name": "ipython",
    "version": 2
   },
   "file_extension": ".py",
   "mimetype": "text/x-python",
   "name": "python",
   "nbconvert_exporter": "python",
   "pygments_lexer": "ipython2",
   "version": "2.7.11"
  }
 },
 "nbformat": 4,
 "nbformat_minor": 0
}
