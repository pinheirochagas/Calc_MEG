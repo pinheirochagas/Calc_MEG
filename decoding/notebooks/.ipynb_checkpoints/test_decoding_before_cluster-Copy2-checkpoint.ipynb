{
 "cells": [
  {
   "cell_type": "code",
   "execution_count": 1,
   "metadata": {
    "collapsed": false
   },
   "outputs": [
    {
     "name": "stdout",
     "output_type": "stream",
     "text": [
      "361 matching events found\n",
      "No baseline correction applied\n",
      "0 bad epochs dropped\n",
      "Applying baseline correction (mode: mean)\n"
     ]
    },
    {
     "ename": "MultipleInstanceError",
     "evalue": "Multiple incompatible subclass instances of TerminalIPythonApp are being created.",
     "output_type": "error",
     "traceback": [
      "\u001b[1;31m---------------------------------------------------------------------------\u001b[0m",
      "\u001b[1;31mMultipleInstanceError\u001b[0m                     Traceback (most recent call last)",
      "\u001b[1;32m<ipython-input-1-9928dd458a0f>\u001b[0m in \u001b[0;36m<module>\u001b[1;34m()\u001b[0m\n\u001b[0;32m      2\u001b[0m \u001b[0msys\u001b[0m\u001b[1;33m.\u001b[0m\u001b[0mpath\u001b[0m\u001b[1;33m.\u001b[0m\u001b[0mappend\u001b[0m\u001b[1;33m(\u001b[0m\u001b[1;34m'/neurospin/meg/meg_tmp/Calculation_Pedro_2014/scripts/decoding'\u001b[0m\u001b[1;33m)\u001b[0m\u001b[1;33m\u001b[0m\u001b[0m\n\u001b[0;32m      3\u001b[0m \u001b[1;32mfrom\u001b[0m \u001b[0mcalc_dec_wTask_CR\u001b[0m \u001b[1;32mimport\u001b[0m \u001b[0mcalc_dec_wTask_CR\u001b[0m\u001b[1;33m\u001b[0m\u001b[0m\n\u001b[1;32m----> 4\u001b[1;33m \u001b[0mcalc_dec_wTask_CR\u001b[0m\u001b[1;33m(\u001b[0m\u001b[1;34m'/neurospin/meg/meg_tmp/Calculation_Pedro_2014'\u001b[0m\u001b[1;33m,\u001b[0m\u001b[1;33m[\u001b[0m\u001b[1;34m'op1_t1'\u001b[0m\u001b[1;33m,\u001b[0m \u001b[1;34m'cres_t1'\u001b[0m\u001b[1;33m]\u001b[0m\u001b[1;33m,\u001b[0m\u001b[1;34m's02'\u001b[0m\u001b[1;33m,\u001b[0m\u001b[1;34m'class'\u001b[0m\u001b[1;33m)\u001b[0m\u001b[1;33m\u001b[0m\u001b[0m\n\u001b[0m",
      "\u001b[1;32m/neurospin/meg/meg_tmp/Calculation_Pedro_2014/scripts/decoding/calc_dec_wTask_CR.py\u001b[0m in \u001b[0;36mcalc_dec_wTask_CR\u001b[1;34m(wkdir, Condition, Subject, Type)\u001b[0m\n\u001b[0;32m    583\u001b[0m                 \u001b[1;32mreturn\u001b[0m \u001b[0mparams\u001b[0m\u001b[1;33m,\u001b[0m \u001b[0mepoch_calc\u001b[0m\u001b[1;33m.\u001b[0m\u001b[0mtimes\u001b[0m\u001b[1;33m,\u001b[0m \u001b[0mgat\u001b[0m\u001b[1;33m,\u001b[0m \u001b[0mscore\u001b[0m\u001b[1;33m,\u001b[0m \u001b[0mdiagonal\u001b[0m\u001b[1;33m,\u001b[0m \u001b[0my_train\u001b[0m\u001b[1;33m,\u001b[0m \u001b[0my_test\u001b[0m\u001b[1;33m\u001b[0m\u001b[0m\n\u001b[0;32m    584\u001b[0m \u001b[1;33m\u001b[0m\u001b[0m\n\u001b[1;32m--> 585\u001b[1;33m         \u001b[0mparams\u001b[0m\u001b[1;33m,\u001b[0m \u001b[0mtimes_calc\u001b[0m\u001b[1;33m,\u001b[0m \u001b[0mgat\u001b[0m\u001b[1;33m,\u001b[0m \u001b[0mscore\u001b[0m\u001b[1;33m,\u001b[0m \u001b[0mdiagonal\u001b[0m\u001b[1;33m,\u001b[0m \u001b[0my_train\u001b[0m\u001b[1;33m,\u001b[0m \u001b[0my_test\u001b[0m \u001b[1;33m=\u001b[0m \u001b[0mcalc_prepDec_wTask_CR\u001b[0m\u001b[1;33m(\u001b[0m\u001b[0mwkdir\u001b[0m\u001b[1;33m,\u001b[0m \u001b[0mCondition\u001b[0m\u001b[1;33m,\u001b[0m \u001b[0mSubject\u001b[0m\u001b[1;33m,\u001b[0m \u001b[0mType\u001b[0m\u001b[1;33m)\u001b[0m\u001b[1;33m\u001b[0m\u001b[0m\n\u001b[0m\u001b[0;32m    586\u001b[0m \u001b[1;33m\u001b[0m\u001b[0m\n\u001b[0;32m    587\u001b[0m         \u001b[0mresults\u001b[0m \u001b[1;33m=\u001b[0m \u001b[1;33m{\u001b[0m\u001b[1;34m'params'\u001b[0m\u001b[1;33m:\u001b[0m \u001b[0mparams\u001b[0m\u001b[1;33m,\u001b[0m \u001b[1;34m'times_calc'\u001b[0m\u001b[1;33m:\u001b[0m \u001b[0mtimes_calc\u001b[0m\u001b[1;33m,\u001b[0m \u001b[1;34m'score'\u001b[0m\u001b[1;33m:\u001b[0m \u001b[0mscore\u001b[0m\u001b[1;33m,\u001b[0m \u001b[1;34m'diagonal'\u001b[0m\u001b[1;33m:\u001b[0m \u001b[0mdiagonal\u001b[0m\u001b[1;33m,\u001b[0m \u001b[1;34m'y_train'\u001b[0m\u001b[1;33m:\u001b[0m \u001b[0my_train\u001b[0m\u001b[1;33m,\u001b[0m \u001b[1;34m'y_test'\u001b[0m\u001b[1;33m:\u001b[0m \u001b[0my_test\u001b[0m\u001b[1;33m}\u001b[0m\u001b[1;33m\u001b[0m\u001b[0m\n",
      "\u001b[1;32m/neurospin/meg/meg_tmp/Calculation_Pedro_2014/scripts/decoding/calc_dec_wTask_CR.py\u001b[0m in \u001b[0;36mcalc_prepDec_wTask_CR\u001b[1;34m(wkdir, Condition, Subject, Type)\u001b[0m\n\u001b[0;32m    568\u001b[0m \u001b[1;33m\u001b[0m\u001b[0m\n\u001b[0;32m    569\u001b[0m                                 \u001b[1;31m#################### THINK ABOUT IT!!! ########################\u001b[0m\u001b[1;33m\u001b[0m\u001b[1;33m\u001b[0m\u001b[0m\n\u001b[1;32m--> 570\u001b[1;33m                 \u001b[1;32mimport\u001b[0m \u001b[0mipdb\u001b[0m\u001b[1;33m;\u001b[0m \u001b[0mipdb\u001b[0m\u001b[1;33m.\u001b[0m\u001b[0mset_trace\u001b[0m\u001b[1;33m(\u001b[0m\u001b[1;33m)\u001b[0m \u001b[1;31m# to debug...\u001b[0m\u001b[1;33m\u001b[0m\u001b[0m\n\u001b[0m\u001b[0;32m    571\u001b[0m                 \u001b[1;31m# Update params with mode\u001b[0m\u001b[1;33m\u001b[0m\u001b[1;33m\u001b[0m\u001b[0m\n\u001b[0;32m    572\u001b[0m                 \u001b[0mparams\u001b[0m\u001b[1;33m.\u001b[0m\u001b[0mupdate\u001b[0m\u001b[1;33m(\u001b[0m\u001b[1;33m{\u001b[0m\u001b[1;34m'mode'\u001b[0m\u001b[1;33m:\u001b[0m \u001b[0mmode\u001b[0m\u001b[1;33m}\u001b[0m\u001b[1;33m)\u001b[0m\u001b[1;33m\u001b[0m\u001b[0m\n",
      "\u001b[1;32m/volatile/anaconda/lib/python2.7/site-packages/ipdb/__init__.py\u001b[0m in \u001b[0;36m<module>\u001b[1;34m()\u001b[0m\n\u001b[0;32m      5\u001b[0m \u001b[1;31m# https://opensource.org/licenses/BSD-3-Clause\u001b[0m\u001b[1;33m\u001b[0m\u001b[1;33m\u001b[0m\u001b[0m\n\u001b[0;32m      6\u001b[0m \u001b[1;33m\u001b[0m\u001b[0m\n\u001b[1;32m----> 7\u001b[1;33m \u001b[1;32mfrom\u001b[0m \u001b[0mipdb\u001b[0m\u001b[1;33m.\u001b[0m\u001b[0m__main__\u001b[0m \u001b[1;32mimport\u001b[0m \u001b[0mset_trace\u001b[0m\u001b[1;33m,\u001b[0m \u001b[0mpost_mortem\u001b[0m\u001b[1;33m,\u001b[0m \u001b[0mpm\u001b[0m\u001b[1;33m,\u001b[0m \u001b[0mrun\u001b[0m\u001b[1;33m,\u001b[0m \u001b[0mruncall\u001b[0m\u001b[1;33m,\u001b[0m \u001b[0mruneval\u001b[0m\u001b[1;33m,\u001b[0m \u001b[0mlaunch_ipdb_on_exception\u001b[0m\u001b[1;33m\u001b[0m\u001b[0m\n\u001b[0m\u001b[0;32m      8\u001b[0m \u001b[1;33m\u001b[0m\u001b[0m\n\u001b[0;32m      9\u001b[0m \u001b[0mpm\u001b[0m                       \u001b[1;31m# please pyflakes\u001b[0m\u001b[1;33m\u001b[0m\u001b[0m\n",
      "\u001b[1;32m/volatile/anaconda/lib/python2.7/site-packages/ipdb/__main__.py\u001b[0m in \u001b[0;36m<module>\u001b[1;34m()\u001b[0m\n\u001b[0;32m     52\u001b[0m     \u001b[1;31m# the instance method will create a new one without loading the config.\u001b[0m\u001b[1;33m\u001b[0m\u001b[1;33m\u001b[0m\u001b[0m\n\u001b[0;32m     53\u001b[0m     \u001b[1;31m# i.e: if we are in an embed instance we do not want to load the config.\u001b[0m\u001b[1;33m\u001b[0m\u001b[1;33m\u001b[0m\u001b[0m\n\u001b[1;32m---> 54\u001b[1;33m     \u001b[0mipapp\u001b[0m \u001b[1;33m=\u001b[0m \u001b[0mTerminalIPythonApp\u001b[0m\u001b[1;33m.\u001b[0m\u001b[0minstance\u001b[0m\u001b[1;33m(\u001b[0m\u001b[1;33m)\u001b[0m\u001b[1;33m\u001b[0m\u001b[0m\n\u001b[0m\u001b[0;32m     55\u001b[0m     \u001b[0mshell\u001b[0m \u001b[1;33m=\u001b[0m \u001b[0mget_ipython\u001b[0m\u001b[1;33m(\u001b[0m\u001b[1;33m)\u001b[0m\u001b[1;33m\u001b[0m\u001b[0m\n\u001b[0;32m     56\u001b[0m     \u001b[0mdef_colors\u001b[0m \u001b[1;33m=\u001b[0m \u001b[0mshell\u001b[0m\u001b[1;33m.\u001b[0m\u001b[0mcolors\u001b[0m\u001b[1;33m\u001b[0m\u001b[0m\n",
      "\u001b[1;32m/volatile/anaconda/lib/python2.7/site-packages/traitlets/config/configurable.pyc\u001b[0m in \u001b[0;36minstance\u001b[1;34m(cls, *args, **kwargs)\u001b[0m\n\u001b[0;32m    389\u001b[0m             raise MultipleInstanceError(\n\u001b[0;32m    390\u001b[0m                 \u001b[1;34m'Multiple incompatible subclass instances of '\u001b[0m\u001b[1;33m\u001b[0m\u001b[0m\n\u001b[1;32m--> 391\u001b[1;33m                 \u001b[1;34m'%s are being created.'\u001b[0m \u001b[1;33m%\u001b[0m \u001b[0mcls\u001b[0m\u001b[1;33m.\u001b[0m\u001b[0m__name__\u001b[0m\u001b[1;33m\u001b[0m\u001b[0m\n\u001b[0m\u001b[0;32m    392\u001b[0m             )\n\u001b[0;32m    393\u001b[0m \u001b[1;33m\u001b[0m\u001b[0m\n",
      "\u001b[1;31mMultipleInstanceError\u001b[0m: Multiple incompatible subclass instances of TerminalIPythonApp are being created."
     ]
    }
   ],
   "source": [
    "import sys \n",
    "sys.path.append('/neurospin/meg/meg_tmp/Calculation_Pedro_2014/scripts/decoding')\n",
    "from calc_dec_wTask_CR import calc_dec_wTask_CR\n",
    "calc_dec_wTask_CR('/neurospin/meg/meg_tmp/Calculation_Pedro_2014',['op1_t1', 'cres_t1'],'s02','class')"
   ]
  },
  {
   "cell_type": "code",
   "execution_count": null,
   "metadata": {
    "collapsed": false
   },
   "outputs": [
    {
     "name": "stdout",
     "output_type": "stream",
     "text": [
      "> \u001b[1;32m/volatile/anaconda/lib/python2.7/site-packages/traitlets/config/configurable.py\u001b[0m(391)\u001b[0;36minstance\u001b[1;34m()\u001b[0m\n",
      "\u001b[1;32m    390 \u001b[1;33m                \u001b[1;34m'Multiple incompatible subclass instances of '\u001b[0m\u001b[1;33m\u001b[0m\u001b[0m\n",
      "\u001b[0m\u001b[1;32m--> 391 \u001b[1;33m                \u001b[1;34m'%s are being created.'\u001b[0m \u001b[1;33m%\u001b[0m \u001b[0mcls\u001b[0m\u001b[1;33m.\u001b[0m\u001b[0m__name__\u001b[0m\u001b[1;33m\u001b[0m\u001b[0m\n",
      "\u001b[0m\u001b[1;32m    392 \u001b[1;33m            )\n",
      "\u001b[0m\n",
      "ipdb> X_train\n",
      "*** NameError: name 'X_train' is not defined\n",
      "ipdb> trainTimes\n",
      "*** NameError: name 'trainTimes' is not defined\n"
     ]
    }
   ],
   "source": [
    "%debug"
   ]
  },
  {
   "cell_type": "code",
   "execution_count": 1,
   "metadata": {
    "collapsed": false
   },
   "outputs": [
    {
     "ename": "ImportError",
     "evalue": "No module named calc_decoding_cfg",
     "output_type": "error",
     "traceback": [
      "\u001b[0;31m---------------------------------------------------------------------------\u001b[0m",
      "\u001b[0;31mImportError\u001b[0m                               Traceback (most recent call last)",
      "\u001b[0;32m<ipython-input-1-a00f10278ee9>\u001b[0m in \u001b[0;36m<module>\u001b[0;34m()\u001b[0m\n\u001b[1;32m      1\u001b[0m \u001b[0;32mimport\u001b[0m \u001b[0msys\u001b[0m\u001b[0;34m\u001b[0m\u001b[0m\n\u001b[1;32m      2\u001b[0m \u001b[0msys\u001b[0m\u001b[0;34m.\u001b[0m\u001b[0mpath\u001b[0m\u001b[0;34m.\u001b[0m\u001b[0mappend\u001b[0m\u001b[0;34m(\u001b[0m\u001b[0;34m'/neurospin/meg/meg_tmp/Calculation_Pedro_2014/scripts/decoding'\u001b[0m\u001b[0;34m)\u001b[0m\u001b[0;34m\u001b[0m\u001b[0m\n\u001b[0;32m----> 3\u001b[0;31m \u001b[0;32mfrom\u001b[0m \u001b[0mcalc_decoding_cfg\u001b[0m \u001b[0;32mimport\u001b[0m \u001b[0;34m(\u001b[0m\u001b[0mdata_path\u001b[0m\u001b[0;34m,\u001b[0m \u001b[0mbaseline\u001b[0m\u001b[0;34m,\u001b[0m \u001b[0mdownsampling\u001b[0m\u001b[0;34m,\u001b[0m \u001b[0mtrainTimes\u001b[0m\u001b[0;34m,\u001b[0m \u001b[0mtestTimes\u001b[0m\u001b[0;34m)\u001b[0m\u001b[0;34m\u001b[0m\u001b[0m\n\u001b[0m\u001b[1;32m      4\u001b[0m \u001b[0;32mfrom\u001b[0m \u001b[0mfldtrp2mne_calc\u001b[0m \u001b[0;32mimport\u001b[0m \u001b[0mfldtrp2mne_calc\u001b[0m\u001b[0;34m\u001b[0m\u001b[0m\n\u001b[1;32m      5\u001b[0m \u001b[0;32mimport\u001b[0m \u001b[0mnumpy\u001b[0m \u001b[0;32mas\u001b[0m \u001b[0mnp\u001b[0m\u001b[0;34m\u001b[0m\u001b[0m\n",
      "\u001b[0;31mImportError\u001b[0m: No module named calc_decoding_cfg"
     ]
    }
   ],
   "source": [
    "import sys \n",
    "sys.path.append('/neurospin/meg/meg_tmp/Calculation_Pedro_2014/scripts/decoding')\n",
    "from calc_decoding_cfg import (data_path, baseline, downsampling, trainTimes, testTimes)\n",
    "from fldtrp2mne_calc import fldtrp2mne_calc\n",
    "import numpy as np\n",
    "import mne\n",
    "import pandas as pd"
   ]
  },
  {
   "cell_type": "code",
   "execution_count": null,
   "metadata": {
    "collapsed": false
   },
   "outputs": [],
   "source": [
    "Subject = 's02'\n",
    "Condition = ['vsa', 'addsub']\n",
    "Type = 'class'\n",
    "#Decoding\n",
    "trainset = Condition[0] # and then this will be already known when calling the function\n",
    "testset = Condition[1]\n",
    "\n",
    "params = {'baseline': baseline, 'downsampling': downsampling,\n",
    "'classification': Condition, 'trainset': trainset, \n",
    "'testset': testset, 'trainTimes': trainTimes, 'testTimes': testTimes}\n",
    "\n",
    "fname_calc = data_path + '/' + Subject + '_calc.mat'\n",
    "fname_vsa = data_path + '/' + Subject + '_vsa.mat'\n",
    "epoch_calc,info_calc = fldtrp2mne_calc(fname_calc, 'data', 'calc')\n",
    "#epoch_vsa,info_vsa = fldtrp2mne_calc(fname_vsa, 'data', 'vsa')\n",
    "\n",
    "#Select data to use.\n",
    "# Time lock to the presentation of the result\n",
    "# This code sniped should be modularized and flexibilized\n",
    "idx_delay = info_calc['delay'] == 1\n",
    "idx_nodelay = info_calc['delay'] == 0\n",
    "\n",
    "info_calc_delay = info_calc[info_calc['delay'] == 1]\n",
    "info_calc_nodelay = info_calc[info_calc['delay'] == 0]\n",
    "\n",
    "time_calc_crop = np.arange(-0.1,0.8004,0.004) \n",
    "\n",
    "epoch_calc_delay = epoch_calc[idx_delay]\n",
    "epoch_calc_delay.crop(3.5,4.4)\n",
    "epoch_calc_delay.times = time_calc_crop\n",
    "\n",
    "epoch_calc_nodelay = epoch_calc[idx_nodelay]\n",
    "epoch_calc_nodelay.crop(3.1,4)\n",
    "epoch_calc_nodelay.times = time_calc_crop\n",
    "\n",
    "epoch_calc_resplock = mne.epochs.concatenate_epochs([epoch_calc_delay,epoch_calc_nodelay])\t\n",
    "info_calc_resplock = pd.concat([info_calc_delay, info_calc_nodelay])\n",
    "\n",
    "#Baseline correction\n",
    "epoch_calc.apply_baseline(baseline)\n",
    "\n",
    "epoch_vsa,info_vsa = fldtrp2mne_calc(fname_vsa, 'data', 'vsa')\n",
    "epoch_vsa.apply_baseline(baseline)"
   ]
  },
  {
   "cell_type": "code",
   "execution_count": null,
   "metadata": {
    "collapsed": false
   },
   "outputs": [],
   "source": [
    "# Correct labels for the cue to match add and sub\n",
    "train_index = info_vsa['congruency'] == 1\n",
    "test_index = info_calc['operator'] != 0\n",
    "\n",
    "info_vsa[info_vsa['cue'] == 1] = -1\n",
    "info_vsa[info_vsa['cue'] == 2] = 1\n",
    "\n",
    "X_train = epoch_vsa[train_index]\n",
    "y_train = np.array(info_vsa[train_index]['cue'])\n",
    "y_train = y_train.astype(np.float64)\n",
    "X_test = epoch_calc[test_index]\n",
    "y_test = np.array(info_calc[test_index]['operator'])\n",
    "y_test = y_test.astype(np.float64)\n",
    "# Update params\n",
    "trainTimes = {'start': -0.1, 'stop': 1.5}\n",
    "testTimes = {'start': 0.7, 'stop': 3.2}\n",
    "params.update({'trainTimes': trainTimes})\n",
    "params.update({'testTimes': testTimes})\n"
   ]
  },
  {
   "cell_type": "code",
   "execution_count": null,
   "metadata": {
    "collapsed": false
   },
   "outputs": [],
   "source": [
    "X_test"
   ]
  },
  {
   "cell_type": "code",
   "execution_count": null,
   "metadata": {
    "collapsed": false
   },
   "outputs": [],
   "source": [
    "np.array(info_calc[test_index]['operator'])\n"
   ]
  },
  {
   "cell_type": "code",
   "execution_count": null,
   "metadata": {
    "collapsed": false
   },
   "outputs": [],
   "source": [
    "info_vsa"
   ]
  },
  {
   "cell_type": "code",
   "execution_count": null,
   "metadata": {
    "collapsed": false
   },
   "outputs": [],
   "source": [
    "\n"
   ]
  },
  {
   "cell_type": "code",
   "execution_count": null,
   "metadata": {
    "collapsed": false
   },
   "outputs": [],
   "source": [
    "X_train = epoch_calc\n",
    "y_train = np.array(info_calc['operand1'])\n",
    "y_train = y_train.astype(np.float64)\n",
    "\n",
    "test_index = (info_calc_resplock['preResult'] >= 3) & (info_calc_resplock['preResult'] <= 6)\n",
    "X_test = epoch_calc_resplock[test_index]\n",
    "y_test = np.array(info_calc_resplock[test_index]['preResult'])\n",
    "y_test = y_test.astype(np.float64)\n",
    "\n",
    "trainTimes = {'start': -0.1, 'stop': 0.8}\n",
    "testTimes = {'start': -0.1, 'stop': 0.8}\n",
    "params.update({'trainTimes': trainTimes})\n",
    "params.update({'testTimes': testTimes})"
   ]
  },
  {
   "cell_type": "code",
   "execution_count": null,
   "metadata": {
    "collapsed": false
   },
   "outputs": [],
   "source": [
    "mode = 'mean-prediction'\n",
    "params.update({'mode': mode})\n"
   ]
  },
  {
   "cell_type": "code",
   "execution_count": null,
   "metadata": {
    "collapsed": false
   },
   "outputs": [],
   "source": [
    "gat, score, diagonal = calc_classification(X_train, y_train, X_test, y_test, params)\n"
   ]
  },
  {
   "cell_type": "code",
   "execution_count": null,
   "metadata": {
    "collapsed": false
   },
   "outputs": [],
   "source": [
    "y_train.shape"
   ]
  },
  {
   "cell_type": "code",
   "execution_count": null,
   "metadata": {
    "collapsed": false
   },
   "outputs": [],
   "source": [
    "X_test"
   ]
  },
  {
   "cell_type": "code",
   "execution_count": null,
   "metadata": {
    "collapsed": false
   },
   "outputs": [],
   "source": [
    "y_test.shape"
   ]
  },
  {
   "cell_type": "code",
   "execution_count": 1,
   "metadata": {
    "collapsed": true
   },
   "outputs": [],
   "source": [
    "import mne"
   ]
  },
  {
   "cell_type": "code",
   "execution_count": 2,
   "metadata": {
    "collapsed": false
   },
   "outputs": [
    {
     "data": {
      "text/plain": [
       "'0.12.dev0'"
      ]
     },
     "execution_count": 2,
     "metadata": {},
     "output_type": "execute_result"
    }
   ],
   "source": [
    "mne.__version__"
   ]
  },
  {
   "cell_type": "code",
   "execution_count": 2,
   "metadata": {
    "collapsed": true
   },
   "outputs": [],
   "source": [
    "import sys \n",
    "sys.path.append('/Users/pinheirochagas/Pedro/NeuroSpin/Experiments/Calc_MEG/scripts_git/Calc_MEG/decoding')\n",
    "from calc_decoding_cfg import (data_path, baseline, downsampling, trainTimes, testTimes)\n",
    "from fldtrp2mne_calc import fldtrp2mne_calc\n",
    "import numpy as np\n",
    "import mne\n",
    "import pandas as pd"
   ]
  },
  {
   "cell_type": "code",
   "execution_count": null,
   "metadata": {
    "collapsed": true
   },
   "outputs": [],
   "source": [
    "fname_ecog = '/Volumes/NeuroSpin2T/Calc_ECoG/analysis_ECoG/neuralData/SpecData/S13_57_TVD/data_fieldtrip/S13_57_TVD_context.mat'\n",
    "# Load data \n",
    "epoch_calc,info_calc = ecog2mne_calculia(fname_ecog, 'data', 'context')"
   ]
  },
  {
   "cell_type": "code",
   "execution_count": 4,
   "metadata": {
    "collapsed": false
   },
   "outputs": [],
   "source": [
    "data_path = '/Volumes/NeuroSpin2T/Calculation_Pedro_2014/data/mat/'"
   ]
  },
  {
   "cell_type": "code",
   "execution_count": 5,
   "metadata": {
    "collapsed": false
   },
   "outputs": [
    {
     "name": "stdout",
     "output_type": "stream",
     "text": [
      "361 matching events found\n",
      "No baseline correction applied\n",
      "0 bad epochs dropped\n",
      "Applying baseline correction (mode: mean)\n",
      "Applying baseline correction (mode: mean)\n"
     ]
    },
    {
     "data": {
      "text/plain": [
       "<EpochsArray  |  n_events : 260 (all good), tmin : -0.5 (s), tmax : 2.0 (s), baseline : (-0.5, -0.05)>"
      ]
     },
     "execution_count": 5,
     "metadata": {},
     "output_type": "execute_result"
    }
   ],
   "source": [
    "Subject = 's02'\n",
    "Condition = ['vsa', 'addsub']\n",
    "Type = 'class'\n",
    "#Decoding\n",
    "trainset = Condition[0] # and then this will be already known when calling the function\n",
    "testset = Condition[1]\n",
    "\n",
    "params = {'baseline': baseline, 'downsampling': downsampling,\n",
    "'classification': Condition, 'trainset': trainset, \n",
    "'testset': testset, 'trainTimes': trainTimes, 'testTimes': testTimes}\n",
    "\n",
    "fname_calc = data_path + '/' + Subject + '_calc.mat'\n",
    "fname_vsa = data_path + '/' + Subject + '_vsa.mat'\n",
    "epoch_calc,info_calc = fldtrp2mne_calc(fname_calc, 'data', 'calc')\n",
    "#epoch_vsa,info_vsa = fldtrp2mne_calc(fname_vsa, 'data', 'vsa')\n",
    "\n",
    "#Select data to use.\n",
    "# Time lock to the presentation of the result\n",
    "# This code sniped should be modularized and flexibilized\n",
    "idx_delay = info_calc['delay'] == 1\n",
    "idx_nodelay = info_calc['delay'] == 0\n",
    "\n",
    "info_calc_delay = info_calc[info_calc['delay'] == 1]\n",
    "info_calc_nodelay = info_calc[info_calc['delay'] == 0]\n",
    "\n",
    "time_calc_crop = np.arange(-0.1,0.8004,0.004) \n",
    "\n",
    "epoch_calc_delay = epoch_calc[idx_delay]\n",
    "epoch_calc_delay.crop(3.5,4.4)\n",
    "epoch_calc_delay.times = time_calc_crop\n",
    "\n",
    "epoch_calc_nodelay = epoch_calc[idx_nodelay]\n",
    "epoch_calc_nodelay.crop(3.1,4)\n",
    "epoch_calc_nodelay.times = time_calc_crop\n",
    "\n",
    "epoch_calc_resplock = mne.epochs.concatenate_epochs([epoch_calc_delay,epoch_calc_nodelay])\t\n",
    "info_calc_resplock = pd.concat([info_calc_delay, info_calc_nodelay])\n",
    "\n",
    "#Baseline correction\n",
    "epoch_calc.apply_baseline(baseline)\n",
    "\n",
    "epoch_vsa,info_vsa = fldtrp2mne_calc(fname_vsa, 'data', 'vsa')\n",
    "epoch_vsa.apply_baseline(baseline)"
   ]
  },
  {
   "cell_type": "code",
   "execution_count": 23,
   "metadata": {
    "collapsed": false
   },
   "outputs": [],
   "source": [
    "datatest = pd.DataFrame(pd.concat([info_calc['operand1'], info_calc['operand2'], info_calc_delay['preResult'],info_calc_nodelay['preResult']]\n",
    "                      ), columns=['stim'])\n",
    "\n",
    "datatest = pd.DataFrame(pd.concat([info_calc['operand1'], info_calc['operand2']]), columns=['stim'])\n",
    "\n"
   ]
  },
  {
   "cell_type": "code",
   "execution_count": 24,
   "metadata": {
    "collapsed": false
   },
   "outputs": [
    {
     "data": {
      "text/plain": [
       "0      68\n",
       "1      75\n",
       "2      68\n",
       "3     162\n",
       "4      94\n",
       "5      88\n",
       "6      88\n",
       "33     79\n",
       "dtype: int64"
      ]
     },
     "execution_count": 24,
     "metadata": {},
     "output_type": "execute_result"
    }
   ],
   "source": [
    "pd.value_counts(datatest['stim'].values, sort=False)"
   ]
  },
  {
   "cell_type": "code",
   "execution_count": null,
   "metadata": {
    "collapsed": true
   },
   "outputs": [],
   "source": []
  }
 ],
 "metadata": {
  "kernelspec": {
   "display_name": "Python 2",
   "language": "python",
   "name": "python2"
  },
  "language_info": {
   "codemirror_mode": {
    "name": "ipython",
    "version": 2
   },
   "file_extension": ".py",
   "mimetype": "text/x-python",
   "name": "python",
   "nbconvert_exporter": "python",
   "pygments_lexer": "ipython2",
   "version": "2.7.11"
  }
 },
 "nbformat": 4,
 "nbformat_minor": 0
}
