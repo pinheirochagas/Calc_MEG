{
 "cells": [
  {
   "cell_type": "code",
   "execution_count": null,
   "metadata": {
    "collapsed": false
   },
   "outputs": [
    {
     "name": "stderr",
     "output_type": "stream",
     "text": [
      "/neurospin/meg/meg_tmp/Calculation_Pedro_2014/scripts/decoding/calc_dec_wTask_CR.py:72: SettingWithCopyWarning: \n",
      "A value is trying to be set on a copy of a slice from a DataFrame.\n",
      "Try using .loc[row_indexer,col_indexer] = value instead\n",
      "\n",
      "See the caveats in the documentation: http://pandas.pydata.org/pandas-docs/stable/indexing.html#indexing-view-versus-copy\n",
      "  info_calc_delay['operand'] = info_calc_delay['preResult'] # add another column 'operand' for the big decoder\n",
      "/neurospin/meg/meg_tmp/Calculation_Pedro_2014/scripts/decoding/calc_dec_wTask_CR.py:73: SettingWithCopyWarning: \n",
      "A value is trying to be set on a copy of a slice from a DataFrame.\n",
      "Try using .loc[row_indexer,col_indexer] = value instead\n",
      "\n",
      "See the caveats in the documentation: http://pandas.pydata.org/pandas-docs/stable/indexing.html#indexing-view-versus-copy\n",
      "  info_calc_nodelay['operand'] = info_calc_nodelay['preResult'] # add another column 'operand' for the big decoder\n"
     ]
    },
    {
     "name": "stdout",
     "output_type": "stream",
     "text": [
      "362 matching events found\n",
      "0 bad epochs dropped\n",
      "concat well\n",
      "<EpochsArray  |  n_events : 362 (all good), tmin : -0.5 (s), tmax : 4.5 (s), baseline : None>\n",
      "     run  operand1  operator  operand2  preResult  delay  corrResult  deviant  \\\n",
      "0      1         5         1         2          6      1           7       -1   \n",
      "1      1         3        -1         1          3      0           2        1   \n",
      "2      1         5         0        33          1      0           5       -4   \n",
      "3      1         5         1         2          6      1           7       -1   \n",
      "4      1         6        -1         2          7      1           4        3   \n",
      "5      1         4        -1         2          1      0           2       -1   \n",
      "6      1         6         1         3          5      0           9       -4   \n",
      "7      1         4         0        33          4      1           4        0   \n",
      "8      1         5         0        33          1      0           5       -4   \n",
      "9      1         6        -1         0          2      0           6       -4   \n",
      "10     1         4         1         1          7      1           5        2   \n",
      "11     1         6         1         0          6      0           6        0   \n",
      "12     1         3         1         0          2      1           3       -1   \n",
      "13     1         3        -1         2          1      1           1        0   \n",
      "14     1         5        -1         2          3      0           3        0   \n",
      "15     1         5         1         0          5      1           5        0   \n",
      "16     1         3        -1         1          3      0           2        1   \n",
      "17     1         3         1         2          5      0           5        0   \n",
      "18     1         6        -1         3          7      0           3        4   \n",
      "19     1         5         1         1          6      1           6        0   \n",
      "20     1         6         0        33          6      1           6        0   \n",
      "21     1         5         1         3          4      1           8       -4   \n",
      "22     1         6         1         2          6      0           8       -2   \n",
      "23     1         3         1         3          7      1           6        1   \n",
      "24     1         3        -1         3          3      0           0        3   \n",
      "25     1         6         1         1          7      1           7        0   \n",
      "26     1         4        -1         3          4      0           1        3   \n",
      "27     1         5        -1         1          2      0           4       -2   \n",
      "28     1         4        -1         0          4      0           4        0   \n",
      "29     1         4         0        33          1      0           4       -3   \n",
      "..   ...       ...       ...       ...        ...    ...         ...      ...   \n",
      "332   10         5         0        33          5      0           5        0   \n",
      "333   10         4         0        33          5      1           4        1   \n",
      "334   10         4         1         1          7      1           5        2   \n",
      "335   10         4         1         0          8      0           4        4   \n",
      "336   10         5         1         0          3      1           5       -2   \n",
      "337   10         3         0        33          5      0           3        2   \n",
      "338   10         3         1         1          4      1           4        0   \n",
      "339   10         6         1         1          4      1           7       -3   \n",
      "340   10         5        -1         0          1      0           5       -4   \n",
      "341   10         3        -1         0          3      1           3        0   \n",
      "342   10         6         1         0          6      0           6        0   \n",
      "343   10         4        -1         2          2      0           2        0   \n",
      "344   10         4         1         2          4      0           6       -2   \n",
      "345   10         5         1         1          6      1           6        0   \n",
      "346   10         6        -1         0          7      1           6        1   \n",
      "347   10         6         0        33          9      0           6        3   \n",
      "348   10         3        -1         3          3      0           0        3   \n",
      "349   10         5        -1         3          2      1           2        0   \n",
      "350   10         5        -1         1          5      0           4        1   \n",
      "351   10         3         1         2          8      0           5        3   \n",
      "352   10         3         1         3          4      0           6       -2   \n",
      "353   10         5         1         3          9      0           8        1   \n",
      "354   10         6        -1         3          7      1           3        4   \n",
      "355   10         3         0        33          2      0           3       -1   \n",
      "356   10         6         1         2          6      1           8       -2   \n",
      "357   10         5         1         2          7      0           7        0   \n",
      "358   10         4         0        33          4      1           4        0   \n",
      "359   10         6         1         3          7      0           9       -2   \n",
      "360   10         3         1         0          3      1           3        0   \n",
      "361   10         4        -1         1          3      0           3        0   \n",
      "\n",
      "     absdeviant    rt  respSide  \n",
      "0             1   996         1  \n",
      "1             1  1085         1  \n",
      "2             4  1126         1  \n",
      "3             1  1003         1  \n",
      "4             3  1162         1  \n",
      "5             1  1054         1  \n",
      "6             4  1116         1  \n",
      "7             0  1207        -1  \n",
      "8             4   997         1  \n",
      "9             4  1160         1  \n",
      "10            2  1218         1  \n",
      "11            0  1043        -1  \n",
      "12            1   990         1  \n",
      "13            0  2295        -1  \n",
      "14            0  1103        -1  \n",
      "15            0   788        -1  \n",
      "16            1  1065         1  \n",
      "17            0   687        -1  \n",
      "18            4  1643         1  \n",
      "19            0  1031        -1  \n",
      "20            0   822        -1  \n",
      "21            4   970         1  \n",
      "22            2  1318         1  \n",
      "23            1  1517         1  \n",
      "24            3  1581         1  \n",
      "25            0  1276         1  \n",
      "26            3   981         1  \n",
      "27            2   833         1  \n",
      "28            0  1012        -1  \n",
      "29            3  1101         1  \n",
      "..          ...   ...       ...  \n",
      "332           0  1234         1  \n",
      "333           1   779        -1  \n",
      "334           2  1214        -1  \n",
      "335           4  1185        -1  \n",
      "336           2   777        -1  \n",
      "337           2  1863        -1  \n",
      "338           0  1133        -1  \n",
      "339           3  1006        -1  \n",
      "340           4  1231        -1  \n",
      "341           0   586         1  \n",
      "342           0   704         1  \n",
      "343           0   815         1  \n",
      "344           2  1142        -1  \n",
      "345           0  1181         1  \n",
      "346           1  1175         1  \n",
      "347           3  1668        -1  \n",
      "348           3  1417        -1  \n",
      "349           0   898         1  \n",
      "350           1  2044        -1  \n",
      "351           3     0        -1  \n",
      "352           2  1169        -1  \n",
      "353           1  1668        -1  \n",
      "354           4  1541        -1  \n",
      "355           1  2115        -1  \n",
      "356           2  1035        -1  \n",
      "357           0  1321         1  \n",
      "358           0   771         1  \n",
      "359           2  1242        -1  \n",
      "360           0  1814         1  \n",
      "361           0   932         1  \n",
      "\n",
      "[362 rows x 11 columns]\n",
      "1086 matching events found\n",
      "0 bad epochs dropped\n",
      "Applying baseline correction ... (mode: mean)\n"
     ]
    },
    {
     "name": "stderr",
     "output_type": "stream",
     "text": [
      "/volatile/anaconda/lib/python2.7/site-packages/mne/epochs.py:394: UserWarning: The measurement information indicates a low-pass frequency of 125 Hz. The decim=100 parameter will result in a sampling frequency of 2.5 Hz, which can cause aliasing artifacts.\n",
      "  % (lowpass, decim, new_sfreq))  # > 50% nyquist limit\n"
     ]
    }
   ],
   "source": [
    "import sys \n",
    "sys.path.append('/neurospin/meg/meg_tmp/Calculation_Pedro_2014/scripts/decoding')\n",
    "from calc_dec_wTask_CR import calc_dec_wTask_CR\n",
    "gat, score, diagonal = calc_dec_wTask_CR('/neurospin/meg/meg_tmp/Calculation_Pedro_2014',['opbigdec', 'opbigdec'],'s01','class')"
   ]
  },
  {
   "cell_type": "code",
   "execution_count": null,
   "metadata": {
    "collapsed": false
   },
   "outputs": [],
   "source": [
    "%debug"
   ]
  },
  {
   "cell_type": "code",
   "execution_count": null,
   "metadata": {
    "collapsed": false
   },
   "outputs": [],
   "source": [
    "import sys \n",
    "sys.path.append('/neurospin/meg/meg_tmp/Calculation_Pedro_2014/scripts/decoding')\n",
    "from fldtrp2mne_calc import fldtrp2mne_calc\n",
    "import numpy as np\n",
    "import mne\n",
    "import pandas as pd"
   ]
  },
  {
   "cell_type": "code",
   "execution_count": null,
   "metadata": {
    "collapsed": false
   },
   "outputs": [],
   "source": [
    "data_path = '/neurospin/meg/meg_tmp/Calculation_Pedro_2014/data/mat'\n",
    "Subject = 's01'"
   ]
  },
  {
   "cell_type": "code",
   "execution_count": null,
   "metadata": {
    "collapsed": true
   },
   "outputs": [],
   "source": [
    "fname_calc = data_path + '/' + Subject + '_calc_smooth.mat'\n",
    "epoch_calc,info_calc = fldtrp2mne_calc(fname_calc, 'data', 'calc')\n"
   ]
  },
  {
   "cell_type": "code",
   "execution_count": null,
   "metadata": {
    "collapsed": false
   },
   "outputs": [],
   "source": [
    "idx_delay = info_calc['delay'] == 1\n",
    "idx_nodelay = info_calc['delay'] == 0\n",
    "epoch_calc_delay = epoch_calc[idx_delay]\n",
    "epoch_calc_nodelay = epoch_calc[idx_nodelay]\n",
    "epoch_calc_Op1 = epoch_calc[info_calc['operand1'] < 100] # have to add that otherwise it rewrites info_calc!-why?\n",
    "epoch_calc_Op2 = epoch_calc[info_calc['operand1'] < 100] \n",
    "\n",
    "info_calc_delay = info_calc[info_calc['delay'] == 1]\n",
    "info_calc_nodelay = info_calc[info_calc['delay'] == 0]\n",
    "info_calc_Op1 = info_calc[info_calc['operand1'] < 100]\n",
    "info_calc_Op2 = info_calc[info_calc['operand1'] < 100]\n",
    "\n",
    "time_calc_crop = np.arange(-0.1,0.8004,0.004) \n",
    "\n",
    "epoch_calc_delay.crop(3.5,4.4)\n",
    "epoch_calc_delay.times = time_calc_crop\n",
    "\n",
    "epoch_calc_nodelay.crop(3.1,4)\n",
    "epoch_calc_nodelay.times = time_calc_crop\n",
    "\n",
    "info_calc_delay['operand'] = info_calc_delay['preResult'] # add another column 'operand' for the big decoder\n",
    "info_calc_nodelay['operand'] = info_calc_nodelay['preResult'] # add another column 'operand' for the big decoder\n",
    "\n",
    "epoch_calc_resplock = mne.epochs.concatenate_epochs([epoch_calc_delay,epoch_calc_nodelay])\n",
    "info_calc_resplock = pd.concat([info_calc_delay, info_calc_nodelay])\n",
    "print 'concat well'\n",
    "# Create the big decoder with operand1, operand2 and presented result \n",
    "# Epochs will have 900 ms, -100 to 800. \n",
    "# Epochs Operand1\n",
    "epoch_calc_Op1.crop(-0.1,0.8)\n",
    "epoch_calc_Op1.times = time_calc_crop\n",
    "info_calc_Op1['operand'] = info_calc_Op1['operand1'] # add another column 'operand' for the big decoder\n",
    "print epoch_calc\n",
    "print info_calc\n",
    "# Epochs Operand1\n",
    "epoch_calc_Op2.crop(0.7, 1.6)\n",
    "epoch_calc_Op2.times = time_calc_crop\n",
    "info_calc_Op2['operand'] = info_calc_Op2['operand2'] # add another column 'operand' for the big decoder\n",
    "# Concatenate\n",
    "epoch_calc_bigdec = mne.epochs.concatenate_epochs([epoch_calc_Op1,epoch_calc_Op2,epoch_calc_delay,epoch_calc_nodelay])\t\n",
    "info_calc_bigdec = pd.concat([info_calc_Op1,info_calc_Op2,info_calc_delay, info_calc_nodelay])\n"
   ]
  },
  {
   "cell_type": "code",
   "execution_count": null,
   "metadata": {
    "collapsed": false
   },
   "outputs": [],
   "source": [
    "train_index = info_calc_bigdec['operator'] != 0\n",
    "X_train = epoch_calc_bigdec[train_index]\n",
    "y_train = np.array(info_calc_bigdec[train_index]['operand'])\n",
    "y_train = y_train.astype(np.float64)\n",
    "X_test = X_train\n",
    "y_test = y_train"
   ]
  },
  {
   "cell_type": "code",
   "execution_count": null,
   "metadata": {
    "collapsed": false
   },
   "outputs": [],
   "source": [
    "unique, counts = np.unique(y_train, return_counts=True)\n",
    "print np.asarray((unique, counts)).T"
   ]
  },
  {
   "cell_type": "code",
   "execution_count": null,
   "metadata": {
    "collapsed": false
   },
   "outputs": [],
   "source": [
    "idx_delay = info_calc['delay'] == 1\n",
    "idx_nodelay = info_calc['delay'] == 0\n",
    "\n",
    "info_calc_delay = info_calc[info_calc['delay'] == 1]\n",
    "info_calc_nodelay = info_calc[info_calc['delay'] == 0]\n",
    "\n",
    "time_calc_crop = np.arange(-0.1,0.8004,0.004) \n",
    "\n",
    "epoch_calc_delay = epoch_calc[idx_delay]\n",
    "epoch_calc_delay.crop(3.5,4.4)\n",
    "epoch_calc_delay.times = time_calc_crop\n",
    "\n",
    "epoch_calc_nodelay = epoch_calc[idx_nodelay]\n",
    "epoch_calc_nodelay.crop(3.1,4)\n",
    "epoch_calc_nodelay.times = time_calc_crop\n",
    "\n",
    "info_calc_delay['operand'] = info_calc_delay['preResult'] # add another column 'operand' for the big decoder\n",
    "info_calc_nodelay['operand'] = info_calc_nodelay['preResult'] # add another column 'operand' for the big decoder\n",
    "\n",
    "epoch_calc_resplock = mne.epochs.concatenate_epochs([epoch_calc_delay,epoch_calc_nodelay])\n",
    "info_calc_resplock = pd.concat([info_calc_delay, info_calc_nodelay])\n",
    "\n"
   ]
  },
  {
   "cell_type": "code",
   "execution_count": null,
   "metadata": {
    "collapsed": false
   },
   "outputs": [],
   "source": [
    "idx_delay = info_calc['delay'] == 1\n",
    "idx_nodelay = info_calc['delay'] == 0\n",
    "\n",
    "info_calc_delay = info_calc[info_calc['delay'] == 1]\n",
    "info_calc_nodelay = info_calc[info_calc['delay'] == 0]\n",
    "\n",
    "time_calc_crop = np.arange(-0.1,0.8004,0.004) \n",
    "\n",
    "epoch_calc_delay = epoch_calc[idx_delay]\n",
    "epoch_calc_delay.crop(3.5,4.4)\n",
    "epoch_calc_delay.times = time_calc_crop\n",
    "\n",
    "epoch_calc_nodelay = epoch_calc[idx_nodelay]\n",
    "epoch_calc_nodelay.crop(3.1,4)\n",
    "epoch_calc_nodelay.times = time_calc_crop\n",
    "\n",
    "info_calc_delay['operand'] = info_calc_delay['preResult'] # add another column 'operand' for the big decoder\n",
    "info_calc_nodelay['operand'] = info_calc_nodelay['preResult'] # add another column 'operand' for the big decoder\n",
    "\n",
    "epoch_calc_resplock = mne.epochs.concatenate_epochs([epoch_calc_delay,epoch_calc_nodelay])\n",
    "info_calc_resplock = pd.concat([info_calc_delay, info_calc_nodelay])\n"
   ]
  },
  {
   "cell_type": "code",
   "execution_count": null,
   "metadata": {
    "collapsed": false
   },
   "outputs": [],
   "source": [
    "# Epochs Operand1\n",
    "epoch_calc_Op1 = epoch_calc\n",
    "epoch_calc_Op1.crop(-1,0.8)\n",
    "info_calc_Op1['operand'] = info_calc_Op1['operand1'] # add another column 'operand' for the big decoder\n",
    "\n",
    "epoch_calc_Op2 = epoch_calc\n",
    "epoch_calc_Op2.crop(0.7, 1.6)\n",
    "info_calc_Op2['operand'] = info_calc_Op2['operand2'] # add another column 'operand' for the big decoder\n",
    "\n",
    "epoch_calc_bigdec = mne.epochs.concatenate_epochs([epoch_calc_Op1,epoch_calc_Op2,epoch_calc_delay,epoch_calc_nodelay])\t\n",
    "info_calc_bigdec = pd.concat([info_calc_Op1,info_calc_Op2,info_calc_delay, info_calc_nodelay])"
   ]
  },
  {
   "cell_type": "code",
   "execution_count": null,
   "metadata": {
    "collapsed": false
   },
   "outputs": [],
   "source": [
    "epoch_calc"
   ]
  },
  {
   "cell_type": "code",
   "execution_count": null,
   "metadata": {
    "collapsed": false
   },
   "outputs": [],
   "source": [
    "idx_delay = info_calc['delay'] == 1\n",
    "idx_nodelay = info_calc['delay'] == 0\n",
    "time_calc_crop = np.arange(-0.1,0.8004,0.004)\n",
    "\n"
   ]
  },
  {
   "cell_type": "code",
   "execution_count": null,
   "metadata": {
    "collapsed": false
   },
   "outputs": [],
   "source": [
    "epoch_calc_delay = epoch_calc[idx_delay]\n",
    "epoch_calc_delay.crop(3.5,4.4)\n",
    "epoch_calc_delay.times = time_calc_crop\n"
   ]
  },
  {
   "cell_type": "code",
   "execution_count": null,
   "metadata": {
    "collapsed": false
   },
   "outputs": [],
   "source": [
    "epoch_calc_nodelay = epoch_calc[idx_nodelay]\n",
    "epoch_calc_nodelay.crop(3.1,4)\n",
    "epoch_calc_nodelay.times = time_calc_crop"
   ]
  },
  {
   "cell_type": "code",
   "execution_count": null,
   "metadata": {
    "collapsed": false
   },
   "outputs": [],
   "source": [
    "epoch_calc_resplock = mne.epochs.concatenate_epochs([epoch_calc_delay,epoch_calc_nodelay])"
   ]
  },
  {
   "cell_type": "code",
   "execution_count": null,
   "metadata": {
    "collapsed": false
   },
   "outputs": [],
   "source": [
    "epoch_calc_res"
   ]
  },
  {
   "cell_type": "code",
   "execution_count": null,
   "metadata": {
    "collapsed": false
   },
   "outputs": [],
   "source": [
    "baseline = (-0.5, -0.05) #time for the baseline period\n",
    "epoch_calc.apply_baseline(baseline)\n",
    "evoked_baseline = epoch_calc.average()\n",
    "evoked_baseline.plot()"
   ]
  },
  {
   "cell_type": "code",
   "execution_count": null,
   "metadata": {
    "collapsed": false
   },
   "outputs": [],
   "source": [
    "%pylab inline \n",
    "evoked.plot()\n",
    "evoked_baseline.plot()"
   ]
  },
  {
   "cell_type": "code",
   "execution_count": null,
   "metadata": {
    "collapsed": false
   },
   "outputs": [],
   "source": [
    "info_calc_delay = info_calc[info_calc['delay'] == 1]\n",
    "info_calc_nodelay = info_calc[info_calc['delay'] == 0]\n"
   ]
  },
  {
   "cell_type": "code",
   "execution_count": null,
   "metadata": {
    "collapsed": false
   },
   "outputs": [],
   "source": [
    "info_calc_resplock = pd.concat([info_calc_delay, info_calc_nodelay])"
   ]
  },
  {
   "cell_type": "code",
   "execution_count": null,
   "metadata": {
    "collapsed": false
   },
   "outputs": [],
   "source": []
  },
  {
   "cell_type": "code",
   "execution_count": null,
   "metadata": {
    "collapsed": false
   },
   "outputs": [],
   "source": [
    "X_train = epoch_calc_resplock[(info_calc_resplock['preResult'] >= 3) & (info_calc_resplock['preResult'] <= 6)]"
   ]
  },
  {
   "cell_type": "code",
   "execution_count": null,
   "metadata": {
    "collapsed": false
   },
   "outputs": [],
   "source": [
    "y_train = np.array(info_calc_resplock['preResult'])\n",
    "y_train = y_train.astype(np.float64)\n",
    "X_test = X_train\n",
    "y_test = y_train"
   ]
  },
  {
   "cell_type": "code",
   "execution_count": null,
   "metadata": {
    "collapsed": false
   },
   "outputs": [],
   "source": [
    "y_train\n"
   ]
  },
  {
   "cell_type": "code",
   "execution_count": null,
   "metadata": {
    "collapsed": false
   },
   "outputs": [],
   "source": [
    "b"
   ]
  },
  {
   "cell_type": "code",
   "execution_count": null,
   "metadata": {
    "collapsed": false
   },
   "outputs": [],
   "source": [
    "%pylab qt\n",
    "a.plot()\n"
   ]
  },
  {
   "cell_type": "code",
   "execution_count": null,
   "metadata": {
    "collapsed": false
   },
   "outputs": [],
   "source": [
    "c = mne.epochs.concatenate_epochs([a,b])"
   ]
  },
  {
   "cell_type": "code",
   "execution_count": null,
   "metadata": {
    "collapsed": false
   },
   "outputs": [],
   "source": [
    "c"
   ]
  },
  {
   "cell_type": "code",
   "execution_count": null,
   "metadata": {
    "collapsed": false
   },
   "outputs": [],
   "source": [
    "c.plot()"
   ]
  },
  {
   "cell_type": "code",
   "execution_count": null,
   "metadata": {
    "collapsed": true
   },
   "outputs": [],
   "source": []
  }
 ],
 "metadata": {
  "kernelspec": {
   "display_name": "Python 2",
   "language": "python",
   "name": "python2"
  },
  "language_info": {
   "codemirror_mode": {
    "name": "ipython",
    "version": 2
   },
   "file_extension": ".py",
   "mimetype": "text/x-python",
   "name": "python",
   "nbconvert_exporter": "python",
   "pygments_lexer": "ipython2",
   "version": "2.7.11"
  }
 },
 "nbformat": 4,
 "nbformat_minor": 0
}
