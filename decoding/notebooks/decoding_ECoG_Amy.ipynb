{
 "cells": [
  {
   "cell_type": "code",
   "execution_count": 1,
   "metadata": {
    "collapsed": false
   },
   "outputs": [
    {
     "name": "stderr",
     "output_type": "stream",
     "text": [
      "/Users/pinheirochagas/anaconda/lib/python2.7/site-packages/matplotlib/font_manager.py:273: UserWarning: Matplotlib is building the font cache using fc-list. This may take a moment.\n",
      "  warnings.warn('Matplotlib is building the font cache using fc-list. This may take a moment.')\n"
     ]
    }
   ],
   "source": [
    "import sys \n",
    "#sys.path.append('/neurospin/meg/meg_tmp/Calculation_Pedro_2014/scripts/decoding')\n",
    "sys.path.append('/Users/pinheirochagas/Pedro/NeuroSpin/Experiments/Calc_MEG/scripts_git/Calc_MEG/decoding/')\n",
    "from ecog2mne_calc import ecog2mne_calc\n",
    "\n",
    "import numpy as np\n",
    "from calc_classification import calc_classification\n",
    "\n",
    "from jr.plot import pretty_gat, pretty_decod\n",
    "from jr_tweaked.plot import pretty_gat, pretty_decod\n",
    "\n",
    "import mne\n",
    "from mne.decoding import GeneralizationAcrossTime"
   ]
  },
  {
   "cell_type": "code",
   "execution_count": 2,
   "metadata": {
    "collapsed": true
   },
   "outputs": [],
   "source": [
    "#result_path = '/Volumes/NeuroSpin2T/Calculia/validdata/S14_64_SP/data_fieldtrip/decoding/'\n",
    "#fname_ecog = '/Volumes/NeuroSpin2T/Calculia/validdata/S14_64_SP/data_fieldtrip/S14_64_SP_selected.mat'\n",
    "\n",
    "result_path = '/Volumes/NeuroSpin2T/Calculia/validdata/S16_94_DR/data_fieldtrip/decoding/'\n",
    "fname_ecog = '/Volumes/NeuroSpin2T/Calculia/validdata/S16_94_DR/data_fieldtrip/S16_94_DR_selected.mat'"
   ]
  },
  {
   "cell_type": "code",
   "execution_count": 12,
   "metadata": {
    "collapsed": false
   },
   "outputs": [],
   "source": [
    "epoch_calc,info_calc = ecog2mne_calc(fname_ecog, 'data')"
   ]
  },
  {
   "cell_type": "code",
   "execution_count": 4,
   "metadata": {
    "collapsed": false
   },
   "outputs": [
    {
     "name": "stdout",
     "output_type": "stream",
     "text": [
      "Applying baseline correction (mode: mean)\n",
      "The measurement information indicates a low-pass frequency of 250 Hz. The decim=100 parameter will result in a sampling frequency of 5 Hz, which can cause aliasing artifacts.\n"
     ]
    },
    {
     "name": "stderr",
     "output_type": "stream",
     "text": [
      "/Users/pinheirochagas/anaconda/lib/python2.7/site-packages/ipykernel/__main__.py:5: RuntimeWarning: The measurement information indicates a low-pass frequency of 250 Hz. The decim=100 parameter will result in a sampling frequency of 5 Hz, which can cause aliasing artifacts.\n"
     ]
    },
    {
     "data": {
      "text/plain": [
       "<EpochsArray  |  n_events : 200 (all good), tmin : -0.5 (s), tmax : 5.5 (s), baseline : (-0.5, -0.05)>"
      ]
     },
     "execution_count": 4,
     "metadata": {},
     "output_type": "execute_result"
    }
   ],
   "source": [
    "baseline = (-0.5, -0.05) #time for the baseline period\n",
    "epoch_calc.apply_baseline(baseline)\n",
    "\n",
    "downsampling = 2\n",
    "epoch_calc.decimate(downsampling)"
   ]
  },
  {
   "cell_type": "code",
   "execution_count": 13,
   "metadata": {
    "collapsed": false
   },
   "outputs": [
    {
     "data": {
      "text/plain": [
       "array([-0.5  , -0.498, -0.496, ...,  5.496,  5.498,  5.5  ])"
      ]
     },
     "execution_count": 13,
     "metadata": {},
     "output_type": "execute_result"
    }
   ],
   "source": [
    "epoch_calc.times\n"
   ]
  },
  {
   "cell_type": "code",
   "execution_count": null,
   "metadata": {
    "collapsed": false
   },
   "outputs": [],
   "source": []
  },
  {
   "cell_type": "code",
   "execution_count": null,
   "metadata": {
    "collapsed": false
   },
   "outputs": [],
   "source": [
    "# condA = info_calc['operand1'] == 2\n",
    "# condB = info_calc['operand1'] == 3\n",
    "# condC = info_calc['operand1'] == 4\n",
    "# condD = info_calc['operand1'] == 7\n",
    "# condE = info_calc['operand1'] == 8\n",
    "# condF = info_calc['operand1'] == 9\n",
    "\n",
    "# #Sanity check #1: Plot evoked response\n",
    "# evoked_condA = epoch_calc[condA].average() # \n",
    "# evoked_condB = epoch_calc[condB].average() #   \n",
    "# evoked_condC = epoch_calc[condC].average() #   \n",
    "# evoked_condD = epoch_calc[condD].average() #   \n",
    "# evoked_condE = epoch_calc[condE].average() #   \n",
    "# evoked_condF = epoch_calc[condF].average() #   \n",
    "\n",
    "# evoked_condA.plot()\n",
    "# evoked_condB.plot()\n",
    "# evoked_condC.plot()\n",
    "# evoked_condD.plot()  \n",
    "# evoked_condC.plot()\n",
    "# evoked_condD.plot()  \n",
    "\n",
    "# plt.show()"
   ]
  },
  {
   "cell_type": "code",
   "execution_count": null,
   "metadata": {
    "collapsed": false
   },
   "outputs": [],
   "source": [
    "condA = info_calc['operand1'] == 3\n",
    "evoked_condA = epoch_calc[condA].average() # \n"
   ]
  },
  {
   "cell_type": "code",
   "execution_count": null,
   "metadata": {
    "collapsed": false
   },
   "outputs": [],
   "source": [
    "evoked_condA.plot()"
   ]
  },
  {
   "cell_type": "code",
   "execution_count": null,
   "metadata": {
    "collapsed": false
   },
   "outputs": [],
   "source": [
    "condA = info_calc['operand1'] == 3\n",
    "condB = info_calc['operand1'] == 4\n",
    "condC = info_calc['operand1'] == 5\n",
    "condD = info_calc['operand1'] == 6\n",
    "\n",
    "#Sanity check #1: Plot evoked response\n",
    "evoked_condA = epoch_calc[condA].average() # \n",
    "evoked_condB = epoch_calc[condB].average() #   \n",
    "evoked_condC = epoch_calc[condC].average() #   \n",
    "evoked_condD = epoch_calc[condD].average() #   \n",
    "\n",
    "evoked_condA.plot()\n",
    "evoked_condB.plot()\n",
    "evoked_condC.plot()\n",
    "evoked_condD.plot()  \n",
    "\n",
    "plt.show()"
   ]
  },
  {
   "cell_type": "code",
   "execution_count": 17,
   "metadata": {
    "collapsed": true
   },
   "outputs": [],
   "source": [
    "trainTimes = {'start': -0.4, 'stop': 3.2}\n",
    "testTimes = {'start': -0.4, 'stop': 3.2}\n",
    "params = {'trainTimes': trainTimes, 'testTimes': testTimes}"
   ]
  },
  {
   "cell_type": "code",
   "execution_count": 18,
   "metadata": {
    "collapsed": false
   },
   "outputs": [],
   "source": [
    "train_index = (info_calc['operand1'] < 10) \n",
    "X_train = epoch_calc[train_index]\n",
    "y_train = np.array(info_calc[train_index]['operand1'])\n",
    "y_train = y_train.astype(np.float64)\n",
    "X_test = X_train\n",
    "y_test = y_train\n",
    "mode = 'cross-validation'\n",
    "params.update({'mode': mode})"
   ]
  },
  {
   "cell_type": "code",
   "execution_count": null,
   "metadata": {
    "collapsed": false
   },
   "outputs": [],
   "source": []
  },
  {
   "cell_type": "code",
   "execution_count": 19,
   "metadata": {
    "collapsed": false
   },
   "outputs": [
    {
     "name": "stderr",
     "output_type": "stream",
     "text": [
      "[Parallel(n_jobs=6)]: Done   6 out of   6 | elapsed:   38.7s finished\n",
      "[Parallel(n_jobs=6)]: Done   6 out of   6 | elapsed: 55.0min finished\n",
      "[Parallel(n_jobs=6)]: Done   6 out of   6 | elapsed:  8.7min finished\n"
     ]
    }
   ],
   "source": [
    "gat, score, diagonal = calc_classification(X_train, y_train, X_test, y_test, params)\n"
   ]
  },
  {
   "cell_type": "code",
   "execution_count": null,
   "metadata": {
    "collapsed": false
   },
   "outputs": [],
   "source": []
  },
  {
   "cell_type": "code",
   "execution_count": 10,
   "metadata": {
    "collapsed": false
   },
   "outputs": [
    {
     "name": "stdout",
     "output_type": "stream",
     "text": [
      "Populating the interactive namespace from numpy and matplotlib\n"
     ]
    },
    {
     "data": {
      "text/plain": [
       "<matplotlib.axes._subplots.AxesSubplot at 0x10eabdf90>"
      ]
     },
     "execution_count": 10,
     "metadata": {},
     "output_type": "execute_result"
    },
    {
     "data": {
      "image/png": "[encoded data removed]",
      "text/plain": [
       "<matplotlib.figure.Figure at 0x103b598d0>"
      ]
     },
     "metadata": {},
     "output_type": "display_data"
    }
   ],
   "source": [
    "%pylab inline\n",
    "pretty_gat(score, chance=.25)\n"
   ]
  },
  {
   "cell_type": "code",
   "execution_count": 11,
   "metadata": {
    "collapsed": false
   },
   "outputs": [
    {
     "data": {
      "text/plain": [
       "<matplotlib.axes._subplots.AxesSubplot at 0x10ea22b50>"
      ]
     },
     "execution_count": 11,
     "metadata": {},
     "output_type": "execute_result"
    },
    {
     "data": {
      "image/png": "[encoded data removed]",
      "text/plain": [
       "<matplotlib.figure.Figure at 0x10eda1a50>"
      ]
     },
     "metadata": {},
     "output_type": "display_data"
    }
   ],
   "source": [
    "pretty_decod(score, chance=.25, alpha=4, smoothWindow=1, color='blue')"
   ]
  },
  {
   "cell_type": "code",
   "execution_count": null,
   "metadata": {
    "collapsed": false
   },
   "outputs": [],
   "source": [
    "results = {'params': params, 'times_calc': epoch_calc.times, 'score': score, 'diagonal': diagonal, 'y_train': y_train, 'y_test': y_test}\n"
   ]
  },
  {
   "cell_type": "code",
   "execution_count": null,
   "metadata": {
    "collapsed": false
   },
   "outputs": [],
   "source": [
    "params"
   ]
  },
  {
   "cell_type": "code",
   "execution_count": null,
   "metadata": {
    "collapsed": false
   },
   "outputs": [],
   "source": [
    "fname = result_path + 'decoding_operand1'\n",
    "np.save(fname, results)"
   ]
  },
  {
   "cell_type": "code",
   "execution_count": null,
   "metadata": {
    "collapsed": false
   },
   "outputs": [],
   "source": [
    "X_train = epoch_calc\n",
    "y_train = np.array(info_calc['isCalc'])\n",
    "y_train = y_train.astype(np.float64)\n",
    "X_test = X_train\n",
    "y_test = y_train\n",
    "trainTimes = {'start': -0.1, 'stop': 4.5}\n",
    "testTimes = {'start': -0.1, 'stop': 4.5}\n",
    "mode = 'cross-validation'\n",
    "params.update({'mode': mode})"
   ]
  },
  {
   "cell_type": "code",
   "execution_count": null,
   "metadata": {
    "collapsed": false
   },
   "outputs": [],
   "source": [
    "gat, score, diagonal = calc_classification(X_train, y_train, X_test, y_test, params)\n"
   ]
  },
  {
   "cell_type": "code",
   "execution_count": null,
   "metadata": {
    "collapsed": false
   },
   "outputs": [],
   "source": [
    "%pylab inline\n",
    "pretty_gat(score, chance=.5)\n",
    "plt.show()"
   ]
  },
  {
   "cell_type": "code",
   "execution_count": null,
   "metadata": {
    "collapsed": false
   },
   "outputs": [],
   "source": [
    "gat.plot_diagonal(chance = .5)"
   ]
  },
  {
   "cell_type": "code",
   "execution_count": null,
   "metadata": {
    "collapsed": false
   },
   "outputs": [],
   "source": [
    "fname = result_path + 'decoding_operand1'\n",
    "\n",
    "scores_op1 = np.load(fname + '.npy')"
   ]
  },
  {
   "cell_type": "code",
   "execution_count": null,
   "metadata": {
    "collapsed": false
   },
   "outputs": [],
   "source": [
    "results = scores_op1.tolist()\n"
   ]
  },
  {
   "cell_type": "code",
   "execution_count": null,
   "metadata": {
    "collapsed": false
   },
   "outputs": [],
   "source": [
    "all_scores.append(results['score'])\n",
    "all_diagonals.append(results['diagonal'])"
   ]
  },
  {
   "cell_type": "code",
   "execution_count": null,
   "metadata": {
    "collapsed": false
   },
   "outputs": [],
   "source": [
    "score = results['score']\n",
    "diagonal = results['diagonal']"
   ]
  },
  {
   "cell_type": "code",
   "execution_count": null,
   "metadata": {
    "collapsed": false
   },
   "outputs": [],
   "source": [
    "scores_op1"
   ]
  },
  {
   "cell_type": "code",
   "execution_count": null,
   "metadata": {
    "collapsed": false
   },
   "outputs": [],
   "source": [
    "score"
   ]
  },
  {
   "cell_type": "code",
   "execution_count": null,
   "metadata": {
    "collapsed": false
   },
   "outputs": [],
   "source": []
  },
  {
   "cell_type": "code",
   "execution_count": null,
   "metadata": {
    "collapsed": false
   },
   "outputs": [],
   "source": []
  },
  {
   "cell_type": "code",
   "execution_count": null,
   "metadata": {
    "collapsed": true
   },
   "outputs": [],
   "source": [
    "info_calc_train['operand1'].map(lambda x: x[0])"
   ]
  }
 ],
 "metadata": {
  "kernelspec": {
   "display_name": "Python 2",
   "language": "python",
   "name": "python2"
  },
  "language_info": {
   "codemirror_mode": {
    "name": "ipython",
    "version": 2
   },
   "file_extension": ".py",
   "mimetype": "text/x-python",
   "name": "python",
   "nbconvert_exporter": "python",
   "pygments_lexer": "ipython2",
   "version": "2.7.11"
  }
 },
 "nbformat": 4,
 "nbformat_minor": 0
}
