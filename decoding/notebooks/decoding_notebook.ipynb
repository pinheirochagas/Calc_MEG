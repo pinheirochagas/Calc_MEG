{
 "cells": [
  {
   "cell_type": "code",
   "execution_count": 1,
   "metadata": {
    "collapsed": false
   },
   "outputs": [],
   "source": [
    "%matplotlib inline\n",
    "#Libraries\n",
    "import sys\n",
    "#sys.path.append('/neurospin/meg/meg_tmp/Calculation_Pedro_2014/scripts/decoding')\n",
    "sys.path.append('/Users/pinheirochagas/Pedro/NeuroSpin/Experiments/Calc_MEG/scripts_git/Calc_MEG/decoding/')\n",
    "import numpy as np\n",
    "import matplotlib.pyplot as plt\n",
    "import scipy.io as sio\n",
    "from scipy import stats\n",
    "from scipy.stats import wilcoxon\n",
    "\n",
    "#Personal functions\n",
    "from initDirs import dirs\n",
    "\n",
    "from jr.plot import base, gat_plot, pretty_gat, pretty_decod, pretty_slices\n",
    "from jr.stats import gat_stats, parallel_stats\n"
   ]
  },
  {
   "cell_type": "code",
   "execution_count": 2,
   "metadata": {
    "collapsed": true
   },
   "outputs": [],
   "source": [
    "#Define custom wilcoxon\n",
    "def _my_wilcoxon(X):\n",
    "    out = wilcoxon(X)\n",
    "    return out[1]"
   ]
  },
  {
   "cell_type": "code",
   "execution_count": 3,
   "metadata": {
    "collapsed": true
   },
   "outputs": [],
   "source": [
    "#Basics\n",
    "#Paths\n",
    "\n",
    "#List of parameters\n",
    "subjects = ['s03', 's04', 's05', 's06', 's07', 's08', 's09', 's10',\n",
    "            's11', 's13', 's14', 's15', 's16', 's17', 's18', 's19', 's22']\n",
    "\n",
    "#subjects = ['s03']\n",
    "#s02_op1_op1_results_class_accuracy_diagonal_nobaseline_correct.npy\n",
    "\n",
    "baselinecorr = 'nobaseline_correct'\n",
    "dec_method = 'class'\n",
    "dec_scorer = 'accuracy'\n",
    "gatordiag = 'diagonal'\n",
    "\n",
    "conditions = [['addsub', 'addsub']]\n",
    "\n",
    "sfreq = 250\n",
    "chance = .5 #chance-level\n",
    "\n",
    "ttp = [-0.2] #starting time point\n",
    "toi = [[0.3, 0.6], [0.8, 2.532]] #training time points over which to average"
   ]
  },
  {
   "cell_type": "code",
   "execution_count": 4,
   "metadata": {
    "collapsed": false
   },
   "outputs": [],
   "source": [
    "#Initialize results\n",
    "all_scores = []\n",
    "all_diagonals = []\n",
    "all_ypred = []"
   ]
  },
  {
   "cell_type": "code",
   "execution_count": 5,
   "metadata": {
    "collapsed": false
   },
   "outputs": [
    {
     "name": "stdout",
     "output_type": "stream",
     "text": [
      "loading subject s03\n",
      "loading subject s04\n",
      "loading subject s05\n",
      "loading subject s06\n",
      "loading subject s07\n",
      "loading subject s08\n",
      "loading subject s09\n",
      "loading subject s10\n",
      "loading subject s11\n",
      "loading subject s13\n",
      "loading subject s14\n",
      "loading subject s15\n",
      "loading subject s16\n",
      "loading subject s17\n",
      "loading subject s18\n",
      "loading subject s19\n",
      "loading subject s22\n"
     ]
    }
   ],
   "source": [
    "####################Load data####################\n",
    "for c, cond in enumerate(conditions):\n",
    "    for s, subject in enumerate(subjects):\n",
    "        print('loading subject ' + subject)\n",
    "        fname = dirs['ind_result'] + cond[0] + '_' + cond[1] + '/' + subject + '_' + cond[0] + '_' + cond[1] + '_' + 'results' + '_' + dec_method + '_' + dec_scorer + '_' + gatordiag + '_' + baselinecorr + '.npy'\n",
    "        #fname = dirs['ind_result'] + cond[0] + '_' + cond[1] + '/' + subject + '_' + cond[0] + '_' + cond[1] + '_' + 'results' + '_' + dec_method + '_' + dec_scorer + '_' + gatordiag + '.npy'\n",
    "        results = np.load(fname)\n",
    "        results = results.tolist()\n",
    "        all_scores.append(results['score'])\n",
    "        all_diagonals.append(results['diagonal'])\n",
    "        all_ypred.append(results['y_pred'])\n",
    "        #times = results['times_calc']\n",
    "score = results['score']\n",
    "diagonal = results['diagonal']\n",
    "ypred = results['y_pred']\n",
    "all_scores = np.array(all_scores) #shape: subjects*n_cond, training_times, testing_times\n",
    "all_diagonals = np.array(all_diagonals)  \n",
    "#all_ypred = np.array(all_ypred)  "
   ]
  },
  {
   "cell_type": "code",
   "execution_count": 6,
   "metadata": {
    "collapsed": false
   },
   "outputs": [],
   "source": [
    "#Reshape and average data\n",
    "all_scores = np.reshape(all_scores, (len(conditions), len(subjects), score.shape[0], score.shape[1])) #n_cond, n_subj, training_times, testing_times\n",
    "all_diagonals = np.reshape(all_diagonals, (len(conditions), len(subjects), diagonal.shape[0]))\n",
    "\n",
    "group_scores = np.zeros((len(conditions), all_scores.shape[2], all_scores.shape[3]))\n",
    "sem_group_scores = np.zeros((len(conditions), all_scores.shape[2], all_scores.shape[3]))\n",
    "group_diagonal = np.zeros((len(conditions), all_diagonals.shape[2]))\n",
    "sem_group_diagonal = np.zeros((len(conditions), all_diagonals.shape[2]))\n",
    "\n",
    "for c, cond in enumerate(conditions):\n",
    "    group_scores[c, :, :] = np.mean(all_scores[c, :, :, :], 0)\n",
    "    sem_group_scores[c, :, :] = stats.sem(all_scores[c, :, :, :], 0)\n",
    "\n",
    "    group_diagonal[c, :] = np.mean(all_diagonals[c, :, :], 0)\n",
    "    sem_group_diagonal[c, :] = stats.sem(all_diagonals[c, :, :], 0)"
   ]
  },
  {
   "cell_type": "code",
   "execution_count": 17,
   "metadata": {
    "collapsed": false
   },
   "outputs": [
    {
     "data": {
      "text/plain": [
       "(1, 17, 451, 1)"
      ]
     },
     "execution_count": 17,
     "metadata": {},
     "output_type": "execute_result"
    }
   ],
   "source": [
    "all_scores.shape"
   ]
  },
  {
   "cell_type": "code",
   "execution_count": null,
   "metadata": {
    "collapsed": false
   },
   "outputs": [],
   "source": []
  },
  {
   "cell_type": "code",
   "execution_count": null,
   "metadata": {
    "collapsed": false
   },
   "outputs": [],
   "source": []
  },
  {
   "cell_type": "code",
   "execution_count": 7,
   "metadata": {
    "collapsed": false
   },
   "outputs": [
    {
     "name": "stdout",
     "output_type": "stream",
     "text": [
      "calculating stats for condition_addsub_addsub\n"
     ]
    },
    {
     "name": "stderr",
     "output_type": "stream",
     "text": [
      "[Parallel(n_jobs=8)]: Done   3 out of   8 | elapsed:    0.0s remaining:    0.0s\n",
      "[Parallel(n_jobs=8)]: Done   5 out of   8 | elapsed:    0.0s remaining:    0.0s\n",
      "[Parallel(n_jobs=8)]: Done   8 out of   8 | elapsed:    0.0s finished\n",
      "[Parallel(n_jobs=8)]: Done   3 out of   8 | elapsed:    0.0s remaining:    0.0s\n",
      "[Parallel(n_jobs=8)]: Done   5 out of   8 | elapsed:    0.0s remaining:    0.0s\n",
      "[Parallel(n_jobs=8)]: Done   8 out of   8 | elapsed:    0.0s finished\n",
      "[Parallel(n_jobs=8)]: Done   1 out of   1 | elapsed:    0.0s finished\n",
      "[Parallel(n_jobs=8)]: Done   1 out of   1 | elapsed:    0.0s finished\n"
     ]
    }
   ],
   "source": [
    "#Compute stats for each condition separately\n",
    "p_values_gat = np.zeros((len(conditions), all_scores.shape[2], all_scores.shape[3]))\n",
    "p_values_gat_fdr = np.zeros((len(conditions), all_scores.shape[2], all_scores.shape[3]))\n",
    "p_values_diagonal = np.zeros((len(conditions), all_diagonals.shape[2]))\n",
    "p_values_diagonal_fdr = np.zeros((len(conditions), all_diagonals.shape[2]))\n",
    "\n",
    "\n",
    "for c, cond in enumerate(conditions):\n",
    "    print('calculating stats for condition' + '_' + cond[0] + '_' + cond[1])\n",
    "    p_values_gat[c, :, :] = parallel_stats(all_scores[c, :, :, :] - chance, function = _my_wilcoxon, correction = False, n_jobs = -1)\n",
    "    p_values_gat_fdr[c, :, :] = parallel_stats(all_scores[c, :, :, :] - chance, function = _my_wilcoxon, correction = 'FDR', n_jobs = -1)\n",
    "    p_values_diagonal[c, :] = parallel_stats(all_diagonals[c, :, :] - chance, function = _my_wilcoxon, correction = False, n_jobs = -1)\n",
    "    p_values_diagonal_fdr[c, :] = parallel_stats(all_diagonals[c, :, :] - chance, function = _my_wilcoxon, correction = 'FDR', n_jobs = -1)\n",
    "    \n",
    "    #Get one-sided p-value\n",
    "    p_values_diagonal[c, :] = p_values_diagonal[c, :]/2.\n",
    "    p_values_diagonal_fdr[c, :] = p_values_diagonal_fdr[c, :]/2."
   ]
  },
  {
   "cell_type": "code",
   "execution_count": null,
   "metadata": {
    "collapsed": false
   },
   "outputs": [],
   "source": []
  },
  {
   "cell_type": "code",
   "execution_count": 20,
   "metadata": {
    "collapsed": false
   },
   "outputs": [
    {
     "data": {
      "text/plain": [
       "(1, 17, 451, 1)"
      ]
     },
     "execution_count": 20,
     "metadata": {},
     "output_type": "execute_result"
    }
   ],
   "source": [
    "all_scores.shape"
   ]
  },
  {
   "cell_type": "code",
   "execution_count": 8,
   "metadata": {
    "collapsed": false
   },
   "outputs": [
    {
     "name": "stdout",
     "output_type": "stream",
     "text": [
      "s03\n",
      "['addsub', 'addsub']\n"
     ]
    },
    {
     "name": "stderr",
     "output_type": "stream",
     "text": [
      "/Users/pinheirochagas/anaconda/lib/python2.7/site-packages/matplotlib/axes/_base.py:2903: UserWarning: Attempting to set identical left==right results\n",
      "in singular transformations; automatically expanding.\n",
      "left=0.0079822616408, right=0.0079822616408\n",
      "  'left=%s, right=%s') % (left, right))\n"
     ]
    },
    {
     "ename": "IndexError",
     "evalue": "index 0 is out of bounds for axis 0 with size 0",
     "output_type": "error",
     "traceback": [
      "\u001b[0;31m---------------------------------------------------------------------------\u001b[0m",
      "\u001b[0;31mIndexError\u001b[0m                                Traceback (most recent call last)",
      "\u001b[0;32m<ipython-input-8-bbab5401c1b7>\u001b[0m in \u001b[0;36m<module>\u001b[0;34m()\u001b[0m\n\u001b[1;32m      6\u001b[0m         pretty_gat(all_scores[c, s,:,:], chance = chance, ax = None, sig = None, cmap = 'RdBu_r',\n\u001b[1;32m      7\u001b[0m              \u001b[0mclim\u001b[0m \u001b[0;34m=\u001b[0m \u001b[0mNone\u001b[0m\u001b[0;34m,\u001b[0m \u001b[0mcolorbar\u001b[0m \u001b[0;34m=\u001b[0m \u001b[0mTrue\u001b[0m\u001b[0;34m,\u001b[0m \u001b[0mxlabel\u001b[0m \u001b[0;34m=\u001b[0m \u001b[0;34m'Testing Time (s)'\u001b[0m\u001b[0;34m,\u001b[0m\u001b[0;34m\u001b[0m\u001b[0m\n\u001b[0;32m----> 8\u001b[0;31m              ylabel = 'Training Time (s)', sfreq = 125, test_times = None)\n\u001b[0m\u001b[1;32m      9\u001b[0m \u001b[0;34m\u001b[0m\u001b[0m\n\u001b[1;32m     10\u001b[0m         \u001b[0mplt\u001b[0m\u001b[0;34m.\u001b[0m\u001b[0mshow\u001b[0m\u001b[0;34m(\u001b[0m\u001b[0;34m)\u001b[0m\u001b[0;34m\u001b[0m\u001b[0m\n",
      "\u001b[0;32m/Users/pinheirochagas/Pedro/NeuroSpin/Experiments/Calc_MEG/scripts_git/Calc_MEG/decoding/jr/plot/gat_plot.pyc\u001b[0m in \u001b[0;36mpretty_gat\u001b[0;34m(scores, times, chance, ax, sig, cmap, clim, colorbar, xlabel, ylabel, sfreq, diagonal, test_times)\u001b[0m\n\u001b[1;32m     61\u001b[0m                  np.min([max(times), max(test_times)])], color=diagonal)\n\u001b[1;32m     62\u001b[0m     \u001b[0;31m# setup ticks\u001b[0m\u001b[0;34m\u001b[0m\u001b[0;34m\u001b[0m\u001b[0m\n\u001b[0;32m---> 63\u001b[0;31m     \u001b[0mxticks\u001b[0m\u001b[0;34m,\u001b[0m \u001b[0mxticklabels\u001b[0m \u001b[0;34m=\u001b[0m \u001b[0m_set_ticks\u001b[0m\u001b[0;34m(\u001b[0m\u001b[0mtest_times\u001b[0m\u001b[0;34m)\u001b[0m\u001b[0;34m\u001b[0m\u001b[0m\n\u001b[0m\u001b[1;32m     64\u001b[0m     \u001b[0max\u001b[0m\u001b[0;34m.\u001b[0m\u001b[0mset_xticks\u001b[0m\u001b[0;34m(\u001b[0m\u001b[0mxticks\u001b[0m\u001b[0;34m)\u001b[0m\u001b[0;34m\u001b[0m\u001b[0m\n\u001b[1;32m     65\u001b[0m     \u001b[0max\u001b[0m\u001b[0;34m.\u001b[0m\u001b[0mset_xticklabels\u001b[0m\u001b[0;34m(\u001b[0m\u001b[0mxticklabels\u001b[0m\u001b[0;34m)\u001b[0m\u001b[0;34m\u001b[0m\u001b[0m\n",
      "\u001b[0;32m/Users/pinheirochagas/Pedro/NeuroSpin/Experiments/Calc_MEG/scripts_git/Calc_MEG/decoding/jr/plot/gat_plot.pyc\u001b[0m in \u001b[0;36m_set_ticks\u001b[0;34m(times)\u001b[0m\n\u001b[1;32m    137\u001b[0m     \u001b[0mticks\u001b[0m \u001b[0;34m=\u001b[0m \u001b[0mnp\u001b[0m\u001b[0;34m.\u001b[0m\u001b[0mround\u001b[0m\u001b[0;34m(\u001b[0m\u001b[0mticks\u001b[0m \u001b[0;34m*\u001b[0m \u001b[0;36m10.\u001b[0m\u001b[0;34m)\u001b[0m \u001b[0;34m/\u001b[0m \u001b[0;36m10.\u001b[0m\u001b[0;34m\u001b[0m\u001b[0m\n\u001b[1;32m    138\u001b[0m     ticklabels = ([int(ticks[0] * 1e3)] +\n\u001b[0;32m--> 139\u001b[0;31m                   \u001b[0;34m[\u001b[0m\u001b[0;34m''\u001b[0m \u001b[0;32mfor\u001b[0m \u001b[0mii\u001b[0m \u001b[0;32min\u001b[0m \u001b[0mticks\u001b[0m\u001b[0;34m[\u001b[0m\u001b[0;36m1\u001b[0m\u001b[0;34m:\u001b[0m\u001b[0;34m-\u001b[0m\u001b[0;36m1\u001b[0m\u001b[0;34m]\u001b[0m\u001b[0;34m]\u001b[0m \u001b[0;34m+\u001b[0m\u001b[0;34m\u001b[0m\u001b[0m\n\u001b[0m\u001b[1;32m    140\u001b[0m                   [int(ticks[-1] * 1e3)])\n\u001b[1;32m    141\u001b[0m     \u001b[0;32mreturn\u001b[0m \u001b[0mticks\u001b[0m\u001b[0;34m,\u001b[0m \u001b[0mticklabels\u001b[0m\u001b[0;34m\u001b[0m\u001b[0m\n",
      "\u001b[0;31mIndexError\u001b[0m: index 0 is out of bounds for axis 0 with size 0"
     ]
    },
    {
     "data": {
      "image/png": "[encoded data removed]",
      "text/plain": [
       "<matplotlib.figure.Figure at 0x11ad9ac90>"
      ]
     },
     "metadata": {},
     "output_type": "display_data"
    }
   ],
   "source": [
    "#Plot original GAT - individual subjects\n",
    "for c, cond in enumerate(conditions):\n",
    "    for s, sub in enumerate(subjects):\n",
    "        print(sub)\n",
    "        print(cond)\n",
    "        pretty_gat(all_scores[c, s,:,:], chance = chance, ax = None, sig = None, cmap = 'RdBu_r',\n",
    "             clim = None, colorbar = True, xlabel = 'Testing Time (s)', \n",
    "             ylabel = 'Training Time (s)', sfreq = 125, test_times = None)\n",
    "             \n",
    "        plt.show()"
   ]
  },
  {
   "cell_type": "code",
   "execution_count": null,
   "metadata": {
    "collapsed": false
   },
   "outputs": [],
   "source": [
    "#Plot original GAT - group\n",
    "for c, cond in enumerate(conditions):\n",
    "    print(cond)\n",
    "    pretty_gat(group_scores[c, :, :], chance = chance, ax = None, sig = None, cmap = 'RdBu_r',\n",
    "             clim = None, colorbar = True, xlabel = 'Testing Time (s)', \n",
    "             ylabel = 'Training Time (s)', sfreq = 125, test_times = None)\n",
    "    plt.show()"
   ]
  },
  {
   "cell_type": "code",
   "execution_count": null,
   "metadata": {
    "collapsed": false
   },
   "outputs": [],
   "source": [
    "#Plot GAT with uncorrected p values\n",
    "for c, cond in enumerate(conditions):\n",
    "    classLines = [None, None, toi, toi]\n",
    "    pretty_gat(group_scores[c, :, :], chance = .25, ax = None, sig = None, cmap = 'RdBu_r',\n",
    "             colorbar = True, xlabel = 'Testing Time (s)', \n",
    "             ylabel = 'Training Time (s)', sfreq = 125, test_times = None)\n",
    "    fname = dirs['gp_result'] + '/' + cond[0] + '_' + cond[1] + '-uncorrectedGAT.tif'\n",
    "    #plt.savefig(fname, format = 'tif', dpi = 300, bbox_inches = 'tight')\n",
    "    plt.show()"
   ]
  },
  {
   "cell_type": "code",
   "execution_count": null,
   "metadata": {
    "collapsed": false
   },
   "outputs": [],
   "source": [
    "#Plot GAT with corrected p values - only contour\n",
    "for c, cond in enumerate(conditions):\n",
    "    classLines = [None, None, toi, toi]\n",
    "    print(cond)\n",
    "    pretty_gat(group_scores[c, :, :], chance = chance, ax = None, sig = p_values_gat[c,:], cmap = 'RdBu_r',\n",
    "             colorbar = None, xlabel = 'Testing Time (s)', \n",
    "             ylabel = 'Training Time (s)', sfreq = 125, test_times = None)\n",
    "    fname = dirs['gp_result'] + '/' + cond[0] + '_' + cond[1] + '-uncorrectedGAT_contour.tif'\n",
    "    #plt.savefig(fname, format = 'tif', dpi = 300, bbox_inches = 'tight')\n",
    "    plt.show()"
   ]
  },
  {
   "cell_type": "code",
   "execution_count": 44,
   "metadata": {
    "collapsed": false
   },
   "outputs": [
    {
     "name": "stdout",
     "output_type": "stream",
     "text": [
      "['addsub', 'addsub']\n"
     ]
    },
    {
     "data": {
      "image/png": "[encoded data removed]",
      "text/plain": [
       "<matplotlib.figure.Figure at 0x12029f450>"
      ]
     },
     "metadata": {},
     "output_type": "display_data"
    }
   ],
   "source": [
    "#Plot diagonal with uncorrected p values\n",
    "#colors = ['dodgerblue', 'darkturquoise', 'darkred', 'crimson']\n",
    "colors = [(0.0, 0.4470588235294118, 0.6980392156862745),\n",
    "                 (0.0, 0.6196078431372549, 0.45098039215686275),\n",
    "                 (0.8352941176470589, 0.3686274509803922, 0.0),\n",
    "                 (0.8, 0.4745098039215686, 0.6549019607843137),\n",
    "                 (0.9411764705882353, 0.8941176470588236, 0.25882352941176473),\n",
    "                 (0.33725490196078434, 0.7058823529411765, 0.9137254901960784)]\n",
    "\n",
    "for c, cond in enumerate(conditions):\n",
    "        print (cond)\n",
    "        #print(times[np.where(p_values_diagonal[c, :] < .05)])\n",
    "        pretty_decod(all_scores[0,:, :, 0], chance=chance, sig=p_values_gat_fdr[0,:,0]<0.01,\n",
    "                 color=[1,0,0], fill=True, xlabel='Times (s)', sfreq=sfreq)\n",
    "        fname = dirs['gp_result'] + '/' + cond[0] + '_' + cond[1] + '-uncorrectedDiag_smooth.tif'\n",
    "        #plt.savefig(fname, format = 'tif', dpi = 300, bbox_inches = 'tight')\n",
    "        \n",
    "        plt.show()"
   ]
  },
  {
   "cell_type": "code",
   "execution_count": 36,
   "metadata": {
    "collapsed": false
   },
   "outputs": [
    {
     "data": {
      "text/plain": [
       "0.5"
      ]
     },
     "execution_count": 36,
     "metadata": {},
     "output_type": "execute_result"
    }
   ],
   "source": [
    "chance"
   ]
  },
  {
   "cell_type": "code",
   "execution_count": null,
   "metadata": {
    "collapsed": false
   },
   "outputs": [],
   "source": [
    "#Plot decoding with corrected p values\n",
    "#colors = ['dodgerblue', 'darkturquoise', 'darkred', 'crimson']\n",
    "colors = [(0.0, 0.4470588235294118, 0.6980392156862745),\n",
    "                 (0.0, 0.6196078431372549, 0.45098039215686275),\n",
    "                 (0.8352941176470589, 0.3686274509803922, 0.0),\n",
    "                 (0.8, 0.4745098039215686, 0.6549019607843137),\n",
    "                 (0.9411764705882353, 0.8941176470588236, 0.25882352941176473),\n",
    "                 (0.33725490196078434, 0.7058823529411765, 0.9137254901960784)]\n",
    "\n",
    "for c, cond in enumerate(conditions):\n",
    "        print (cond)\n",
    "        print(time[np.where(p_values_diagonal[c, :] < .05)])\n",
    "        pretty_decod(all_diagonals[c, :, :], times=time, chance=chance, ax=None, sig=p_values_diagonal_fdr[c, :], width=20.,\n",
    "                 color='k', fill=False, xlabel='Times (s)', sfreq=250, alpha=.02, scat=True, line=False, smoothWindow=8, lim = [-0.05, 0.15], thickness = 2, thicknessScat=40, schrift = 14)\n",
    "        fname = dirs['gp_result'] + '/' + cond[0] + '_' + cond[1] + '-correctedDiag_smooth.tif'\n",
    "        #plt.savefig(fname, format = 'tif', dpi = 300, bbox_inches = 'tight')\n",
    "        \n",
    "        plt.show()"
   ]
  },
  {
   "cell_type": "code",
   "execution_count": null,
   "metadata": {
    "collapsed": false
   },
   "outputs": [],
   "source": [
    "####################Plot diagonal in time bins####################\n",
    "#Load important libraries\n",
    "import matplotlib.pyplot as plt\n",
    "\n",
    "#Define important variables\n",
    "n_bins = len(timeBins)\n",
    "font = {'fontname': 'Arial', 'fontsize': 14}\n",
    "\n",
    "colors_blind = [(0.0, 0.4470588235294118, 0.6980392156862745),\n",
    "                 (0.0, 0.6196078431372549, 0.45098039215686275),\n",
    "                 (0.8352941176470589, 0.3686274509803922, 0.0),\n",
    "                 (0.8, 0.4745098039215686, 0.6549019607843137),\n",
    "                 (0.9411764705882353, 0.8941176470588236, 0.25882352941176473),\n",
    "                 (0.33725490196078434, 0.7058823529411765, 0.9137254901960784),\n",
    "               (0.0, 0.4470588235294118, 0.6980392156862745),\n",
    "               (0.0, 0.6196078431372549, 0.45098039215686275),\n",
    "                (0.8352941176470589, 0.3686274509803922, 0.0),]\n",
    "\n",
    "xLabels = ['Early', 'P3b', 'bDis', 'aDis']\n",
    "\n",
    "x = np.arange(n_bins)\n",
    "index = np.arange(n_bins)\n",
    "\n",
    "for c, cond in enumerate(conditions):\n",
    "    ax = plt.gca()\n",
    "    print(cond)\n",
    "        \n",
    "    ax.bar(x, np.mean(group_diagonal_AVG[c, :, :], 1), alpha = 0.8, color = colors_blind)\n",
    "        \n",
    "    print(np.mean(group_diagonal_AVG[c, 0, :]), 1)\n",
    "    print(sem_group_diagonal_AVG[c, 0])\n",
    "        \n",
    "    print(np.mean(group_diagonal_AVG[c, 1, :]), 1)\n",
    "    print(sem_group_diagonal_AVG[c, 1])\n",
    "    \n",
    "    print(np.mean(group_diagonal_AVG[c, 2, :]), 1)\n",
    "    print(sem_group_diagonal_AVG[c, 2])\n",
    "    \n",
    "    print(np.mean(group_diagonal_AVG[c, 3, :]), 1)\n",
    "    print(sem_group_diagonal_AVG[c, 3])\n",
    "        \n",
    "    print(p_values_group_diagonal_AVG[c, 0])\n",
    "    print(p_values_group_diagonal_AVG[c, 1])\n",
    "    print(p_values_group_diagonal_AVG[c, 2])\n",
    "    print(p_values_group_diagonal_AVG[c, 3])\n",
    "        \n",
    "    for pos, y, err, color in zip(x, np.mean(group_diagonal_AVG[c, :, :], 1), sem_group_diagonal_AVG[c, :], colors_blind):\n",
    "        ax.errorbar(pos + 0.4, y, err, lw = 2, capsize = 5, color = color)\n",
    "\n",
    "    #Plot chance level\n",
    "    plt.axhline(0.0, color = 'k', ls = '--')\n",
    "\n",
    "    #Take care of axes\n",
    "    ax.margins(0.05) #spacing at the \n",
    "    ax.set_xticks(index + 0.4)\n",
    "    ax.set_xticklabels(xLabels)\n",
    "    ax.set_ylim([-0.1, 0.2])\n",
    "    plt.show()"
   ]
  },
  {
   "cell_type": "code",
   "execution_count": null,
   "metadata": {
    "collapsed": true
   },
   "outputs": [],
   "source": [
    "#Select subset of time window\n",
    "#Identify the index\n",
    "ind = np.where(time == ttp[0])\n",
    "ind = int(ind[0][0])\n",
    "\n",
    "#Cut all of the data\n",
    "time = time[ind :]\n",
    "all_diagonals = all_diagonals[:, :, ind :]\n",
    "all_scores = all_scores[:, :, ind :, ind :]"
   ]
  },
  {
   "cell_type": "code",
   "execution_count": null,
   "metadata": {
    "collapsed": true
   },
   "outputs": [],
   "source": [
    "#Compute time averages for diagonal\n",
    "timeBins = [[0.1, 0.3], [0.3, 0.6], [0.6, 1.6], [1.6, 2.532]]\n",
    "group_diagonal_AVG = np.zeros((len(conditions), len(timeBins), len(subjects)))\n",
    "sem_group_diagonal_AVG = np.zeros((len(conditions), len(timeBins)))\n",
    "\n",
    "for c, cond in enumerate(conditions):\n",
    "    for tb, timebin in enumerate(timeBins):\n",
    "        #Identify the index\n",
    "        ind1 = np.where(time == timeBins[tb][0])\n",
    "        ind1 = int(ind1[0][0])\n",
    "        ind2 = np.where(time == timeBins[tb][1])\n",
    "        ind2 = int(ind2[0][0])\n",
    "\n",
    "        group_diagonal_AVG[c, tb, :] = np.mean(all_diagonals[c, :,  ind1 : ind2], 1)\n",
    "        sem_group_diagonal_AVG[c, tb] = stats.sem(np.mean(all_diagonals[c, :, ind1 : ind2], 1), 0)"
   ]
  },
  {
   "cell_type": "code",
   "execution_count": null,
   "metadata": {
    "collapsed": true
   },
   "outputs": [],
   "source": [
    " #Compute stats for averaged diagonal\n",
    "p_values_group_diagonal_AVG = np.zeros((len(conditions), len(timeBins)))\n",
    "\n",
    "for c, cond in enumerate(conditions):\n",
    "    for tb, timebin in enumerate(timeBins):\n",
    "        p_values_group_diagonal_AVG[c, tb] = parallel_stats(group_diagonal_AVG[c, tb, :] - chance, function = _my_wilcoxon, correction = False, n_jobs = -1)\n",
    "        p_values_group_diagonal_AVG[c, tb] = p_values_group_diagonal_AVG[c, tb]/2.   "
   ]
  }
 ],
 "metadata": {
  "kernelspec": {
   "display_name": "Python 2",
   "language": "python",
   "name": "python2"
  },
  "language_info": {
   "codemirror_mode": {
    "name": "ipython",
    "version": 2
   },
   "file_extension": ".py",
   "mimetype": "text/x-python",
   "name": "python",
   "nbconvert_exporter": "python",
   "pygments_lexer": "ipython2",
   "version": "2.7.13"
  }
 },
 "nbformat": 4,
 "nbformat_minor": 0
}
