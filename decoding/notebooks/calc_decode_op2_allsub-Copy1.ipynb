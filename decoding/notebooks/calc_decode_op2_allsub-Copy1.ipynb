{
 "cells": [
  {
   "cell_type": "code",
   "execution_count": 1,
   "metadata": {
    "collapsed": true
   },
   "outputs": [],
   "source": [
    "# Function to decode operation"
   ]
  },
  {
   "cell_type": "code",
   "execution_count": 1,
   "metadata": {
    "collapsed": false
   },
   "outputs": [
    {
     "name": "stderr",
     "output_type": "stream",
     "text": [
      "/Users/pinheirochagas/anaconda/lib/python2.7/site-packages/matplotlib/font_manager.py:273: UserWarning: Matplotlib is building the font cache using fc-list. This may take a moment.\n",
      "  warnings.warn('Matplotlib is building the font cache using fc-list. This may take a moment.')\n",
      "/Users/pinheirochagas/anaconda/lib/python2.7/site-packages/pandas/__init__.py:7: RuntimeWarning: numpy.dtype size changed, may indicate binary incompatibility\n",
      "  from pandas import hashtable, tslib, lib\n",
      "/Users/pinheirochagas/anaconda/lib/python2.7/site-packages/pandas/core/common.py:18: RuntimeWarning: numpy.dtype size changed, may indicate binary incompatibility\n",
      "  import pandas.algos as algos\n",
      "/Users/pinheirochagas/anaconda/lib/python2.7/site-packages/bottleneck/__init__.py:10: RuntimeWarning: numpy.dtype size changed, may indicate binary incompatibility\n",
      "  from .reduce import (nansum, nanmean, nanstd, nanvar, nanmin, nanmax,\n",
      "/Users/pinheirochagas/anaconda/lib/python2.7/site-packages/bottleneck/__init__.py:16: RuntimeWarning: numpy.dtype size changed, may indicate binary incompatibility\n",
      "  from .nonreduce import replace\n",
      "/Users/pinheirochagas/anaconda/lib/python2.7/site-packages/bottleneck/__init__.py:20: RuntimeWarning: numpy.dtype size changed, may indicate binary incompatibility\n",
      "  from .nonreduce_axis import partsort, argpartsort, rankdata, nanrankdata\n",
      "/Users/pinheirochagas/anaconda/lib/python2.7/site-packages/bottleneck/__init__.py:24: RuntimeWarning: numpy.dtype size changed, may indicate binary incompatibility\n",
      "  from .move import (move_sum, move_mean, move_std, move_min,\n",
      "/Users/pinheirochagas/anaconda/lib/python2.7/site-packages/pandas/core/index.py:15: RuntimeWarning: numpy.dtype size changed, may indicate binary incompatibility\n",
      "  import pandas.index as _index\n",
      "/Users/pinheirochagas/anaconda/lib/python2.7/site-packages/pandas/tseries/frequencies.py:15: RuntimeWarning: numpy.dtype size changed, may indicate binary incompatibility\n",
      "  import pandas._period as period\n",
      "/Users/pinheirochagas/anaconda/lib/python2.7/site-packages/pandas/sparse/array.py:16: RuntimeWarning: numpy.dtype size changed, may indicate binary incompatibility\n",
      "  from pandas._sparse import BlockIndex, IntIndex\n",
      "/Users/pinheirochagas/anaconda/lib/python2.7/site-packages/pandas/io/parsers.py:27: RuntimeWarning: numpy.dtype size changed, may indicate binary incompatibility\n",
      "  import pandas.parser as _parser\n"
     ]
    },
    {
     "name": "stdout",
     "output_type": "stream",
     "text": [
      "Populating the interactive namespace from numpy and matplotlib\n"
     ]
    },
    {
     "name": "stderr",
     "output_type": "stream",
     "text": [
      "/Users/pinheirochagas/anaconda/lib/python2.7/site-packages/pandas/io/packers.py:63: RuntimeWarning: numpy.dtype size changed, may indicate binary incompatibility\n",
      "  from pandas.msgpack import Unpacker as _Unpacker, Packer as _Packer\n"
     ]
    }
   ],
   "source": [
    "%pylab inline \n",
    "\n",
    "import mne\n",
    "from mne.datasets import spm_face\n",
    "from mne.decoding import GeneralizationAcrossTime\n",
    "import sys\n",
    "import os.path as op\n",
    "import numpy as np\n",
    "import matplotlib.pyplot as plt\n",
    "import scipy.io as sio\n",
    "import pandas as pd\n",
    "from scipy import stats\n",
    "#Add personal functions to python path\n",
    "#sys.path.append('/Users/pinheirochagas/Pedro/NeuroSpin/Experiments/Calc_MEG/scripts/decoding/')\n",
    "sys.path.append('/Volumes/NeuroSpin2T/Calculation_Pedro_2014/scripts/decoding/')\n",
    "from ecog2mne import ecog2mne\n",
    "from calc_twoClassClassify import calc_twoClassClassify\n",
    "from sklearn import svm\n",
    "from sklearn.cross_validation import cross_val_score, StratifiedShuffleSplit\n",
    "from sklearn.preprocessing import StandardScaler\n",
    "from sklearn.pipeline import Pipeline\n",
    "from sklearn.feature_selection import SelectKBest, f_classif\n",
    "from sklearn.pipeline import make_pipeline\n",
    "from sklearn.cross_validation import StratifiedKFold"
   ]
  },
  {
   "cell_type": "code",
   "execution_count": 5,
   "metadata": {
    "collapsed": false
   },
   "outputs": [],
   "source": [
    "#Directories\n",
    "#data_path = '/Users/pinheirochagas/Pedro/NeuroSpin/Experiments/Calc_MEG/data/mat/'\n",
    "#result_path = '/Users/pinheirochagas/Pedro/NeuroSpin/Experiments/Calc_MEG/data/decoding/'\n",
    "data_path = '/Volumes/NeuroSpin2T/Calculation_Pedro_2014/data/mat/'\n",
    "result_path = '/Volumes/NeuroSpin2T/Calculation_Pedro_2014/data/decoding/'\n",
    "\n",
    "#Subjects\n",
    "#subjects = ['s01', 's02', 's03', 's04', 's05', 's06', 's07', 's08', 's09', 's10', \n",
    "            #'s11', 's12', 's13', 's14', 's15', 's16', 's17', 's18','s19', 's21', 's22']\n",
    "\n",
    "    \n",
    "#subjects = ['s11', 's12', 's13', 's14', 's15', 's16', 's17', 's18','s19', 's21', 's22']\n",
    "\n",
    "sub = 's01'\n",
    "\n",
    "\n",
    "#General parameters\n",
    "baseline = (-0.5, -0.05)\n",
    "downsmpDec = 4\n",
    "\n",
    "#Decoding\n",
    "trainset = 'all'\n",
    "testset = 'all'\n",
    "decCond = ['3', '4', '5', '6']\n",
    "\n",
    "params = {'baseline': baseline, 'downsmpDec': downsmpDec, \n",
    "'Classification': decCond, 'trainset': trainset, 'testset': testset}\n",
    "\n",
    "#Results initialization\n",
    "all_scores = []\n",
    "all_diagonals = []"
   ]
  },
  {
   "cell_type": "code",
   "execution_count": 12,
   "metadata": {
    "collapsed": false
   },
   "outputs": [
    {
     "ename": "SyntaxError",
     "evalue": "invalid syntax (<ipython-input-12-8de33c7c3a0b>, line 1)",
     "output_type": "error",
     "traceback": [
      "\u001b[0;36m  File \u001b[0;32m\"<ipython-input-12-8de33c7c3a0b>\"\u001b[0;36m, line \u001b[0;32m1\u001b[0m\n\u001b[0;31m    [1 : 106 : 2]\u001b[0m\n\u001b[0m       ^\u001b[0m\n\u001b[0;31mSyntaxError\u001b[0m\u001b[0;31m:\u001b[0m invalid syntax\n"
     ]
    }
   ],
   "source": [
    "[1 : 106 : 2]"
   ]
  },
  {
   "cell_type": "code",
   "execution_count": 8,
   "metadata": {
    "collapsed": false
   },
   "outputs": [
    {
     "ename": "KeyError",
     "evalue": "u\"kind must be one of ['ecg', 'stim', 'eog', 'misc', 'seeg', 'mag', 'eeg', 'grad'], not MEG0113\"",
     "output_type": "error",
     "traceback": [
      "\u001b[0;31m---------------------------------------------------------------------------\u001b[0m",
      "\u001b[0;31mKeyError\u001b[0m                                  Traceback (most recent call last)",
      "\u001b[0;32m<ipython-input-8-518c305f1e8c>\u001b[0m in \u001b[0;36m<module>\u001b[0;34m()\u001b[0m\n\u001b[1;32m      1\u001b[0m \u001b[0mfname\u001b[0m \u001b[0;34m=\u001b[0m \u001b[0mop\u001b[0m\u001b[0;34m.\u001b[0m\u001b[0mjoin\u001b[0m\u001b[0;34m(\u001b[0m\u001b[0mdata_path\u001b[0m\u001b[0;34m,\u001b[0m \u001b[0msub\u001b[0m \u001b[0;34m+\u001b[0m \u001b[0;34m'_ecog.mat'\u001b[0m\u001b[0;34m)\u001b[0m\u001b[0;34m\u001b[0m\u001b[0m\n\u001b[0;32m----> 2\u001b[0;31m \u001b[0mepoch\u001b[0m \u001b[0;34m=\u001b[0m \u001b[0mecog2mne\u001b[0m\u001b[0;34m(\u001b[0m\u001b[0mfname\u001b[0m\u001b[0;34m,\u001b[0m \u001b[0;34m'data'\u001b[0m\u001b[0;34m)\u001b[0m\u001b[0;34m\u001b[0m\u001b[0m\n\u001b[0m",
      "\u001b[0;32m/Volumes/NeuroSpin2T/Calculation_Pedro_2014/scripts/decoding/ecog2mne.py\u001b[0m in \u001b[0;36mecog2mne\u001b[0;34m(filename, var)\u001b[0m\n\u001b[1;32m     38\u001b[0m \u001b[0;34m\u001b[0m\u001b[0m\n\u001b[1;32m     39\u001b[0m     \u001b[0;31m#Create info and epochs\u001b[0m\u001b[0;34m\u001b[0m\u001b[0;34m\u001b[0m\u001b[0m\n\u001b[0;32m---> 40\u001b[0;31m     \u001b[0minfo\u001b[0m \u001b[0;34m=\u001b[0m \u001b[0mcreate_info\u001b[0m\u001b[0;34m(\u001b[0m\u001b[0mchan_names\u001b[0m\u001b[0;34m,\u001b[0m \u001b[0msfreq\u001b[0m\u001b[0;34m,\u001b[0m \u001b[0mchan_types\u001b[0m\u001b[0;34m)\u001b[0m\u001b[0;34m\u001b[0m\u001b[0m\n\u001b[0m\u001b[1;32m     41\u001b[0m     events = np.c_[np.cumsum(np.ones(n_trial)) * 5 * sfreq,\n\u001b[1;32m     42\u001b[0m                    np.zeros(n_trial), np.zeros(n_trial)]\n",
      "\u001b[0;32m/Users/pinheirochagas/anaconda/lib/python2.7/site-packages/mne/io/meas_info.pyc\u001b[0m in \u001b[0;36mcreate_info\u001b[0;34m(ch_names, sfreq, ch_types, montage)\u001b[0m\n\u001b[1;32m   1357\u001b[0m         \u001b[0;32mif\u001b[0m \u001b[0mkind\u001b[0m \u001b[0;32mnot\u001b[0m \u001b[0;32min\u001b[0m \u001b[0m_kind_dict\u001b[0m\u001b[0;34m:\u001b[0m\u001b[0;34m\u001b[0m\u001b[0m\n\u001b[1;32m   1358\u001b[0m             raise KeyError('kind must be one of %s, not %s'\n\u001b[0;32m-> 1359\u001b[0;31m                            % (list(_kind_dict.keys()), kind))\n\u001b[0m\u001b[1;32m   1360\u001b[0m         \u001b[0mkind\u001b[0m \u001b[0;34m=\u001b[0m \u001b[0m_kind_dict\u001b[0m\u001b[0;34m[\u001b[0m\u001b[0mkind\u001b[0m\u001b[0;34m]\u001b[0m\u001b[0;34m\u001b[0m\u001b[0m\n\u001b[1;32m   1361\u001b[0m         chan_info = dict(loc=loc.copy(), unit_mul=0, range=1., cal=1.,\n",
      "\u001b[0;31mKeyError\u001b[0m: u\"kind must be one of ['ecg', 'stim', 'eog', 'misc', 'seeg', 'mag', 'eeg', 'grad'], not MEG0113\""
     ]
    }
   ],
   "source": [
    "fname = op.join(data_path, sub + '_ecog.mat') \n",
    "epoch = ecog2mne(fname, 'data')\n"
   ]
  },
  {
   "cell_type": "code",
   "execution_count": null,
   "metadata": {
    "collapsed": true
   },
   "outputs": [],
   "source": [
    "\n",
    "#Baseline-correct & filter data\n",
    "print('Baseline-correcting data for subject: ' + sub)\n",
    "epoch.apply_baseline(baseline)\n",
    "    \n",
    "#Load condition/behavior info\n",
    "matfile = sio.loadmat(fname)\n",
    "print('Loading trialinfo for subject: ' + sub)   \n",
    "trialinfo = matfile['data']['trialinfo']   "
   ]
  },
  {
   "cell_type": "code",
   "execution_count": 3,
   "metadata": {
    "collapsed": false
   },
   "outputs": [
    {
     "ename": "IndentationError",
     "evalue": "unexpected indent (<ipython-input-3-73fb96415347>, line 2)",
     "output_type": "error",
     "traceback": [
      "\u001b[0;36m  File \u001b[0;32m\"<ipython-input-3-73fb96415347>\"\u001b[0;36m, line \u001b[0;32m2\u001b[0m\n\u001b[0;31m    fname = op.join(data_path, sub + '_ecog.mat')\u001b[0m\n\u001b[0m    ^\u001b[0m\n\u001b[0;31mIndentationError\u001b[0m\u001b[0;31m:\u001b[0m unexpected indent\n"
     ]
    }
   ],
   "source": [
    "\n",
    "    fname = op.join(data_path, sub + '_ecog.mat') \n",
    "    epoch = fldtrp2mne(fname, 'data')\n",
    "\n",
    "    #Baseline-correct & filter data\n",
    "    print('Baseline-correcting data for subject: ' + sub)\n",
    "    epoch.apply_baseline(baseline)\n",
    "    \n",
    "    #Load condition/behavior info\n",
    "    matfile = sio.loadmat(fname)\n",
    "    print('Loading trialinfo for subject: ' + sub)   \n",
    "    trialinfo = matfile['data']['trialinfo']   \n",
    "    \n",
    "    operator = trialinfo[0][0][0][0][2].T\n",
    "    operand1 = trialinfo[0][0][0][0][1].T\n",
    "    operand2 = trialinfo[0][0][0][0][3].T\n",
    "    absdeviant = trialinfo[0][0][0][0][8].T\n",
    "    # Merge back and define conditions\n",
    "    info = pd.DataFrame(data = np.concatenate((operator, operand1, operand2, absdeviant), axis = 1), \n",
    "                        columns = ['operation', 'operand1', 'operand2', 'absdeviant'])\n",
    "\n",
    "    #info['absdeviant'][info['absdeviant'] != 0] = 1\n",
    "    add_sub = info['operation'] != 0\n",
    "    \n",
    "    op0 = info['operand2'] == 0\n",
    "    op1 = info['operand2'] == 1\n",
    "    op2 = info['operand2'] == 2\n",
    "    op3 = info['operand2'] == 3\n",
    "    \n",
    "    condA = op0\n",
    "    condB = op1\n",
    "    condC = op2\n",
    "    condD = op3\n",
    "    \n",
    "    #Sanity check #1: Plot evoked response\n",
    "    evoked_condA = epoch[condA].average() # \n",
    "    evoked_condB = epoch[condB].average() #   \n",
    "    evoked_condC = epoch[condC].average() #   \n",
    "    evoked_condD = epoch[condD].average() #   \n",
    "\n",
    "    evoked_condA.plot(titles = decCond[0] + ' for subject: ' + sub, show = False)\n",
    "    evoked_condB.plot(titles = decCond[1] + ' for subject: ' + sub, show = False)\n",
    "    evoked_condC.plot(titles = decCond[2] + ' for subject: ' + sub, show = False)\n",
    "    evoked_condD.plot(titles = decCond[3] + ' for subject: ' + sub, show = False)  \n",
    "    \n",
    "    plt.show()\n",
    "\n",
    "    \n",
    "    #Sanity check #2: Plot GFP\n",
    "    gfp_condA = np.median(np.std(epoch[condA]._data, axis = 1), axis = 0) #do I need to make sure that the number of trials is similar in the two conditions?\n",
    "    gfp_condB = np.median(np.std(epoch[condB]._data, axis = 1), axis = 0)\n",
    "    gfp_condC = np.median(np.std(epoch[condC]._data, axis = 1), axis = 0)\n",
    "    gfp_condD = np.median(np.std(epoch[condD]._data, axis = 1), axis = 0)\n",
    "\n",
    "    plt.plot(epoch.times, gfp_condA, color = 'g', label = decCond[0])\n",
    "    plt.plot(epoch.times, gfp_condB, color = 'r', label = decCond[1])\n",
    "    plt.plot(epoch.times, gfp_condC, color = 'b', label = decCond[2])\n",
    "    plt.plot(epoch.times, gfp_condD, color = 'y', label = decCond[3])\n",
    "    plt.axvline(0, color = 'k') #mark stimulus onset\n",
    "    plt.legend(loc = 'lower right')\n",
    "    plt.xlabel('Time (s)')\n",
    "    plt.ylabel('GFP')\n",
    "    plt.title('GFP for subject: ' + sub)\n",
    "    plt.show()\n",
    "    \n",
    "    # Decoding\n",
    "    epochs = epoch[add_sub] #select only target-present trials\n",
    "    info = info[add_sub]    #info = info[add_sub]\n",
    "    y = np.array(info['operand2']) #select labels for the conditions\n",
    "    y = y.astype(numpy.float64)\n",
    "    # Downsampling for decoding\n",
    "    epochs.decimate(downsmpDec)\n",
    "\n",
    "    print('Decoding subject: ' + sub)\n",
    "    gat, score, diagonal = calc_twoClassClassify(epochs, y, [], [], params)\n",
    "    gat.plot()\n",
    "    gat.plot_diagonal()  # plot decoding across time (correspond to GAT diagonal)\n",
    "\n",
    "    #Store scores of different subjects in the same list\n",
    "    all_scores.append(score)\n",
    "    all_diagonals.append(diagonal)\n",
    "    \n",
    "#Transform into a numpy array   \n",
    "all_scores = np.array(all_scores)\n",
    "all_diagonals = np.array(all_diagonals)\n",
    "\n",
    "# Save individual results\n",
    "fname = op.join(result_path, 'Classification_2 ' + decCond[0] + '_vs_' + \n",
    "                decCond[1] + '_vs_' + decCond[2] + '_vs_' + decCond[3] + '_Trainset_' + trainset + '_Testset_' + testset) \n",
    "np.save(fname, all_scores)\n",
    "\n",
    "# Compute group averages\n",
    "group_scores = np.mean(all_scores, 0)\n",
    "sem_group_scores = stats.sem(all_scores, 0)\n",
    "\n",
    "group_diagonal = np.mean(all_diagonals, 0)\n",
    "sem_group_diagonal = stats.sem(all_diagonals, 0)"
   ]
  },
  {
   "cell_type": "code",
   "execution_count": null,
   "metadata": {
    "collapsed": true
   },
   "outputs": [],
   "source": [
    "    fname = op.join(data_path, sub + '_ecog.mat') \n",
    "    epoch = fldtrp2mne(fname, 'data')\n",
    "\n",
    "    #Baseline-correct & filter data\n",
    "    print('Baseline-correcting data for subject: ' + sub)\n",
    "    epoch.apply_baseline(baseline)\n",
    "    \n",
    "    #Load condition/behavior info\n",
    "    matfile = sio.loadmat(fname)\n",
    "    print('Loading trialinfo for subject: ' + sub)   \n",
    "    trialinfo = matfile['data']['trialinfo']   "
   ]
  },
  {
   "cell_type": "code",
   "execution_count": null,
   "metadata": {
    "collapsed": false
   },
   "outputs": [],
   "source": [
    "# Plotting  \n",
    "\n",
    "# Plot GAT\n",
    "plt.imshow(group_scores, origin = 'lower', extent = [epochs.times[0], epochs.times[len(epochs.times)-1], \n",
    "                                                     epochs.times[0], epochs.times[len(epochs.times)-1]]) #flip the matrix around\n",
    "plt.axvline(0, color = 'k') #mark stimulus onset\n",
    "plt.axhline(0, color = 'k') #mark stimulus onset\n",
    "plt.colorbar()\n",
    "plt.xlabel('Testing Time (s)')\n",
    "plt.ylabel('Training Time (s)')\n",
    "plt.title('Group average generalization across time \\n Classification: ' + decCond[0] + ' vs ' \n",
    "+ decCond[1] + '\\n Trainset: ' + trainset + ', Testset: ' + testset)\n",
    "\n"
   ]
  },
  {
   "cell_type": "code",
   "execution_count": null,
   "metadata": {
    "collapsed": false
   },
   "outputs": [],
   "source": [
    "# Plot Diagonal\n",
    "plt.plot(epochs.times, group_diagonal, label = \"Classification score\")\n",
    "plt.axvline(0, color = 'k') #mark stimulus onset\n",
    "plt.axhline(0.5, color = 'k', ls = '--', label = \"Chance\") #mark chance level\n",
    "plt.legend(loc = 'upper right')\n",
    "plt.xlabel('Time (s)')\n",
    "plt.ylabel('Classification Score (%)')\n",
    "plt.title('Cl assification: ' + decCond[0] + ' vs ' \n",
    "+ decCond[1] + '\\n Trainset: ' + trainset + ', Testset: ' + testset)\n"
   ]
  },
  {
   "cell_type": "code",
   "execution_count": null,
   "metadata": {
    "collapsed": false
   },
   "outputs": [],
   "source": [
    "all_scores2 = all_scores"
   ]
  },
  {
   "cell_type": "code",
   "execution_count": null,
   "metadata": {
    "collapsed": false
   },
   "outputs": [],
   "source": [
    "all_scores1 = np.load('/Volumes/NeuroSpin2T/Calculation_Pedro_2014/data/decoding/Classification_ 0_vs_1_vs_2_vs_3_Trainset_all_Testset_all.npy')\n",
    "all_scores2 = np.load('/Volumes/NeuroSpin2T/Calculation_Pedro_2014/data/decoding/Classification_2 0_vs_1_vs_2_vs_3_Trainset_all_Testset_all.npy')\n"
   ]
  },
  {
   "cell_type": "code",
   "execution_count": null,
   "metadata": {
    "collapsed": false
   },
   "outputs": [],
   "source": [
    "all_scores3 = np.concatenate((all_scores1, all_scores2), axis=0)"
   ]
  },
  {
   "cell_type": "code",
   "execution_count": null,
   "metadata": {
    "collapsed": false
   },
   "outputs": [],
   "source": [
    "size(all_scores3)"
   ]
  },
  {
   "cell_type": "code",
   "execution_count": null,
   "metadata": {
    "collapsed": true
   },
   "outputs": [],
   "source": [
    "group_scores3 = np.mean(all_scores3, 0)\n"
   ]
  },
  {
   "cell_type": "code",
   "execution_count": null,
   "metadata": {
    "collapsed": false
   },
   "outputs": [],
   "source": [
    "# Plot GAT\n",
    "plt.imshow(group_scores3, origin = 'lower', extent = [epochs.times[0], epochs.times[len(epochs.times)-1], \n",
    "                                                     epochs.times[0], epochs.times[len(epochs.times)-1]]) #flip the matrix around\n",
    "plt.axvline(0, color = 'k') #mark stimulus onset\n",
    "plt.axhline(0, color = 'k') #mark stimulus onset\n",
    "plt.colorbar()\n",
    "plt.xlabel('Testing Time (s)')\n",
    "plt.ylabel('Training Time (s)')\n",
    "plt.title('Group average generalization across time \\n Classification: ' + decCond[0] + ' vs ' \n",
    "+ decCond[1] + '\\n Trainset: ' + trainset + ', Testset: ' + testset)\n",
    "\n"
   ]
  },
  {
   "cell_type": "code",
   "execution_count": null,
   "metadata": {
    "collapsed": false
   },
   "outputs": [],
   "source": [
    "group_scores3"
   ]
  },
  {
   "cell_type": "code",
   "execution_count": null,
   "metadata": {
    "collapsed": false
   },
   "outputs": [],
   "source": [
    "# Plot Diagonal\n",
    "plt.plot(epochs.times, diag3, label = \"Classification score\")\n",
    "plt.axvline(0, color = 'k') #mark stimulus onset\n",
    "plt.axvline(.8, color = 'k') #mark stimulus onset\n",
    "plt.axvline(1.6, color = 'k') #mark stimulus onset\n",
    "plt.axvline(2.4, color = 'k') #mark stimulus onset\n",
    "plt.axvline(3.2, color = 'k') #mark stimulus onset\n",
    "plt.axvline(3.6, color = 'k') #mark stimulus onset\n",
    "\n",
    "plt.axhline(0.25, color = 'k', ls = '--', label = \"Chance\") #mark chance level\n",
    "\n",
    "plt.legend(loc = 'upper right')\n",
    "plt.xlabel('Time (s)')\n",
    "plt.ylabel('Classification Score (%)')\n",
    "plt.title('Cl assification: ' + decCond[0] + ' vs ' \n",
    "+ decCond[1] + '\\n Trainset: ' + trainset + ', Testset: ' + testset)\n"
   ]
  },
  {
   "cell_type": "code",
   "execution_count": null,
   "metadata": {
    "collapsed": true
   },
   "outputs": [],
   "source": [
    "# Save individual results\n",
    "fname = op.join(result_path, 'Classification_all ' + decCond[0] + '_vs_' + \n",
    "                decCond[1] + '_vs_' + decCond[2] + '_vs_' + decCond[3] + '_Trainset_' + trainset + '_Testset_' + testset) \n",
    "np.save(fname, all_scores3)"
   ]
  },
  {
   "cell_type": "code",
   "execution_count": null,
   "metadata": {
    "collapsed": true
   },
   "outputs": [],
   "source": [
    "scipy.io.savemat('test.mat', dict(x=x, y=y))"
   ]
  },
  {
   "cell_type": "code",
   "execution_count": null,
   "metadata": {
    "collapsed": true
   },
   "outputs": [],
   "source": [
    "x = np.linspace(0, 2 * np.pi, 100)\n",
    "y = np.cos(x)\n",
    "\n",
    "scipy.io.savemat(result_path'test.mat', dict(x=x, y=y))"
   ]
  },
  {
   "cell_type": "code",
   "execution_count": null,
   "metadata": {
    "collapsed": true
   },
   "outputs": [],
   "source": [
    "fname = op.join(result_path, 'classify_0123.mat')"
   ]
  },
  {
   "cell_type": "code",
   "execution_count": null,
   "metadata": {
    "collapsed": false
   },
   "outputs": [],
   "source": [
    "fname"
   ]
  },
  {
   "cell_type": "code",
   "execution_count": null,
   "metadata": {
    "collapsed": false
   },
   "outputs": [],
   "source": [
    "sio.savemat(fname, dict(x=all_scores3))"
   ]
  },
  {
   "cell_type": "code",
   "execution_count": null,
   "metadata": {
    "collapsed": true
   },
   "outputs": [],
   "source": [
    "np.save('/Volumes/NeuroSpin2T/Calculation_Pedro_2014/data/decoding/epochs_times', epochs.times)\n",
    "\n",
    "\n"
   ]
  },
  {
   "cell_type": "code",
   "execution_count": null,
   "metadata": {
    "collapsed": false
   },
   "outputs": [],
   "source": [
    "epochs.times"
   ]
  },
  {
   "cell_type": "code",
   "execution_count": null,
   "metadata": {
    "collapsed": true
   },
   "outputs": [],
   "source": []
  }
 ],
 "metadata": {
  "kernelspec": {
   "display_name": "Python 2",
   "language": "python",
   "name": "python2"
  },
  "language_info": {
   "codemirror_mode": {
    "name": "ipython",
    "version": 2
   },
   "file_extension": ".py",
   "mimetype": "text/x-python",
   "name": "python",
   "nbconvert_exporter": "python",
   "pygments_lexer": "ipython2",
   "version": "2.7.11"
  }
 },
 "nbformat": 4,
 "nbformat_minor": 0
}
