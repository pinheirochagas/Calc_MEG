{
 "cells": [
  {
   "cell_type": "code",
   "execution_count": null,
   "metadata": {
    "collapsed": true
   },
   "outputs": [],
   "source": [
    "# Function to decode operation"
   ]
  },
  {
   "cell_type": "code",
   "execution_count": 1,
   "metadata": {
    "collapsed": false
   },
   "outputs": [
    {
     "name": "stdout",
     "output_type": "stream",
     "text": [
      "Populating the interactive namespace from numpy and matplotlib\n"
     ]
    }
   ],
   "source": [
    "%pylab inline \n",
    "\n",
    "import mne\n",
    "from mne.datasets import spm_face\n",
    "from mne.decoding import GeneralizationAcrossTime\n",
    "import sys\n",
    "import os.path as op\n",
    "import numpy as np\n",
    "import matplotlib.pyplot as plt\n",
    "import scipy.io as sio\n",
    "import pandas as pd\n",
    "from scipy import stats\n",
    "#Add personal functions to python path\n",
    "sys.path.append('/neurospin/meg/meg_tmp/Calculation_Pedro_2014/scripts/decoding/')\n",
    "#sys.path.append('/Volumes/NeuroSpin2T/Calculation_Pedro_2014/scripts/decoding/')\n",
    "from fldtrp2mne import fldtrp2mne\n",
    "from calc_ClassifyTwoCond import calc_ClassifyTwoCond\n",
    "from sklearn import svm\n",
    "from sklearn.cross_validation import cross_val_score, StratifiedShuffleSplit\n",
    "from sklearn.preprocessing import StandardScaler\n",
    "from sklearn.pipeline import Pipeline\n",
    "from sklearn.feature_selection import SelectKBest, f_classif\n",
    "from sklearn.pipeline import make_pipeline\n",
    "from sklearn.cross_validation import StratifiedKFold"
   ]
  },
  {
   "cell_type": "code",
   "execution_count": 2,
   "metadata": {
    "collapsed": false
   },
   "outputs": [],
   "source": [
    "#Directories\n",
    "data_path = '/neurospin/meg/meg_tmp/Calculation_Pedro_2014/data/mat/'\n",
    "result_path = '/neurospin/meg/meg_tmp/Calculation_Pedro_2014/data/decoding/'\n",
    "#data_path = '/Volumes/NeuroSpin2T/Calculation_Pedro_2014/data/mat/'\n",
    "#result_path = '/Volumes/NeuroSpin2T/Calculation_Pedro_2014/data/decoding/'\n",
    "\n",
    "#Subjects\n",
    "#subjects = ['s01', 's02', 's03', 's04', 's05', 's06', 's07', 's08', 's09', 's10', \n",
    "            #'s11', 's12', 's13', 's14', 's15', 's16', 's17', 's18','s19', 's21', 's22']\n",
    "\n",
    "subjects = ['s01']\n",
    "\n",
    "\n",
    "#General parameters\n",
    "baseline = (-0.5, -0.05)\n",
    "\n",
    "downsmpDec = 100\n",
    "\n",
    "#Decoding\n",
    "trainset = 'op1'\n",
    "testset = 'prestResultCorrect'\n",
    "decCond = ['3', '4', '5', '6']\n",
    "\n",
    "params = {'baseline': baseline, 'downsmpDec': downsmpDec, \n",
    "'Classification': decCond, 'trainset': trainset, 'testset': testset}\n",
    "\n",
    "#Results initialization\n",
    "all_scores = []\n",
    "all_diagonals = []"
   ]
  },
  {
   "cell_type": "code",
   "execution_count": null,
   "metadata": {
    "collapsed": false
   },
   "outputs": [
    {
     "name": "stdout",
     "output_type": "stream",
     "text": [
      "Baseline-correcting data for subject: s01\n",
      "Applying baseline correction ... (mode: mean)\n",
      "Loading trialinfo for subject: s01\n",
      "Decoding subject: s01\n"
     ]
    },
    {
     "name": "stderr",
     "output_type": "stream",
     "text": [
      "/volatile/anaconda/lib/python2.7/site-packages/mne/epochs.py:394: UserWarning: The measurement information indicates a low-pass frequency of 125 Hz. The decim=4 parameter will result in a sampling frequency of 62.5 Hz, which can cause aliasing artifacts.\n",
      "  % (lowpass, decim, new_sfreq))  # > 50% nyquist limit\n"
     ]
    }
   ],
   "source": [
    "for sub in subjects:\n",
    "    fname = op.join(data_path, sub + '_calc.mat') \n",
    "    epoch = fldtrp2mne(fname, 'data')\n",
    "\n",
    "    #Baseline-correct & filter data\n",
    "    print('Baseline-correcting data for subject: ' + sub)\n",
    "    epoch.apply_baseline(baseline)\n",
    "    \n",
    "    #Load condition/behavior info\n",
    "    matfile = sio.loadmat(fname)\n",
    "    print('Loading trialinfo for subject: ' + sub)   \n",
    "    trialinfo = matfile['data']['trialinfo']   \n",
    "    \n",
    "    run = trialinfo[0][0][0][0][0].T\n",
    "    operand1 = trialinfo[0][0][0][0][1].T\n",
    "    operator = trialinfo[0][0][0][0][2].T\n",
    "    operand2 = trialinfo[0][0][0][0][3].T\n",
    "    preResult = trialinfo[0][0][0][0][4].T\n",
    "    delay = trialinfo[0][0][0][0][5].T\n",
    "    corrResult = trialinfo[0][0][0][0][6].T\n",
    "    deviant = trialinfo[0][0][0][0][7].T\n",
    "    absdeviant = trialinfo[0][0][0][0][8].T\n",
    "    rt = trialinfo[0][0][0][0][9].T\n",
    "    respSide = trialinfo[0][0][0][0][10].T\n",
    "\n",
    "    \n",
    "    # Merge back and define conditions\n",
    "    info = pd.DataFrame(data = np.concatenate((run, operand1, operator, operand2, preResult, delay, corrResult, deviant, absdeviant, rt, respSide), axis = 1), \n",
    "                        columns = ['run', 'operand1', 'operator', 'operand2', 'preResult', 'delay', 'corrResult', 'deviant', 'absdeviant', 'rt', 'respSide'])\n",
    "\n",
    "    #info['absdeviant'][info['absdeviant'] != 0] = 1\n",
    "    op13456 = (info['operand1'] >= 3) & (info['operand1'] <= 6)  \n",
    "    res3456 = (info['corrResult'] >= 3) & (info['corrResult'] <= 6) & (info['operator'] != 0) \n",
    "    \n",
    "    # Make train and test same size\n",
    "    #op13456 = op13456[0:len(res3456)]\n",
    "    \n",
    "    \n",
    "    # Decoding\n",
    "    epochs_op1 = epoch[op13456] #\n",
    "    info_op1 = info[op13456]    #\n",
    "    y_op1 = np.array(info_op1['operand1']) #\n",
    "    y_op1 = y_op1.astype(numpy.float64)\n",
    "    # Downsampling for decoding\n",
    "    epochs_op1.decimate(downsmpDec)\n",
    "    \n",
    "    # Decoding\n",
    "    epochs_res = epoch[res3456] #\n",
    "    info_res = info[res3456]    #\n",
    "    y_res = np.array(info_res['corrResult']) #\n",
    "    y_res = y_res.astype(numpy.float64)\n",
    "    # Downsampling for decoding\n",
    "    epochs_res.decimate(downsmpDec)\n",
    "\n",
    "    print('Decoding subject: ' + sub)\n",
    "    gat, score, diagonal = calc_ClassifyTwoCond(epochs_op1, y_op1, epochs_res, y_res, params)\n",
    "    gat.plot()\n",
    "    gat.plot_diagonal()  # plot decoding across time (correspond to GAT diagonal)\n",
    "\n",
    "    #Store scores of different subjects in the same list\n",
    "    all_scores.append(score)\n",
    "    all_diagonals.append(diagonal)\n",
    "    \n",
    "#Transform into a numpy array   \n",
    "all_scores = np.array(all_scores)\n",
    "all_diagonals = np.array(all_diagonals)\n",
    "\n",
    "# Save individual results\n",
    "fname = op.join(result_path, 'Classification_ ' + decCond[0] + '_vs_' + \n",
    "                decCond[1] + '_vs_' + decCond[2] + '_vs_' + decCond[3] + '_Trainset_' + trainset + '_Testset_' + testset) \n",
    "np.save(fname, all_scores)\n",
    "\n",
    "# Compute group averages\n",
    "group_scores = np.mean(all_scores, 0)\n",
    "sem_group_scores = stats.sem(all_scores, 0)\n",
    "\n",
    "group_diagonal = np.mean(all_diagonals, 0)\n",
    "sem_group_diagonal = stats.sem(all_diagonals, 0)\n",
    "    "
   ]
  },
  {
   "cell_type": "code",
   "execution_count": null,
   "metadata": {
    "collapsed": false
   },
   "outputs": [],
   "source": [
    "epochs_op1"
   ]
  },
  {
   "cell_type": "code",
   "execution_count": null,
   "metadata": {
    "collapsed": false
   },
   "outputs": [],
   "source": [
    "epochs_res"
   ]
  },
  {
   "cell_type": "code",
   "execution_count": null,
   "metadata": {
    "collapsed": false
   },
   "outputs": [],
   "source": []
  },
  {
   "cell_type": "code",
   "execution_count": null,
   "metadata": {
    "collapsed": false
   },
   "outputs": [],
   "source": [
    "# Plotting  \n",
    "\n",
    "# Plot GAT\n",
    "plt.imshow(group_scores, origin = 'lower', extent = [epochs.times[0], epochs.times[len(epochs.times)-1], \n",
    "                                                     epochs.times[0], epochs.times[len(epochs.times)-1]]) #flip the matrix around\n",
    "plt.axvline(0, color = 'k') #mark stimulus onset\n",
    "plt.axhline(0, color = 'k') #mark stimulus onset\n",
    "plt.colorbar()\n",
    "plt.xlabel('Testing Time (s)')\n",
    "plt.ylabel('Training Time (s)')\n",
    "plt.title('Group average generalization across time \\n Classification: ' + decCond[0] + ' vs ' \n",
    "+ decCond[1] + '\\n Trainset: ' + trainset + ', Testset: ' + testset)\n",
    "\n"
   ]
  },
  {
   "cell_type": "code",
   "execution_count": null,
   "metadata": {
    "collapsed": false
   },
   "outputs": [],
   "source": [
    "# Plot Diagonal\n",
    "plt.plot(epochs.times, group_diagonal, label = \"Classification score\")\n",
    "plt.axvline(0, color = 'k') #mark stimulus onset\n",
    "plt.axvline(.8, color = 'k') #mark stimulus onset\n",
    "plt.axvline(1.6, color = 'k') #mark stimulus onset\n",
    "plt.axvline(2.4, color = 'k') #mark stimulus onset\n",
    "plt.axvline(3.2, color = 'k') #mark stimulus onset\n",
    "plt.axvline(3.6, color = 'k') #mark stimulus onset\n",
    "\n",
    "plt.axhline(0.25, color = 'k', ls = '--', label = \"Chance\") #mark chance level\n",
    "plt.legend(loc = 'upper right')\n",
    "plt.xlabel('Time (s)')\n",
    "plt.ylabel('Classification Score (%)')\n",
    "plt.title('Cl assification: ' + decCond[0] + ' vs ' \n",
    "+ decCond[1] + '\\n Trainset: ' + trainset + ', Testset: ' + testset)\n"
   ]
  },
  {
   "cell_type": "code",
   "execution_count": null,
   "metadata": {
    "collapsed": false
   },
   "outputs": [],
   "source": [
    "plt.imshow(group_scores[10:100, 10:100])\n",
    "plt.colorbar()\n"
   ]
  },
  {
   "cell_type": "code",
   "execution_count": null,
   "metadata": {
    "collapsed": true
   },
   "outputs": [],
   "source": [
    "a = 'a'"
   ]
  },
  {
   "cell_type": "code",
   "execution_count": null,
   "metadata": {
    "collapsed": false
   },
   "outputs": [],
   "source": [
    "a == 'a'"
   ]
  },
  {
   "cell_type": "code",
   "execution_count": null,
   "metadata": {
    "collapsed": true
   },
   "outputs": [],
   "source": []
  }
 ],
 "metadata": {
  "kernelspec": {
   "display_name": "Python 2",
   "language": "python",
   "name": "python2"
  },
  "language_info": {
   "codemirror_mode": {
    "name": "ipython",
    "version": 2
   },
   "file_extension": ".py",
   "mimetype": "text/x-python",
   "name": "python",
   "nbconvert_exporter": "python",
   "pygments_lexer": "ipython2",
   "version": "2.7.11"
  }
 },
 "nbformat": 4,
 "nbformat_minor": 0
}
