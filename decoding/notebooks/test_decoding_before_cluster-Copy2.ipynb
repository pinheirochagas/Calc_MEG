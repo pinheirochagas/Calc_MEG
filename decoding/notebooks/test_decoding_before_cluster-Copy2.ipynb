{
 "cells": [
  {
   "cell_type": "code",
   "execution_count": null,
   "metadata": {
    "collapsed": false
   },
   "outputs": [],
   "source": [
    "import sys \n",
    "sys.path.append('/neurospin/meg/meg_tmp/Calculation_Pedro_2014/scripts/decoding')\n",
    "from calc_dec_wTask_CR import calc_dec_wTask_CR\n",
    "calc_dec_wTask_CR('/neurospin/meg/meg_tmp/Calculation_Pedro_2014',['opbigdec', 'opbigdec'],'s02','reg')"
   ]
  },
  {
   "cell_type": "code",
   "execution_count": null,
   "metadata": {
    "collapsed": false
   },
   "outputs": [],
   "source": [
    "%debug"
   ]
  },
  {
   "cell_type": "code",
   "execution_count": 1,
   "metadata": {
    "collapsed": false
   },
   "outputs": [],
   "source": [
    "import sys \n",
    "sys.path.append('/neurospin/meg/meg_tmp/Calculation_Pedro_2014/scripts/decoding')\n",
    "from calc_decoding_cfg import (data_path, baseline, downsampling, trainTimes, testTimes)\n",
    "from fldtrp2mne_calc import fldtrp2mne_calc\n",
    "import numpy as np\n",
    "\n",
    "import mne\n",
    "import pandas as pd"
   ]
  },
  {
   "cell_type": "code",
   "execution_count": 2,
   "metadata": {
    "collapsed": false
   },
   "outputs": [],
   "source": [
    "Subject = 's02'\n",
    "Condition = ['vsa', 'addsub']\n",
    "Type = 'class'\n",
    "#Decoding\n",
    "trainset = Condition[0] # and then this will be already known when calling the function\n",
    "testset = Condition[1]\n",
    "\n",
    "params = {'baseline': baseline, 'downsampling': downsampling,\n",
    "'classification': Condition, 'trainset': trainset, \n",
    "'testset': testset, 'trainTimes': trainTimes, 'testTimes': testTimes}\n",
    "\n",
    "fname_calc = data_path + '/' + Subject + '_calc.mat'\n",
    "fname_vsa = data_path + '/' + Subject + '_vsa.mat'\n",
    "epoch_calc,info_calc = fldtrp2mne_calc(fname_calc, 'data', 'calc')\n",
    "#epoch_vsa,info_vsa = fldtrp2mne_calc(fname_vsa, 'data', 'vsa')\n"
   ]
  },
  {
   "cell_type": "code",
   "execution_count": 6,
   "metadata": {
    "collapsed": false
   },
   "outputs": [
    {
     "data": {
      "text/plain": [
       "array([-0.5  , -0.496, -0.492, ...,  4.492,  4.496,  4.5  ])"
      ]
     },
     "execution_count": 6,
     "metadata": {},
     "output_type": "execute_result"
    }
   ],
   "source": [
    "epoch_calc.times"
   ]
  },
  {
   "cell_type": "code",
   "execution_count": null,
   "metadata": {
    "collapsed": true
   },
   "outputs": [],
   "source": [
    "\n",
    "#Select data to use.\n",
    "# Time lock to the presentation of the result\n",
    "# This code sniped should be modularized and flexibilized\n",
    "idx_delay = info_calc['delay'] == 1\n",
    "idx_nodelay = info_calc['delay'] == 0\n",
    "\n",
    "info_calc_delay = info_calc[info_calc['delay'] == 1]\n",
    "info_calc_nodelay = info_calc[info_calc['delay'] == 0]\n",
    "\n",
    "time_calc_crop = np.arange(-0.1,0.8004,0.004) \n",
    "\n",
    "epoch_calc_delay = epoch_calc[idx_delay]\n",
    "epoch_calc_delay.crop(3.5,4.4)\n",
    "epoch_calc_delay.times = time_calc_crop\n",
    "\n",
    "epoch_calc_nodelay = epoch_calc[idx_nodelay]\n",
    "epoch_calc_nodelay.crop(3.1,4)\n",
    "epoch_calc_nodelay.times = time_calc_crop\n",
    "\n",
    "epoch_calc_resplock = mne.epochs.concatenate_epochs([epoch_calc_delay,epoch_calc_nodelay])\t\n",
    "info_calc_resplock = pd.concat([info_calc_delay, info_calc_nodelay])\n",
    "\n",
    "#Baseline correction\n",
    "epoch_calc.apply_baseline(baseline)\n",
    "\n",
    "epoch_vsa,info_vsa = fldtrp2mne_calc(fname_vsa, 'data', 'vsa')\n",
    "epoch_vsa.apply_baseline(baseline)"
   ]
  },
  {
   "cell_type": "code",
   "execution_count": null,
   "metadata": {
    "collapsed": false
   },
   "outputs": [],
   "source": [
    "# Correct labels for the cue to match add and sub\n",
    "train_index = info_vsa['congruency'] == 1\n",
    "test_index = info_calc['operator'] != 0\n",
    "\n",
    "info_vsa[info_vsa['cue'] == 1] = -1\n",
    "info_vsa[info_vsa['cue'] == 2] = 1\n",
    "\n",
    "X_train = epoch_vsa[train_index]\n",
    "y_train = np.array(info_vsa[train_index]['cue'])\n",
    "y_train = y_train.astype(np.float64)\n",
    "X_test = epoch_calc[test_index]\n",
    "y_test = np.array(info_calc[test_index]['operator'])\n",
    "y_test = y_test.astype(np.float64)\n",
    "# Update params\n",
    "trainTimes = {'start': -0.1, 'stop': 1.5}\n",
    "testTimes = {'start': 0.7, 'stop': 3.2}\n",
    "params.update({'trainTimes': trainTimes})\n",
    "params.update({'testTimes': testTimes})\n"
   ]
  },
  {
   "cell_type": "code",
   "execution_count": null,
   "metadata": {
    "collapsed": false
   },
   "outputs": [],
   "source": [
    "X_test"
   ]
  },
  {
   "cell_type": "code",
   "execution_count": null,
   "metadata": {
    "collapsed": false
   },
   "outputs": [],
   "source": [
    "np.array(info_calc[test_index]['operator'])\n"
   ]
  },
  {
   "cell_type": "code",
   "execution_count": null,
   "metadata": {
    "collapsed": false
   },
   "outputs": [],
   "source": [
    "info_vsa"
   ]
  },
  {
   "cell_type": "code",
   "execution_count": null,
   "metadata": {
    "collapsed": false
   },
   "outputs": [],
   "source": [
    "\n"
   ]
  },
  {
   "cell_type": "code",
   "execution_count": null,
   "metadata": {
    "collapsed": false
   },
   "outputs": [],
   "source": [
    "X_train = epoch_calc\n",
    "y_train = np.array(info_calc['operand1'])\n",
    "y_train = y_train.astype(np.float64)\n",
    "\n",
    "test_index = (info_calc_resplock['preResult'] >= 3) & (info_calc_resplock['preResult'] <= 6)\n",
    "X_test = epoch_calc_resplock[test_index]\n",
    "y_test = np.array(info_calc_resplock[test_index]['preResult'])\n",
    "y_test = y_test.astype(np.float64)\n",
    "\n",
    "trainTimes = {'start': -0.1, 'stop': 0.8}\n",
    "testTimes = {'start': -0.1, 'stop': 0.8}\n",
    "params.update({'trainTimes': trainTimes})\n",
    "params.update({'testTimes': testTimes})"
   ]
  },
  {
   "cell_type": "code",
   "execution_count": null,
   "metadata": {
    "collapsed": false
   },
   "outputs": [],
   "source": [
    "mode = 'mean-prediction'\n",
    "params.update({'mode': mode})\n"
   ]
  },
  {
   "cell_type": "code",
   "execution_count": null,
   "metadata": {
    "collapsed": false
   },
   "outputs": [],
   "source": [
    "gat, score, diagonal = calc_classification(X_train, y_train, X_test, y_test, params)\n"
   ]
  },
  {
   "cell_type": "code",
   "execution_count": null,
   "metadata": {
    "collapsed": false
   },
   "outputs": [],
   "source": [
    "y_train.shape"
   ]
  },
  {
   "cell_type": "code",
   "execution_count": null,
   "metadata": {
    "collapsed": false
   },
   "outputs": [],
   "source": [
    "X_test"
   ]
  },
  {
   "cell_type": "code",
   "execution_count": null,
   "metadata": {
    "collapsed": false
   },
   "outputs": [],
   "source": [
    "y_test.shape"
   ]
  },
  {
   "cell_type": "code",
   "execution_count": null,
   "metadata": {
    "collapsed": true
   },
   "outputs": [],
   "source": [
    "import mne"
   ]
  },
  {
   "cell_type": "code",
   "execution_count": null,
   "metadata": {
    "collapsed": false
   },
   "outputs": [],
   "source": [
    "mne.__version__"
   ]
  },
  {
   "cell_type": "code",
   "execution_count": null,
   "metadata": {
    "collapsed": true
   },
   "outputs": [],
   "source": [
    "import sys \n",
    "sys.path.append('/Users/pinheirochagas/Pedro/NeuroSpin/Experiments/Calc_MEG/scripts_git/Calc_MEG/decoding')\n",
    "from calc_decoding_cfg import (data_path, baseline, downsampling, trainTimes, testTimes)\n",
    "from fldtrp2mne_calc import fldtrp2mne_calc\n",
    "import numpy as np\n",
    "import mne\n",
    "import pandas as pd"
   ]
  },
  {
   "cell_type": "code",
   "execution_count": null,
   "metadata": {
    "collapsed": true
   },
   "outputs": [],
   "source": [
    "fname_ecog = '/Volumes/NeuroSpin2T/Calc_ECoG/analysis_ECoG/neuralData/SpecData/S13_57_TVD/data_fieldtrip/S13_57_TVD_context.mat'\n",
    "# Load data \n",
    "epoch_calc,info_calc = ecog2mne_calculia(fname_ecog, 'data', 'context')"
   ]
  },
  {
   "cell_type": "code",
   "execution_count": null,
   "metadata": {
    "collapsed": false
   },
   "outputs": [],
   "source": [
    "data_path = '/Volumes/NeuroSpin2T/Calculation_Pedro_2014/data/mat/'"
   ]
  },
  {
   "cell_type": "code",
   "execution_count": null,
   "metadata": {
    "collapsed": false
   },
   "outputs": [],
   "source": [
    "Subject = 's02'\n",
    "Condition = ['vsa', 'addsub']\n",
    "Type = 'class'\n",
    "#Decoding\n",
    "trainset = Condition[0] # and then this will be already known when calling the function\n",
    "testset = Condition[1]\n",
    "\n",
    "params = {'baseline': baseline, 'downsampling': downsampling,\n",
    "'classification': Condition, 'trainset': trainset, \n",
    "'testset': testset, 'trainTimes': trainTimes, 'testTimes': testTimes}\n",
    "\n",
    "fname_calc = data_path + '/' + Subject + '_calc.mat'\n",
    "fname_vsa = data_path + '/' + Subject + '_vsa.mat'\n",
    "epoch_calc,info_calc = fldtrp2mne_calc(fname_calc, 'data', 'calc')\n",
    "#epoch_vsa,info_vsa = fldtrp2mne_calc(fname_vsa, 'data', 'vsa')\n",
    "\n",
    "#Select data to use.\n",
    "# Time lock to the presentation of the result\n",
    "# This code sniped should be modularized and flexibilized\n",
    "idx_delay = info_calc['delay'] == 1\n",
    "idx_nodelay = info_calc['delay'] == 0\n",
    "\n",
    "info_calc_delay = info_calc[info_calc['delay'] == 1]\n",
    "info_calc_nodelay = info_calc[info_calc['delay'] == 0]\n",
    "\n",
    "time_calc_crop = np.arange(-0.1,0.8004,0.004) \n",
    "\n",
    "epoch_calc_delay = epoch_calc[idx_delay]\n",
    "epoch_calc_delay.crop(3.5,4.4)\n",
    "epoch_calc_delay.times = time_calc_crop\n",
    "\n",
    "epoch_calc_nodelay = epoch_calc[idx_nodelay]\n",
    "epoch_calc_nodelay.crop(3.1,4)\n",
    "epoch_calc_nodelay.times = time_calc_crop\n",
    "\n",
    "epoch_calc_resplock = mne.epochs.concatenate_epochs([epoch_calc_delay,epoch_calc_nodelay])\t\n",
    "info_calc_resplock = pd.concat([info_calc_delay, info_calc_nodelay])\n",
    "\n",
    "#Baseline correction\n",
    "epoch_calc.apply_baseline(baseline)\n",
    "\n",
    "epoch_vsa,info_vsa = fldtrp2mne_calc(fname_vsa, 'data', 'vsa')\n",
    "epoch_vsa.apply_baseline(baseline)"
   ]
  },
  {
   "cell_type": "code",
   "execution_count": null,
   "metadata": {
    "collapsed": false
   },
   "outputs": [],
   "source": [
    "datatest = pd.DataFrame(pd.concat([info_calc['operand1'], info_calc['operand2'], info_calc_delay['preResult'],info_calc_nodelay['preResult']]\n",
    "                      ), columns=['stim'])\n",
    "\n",
    "datatest = pd.DataFrame(pd.concat([info_calc['operand1'], info_calc['operand2']]), columns=['stim'])\n",
    "\n"
   ]
  },
  {
   "cell_type": "code",
   "execution_count": null,
   "metadata": {
    "collapsed": false
   },
   "outputs": [],
   "source": [
    "pd.value_counts(datatest['stim'].values, sort=False)"
   ]
  },
  {
   "cell_type": "code",
   "execution_count": null,
   "metadata": {
    "collapsed": true
   },
   "outputs": [],
   "source": []
  }
 ],
 "metadata": {
  "kernelspec": {
   "display_name": "Python 2",
   "language": "python",
   "name": "python2"
  },
  "language_info": {
   "codemirror_mode": {
    "name": "ipython",
    "version": 2
   },
   "file_extension": ".py",
   "mimetype": "text/x-python",
   "name": "python",
   "nbconvert_exporter": "python",
   "pygments_lexer": "ipython2",
   "version": "2.7.11"
  }
 },
 "nbformat": 4,
 "nbformat_minor": 0
}
