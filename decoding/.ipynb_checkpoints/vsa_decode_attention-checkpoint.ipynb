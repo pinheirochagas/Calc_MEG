{
 "cells": [
  {
   "cell_type": "code",
   "execution_count": 2,
   "metadata": {
    "collapsed": false
   },
   "outputs": [
    {
     "name": "stdout",
     "output_type": "stream",
     "text": [
      "Populating the interactive namespace from numpy and matplotlib\n"
     ]
    }
   ],
   "source": [
    "%pylab inline \n",
    "\n",
    "import mne\n",
    "from mne.datasets import spm_face\n",
    "from mne.decoding import GeneralizationAcrossTime\n",
    "import sys\n",
    "import os.path as op\n",
    "import numpy as np\n",
    "import matplotlib.pyplot as plt\n",
    "import scipy.io as sio\n",
    "import pandas as pd\n",
    "from scipy import stats\n",
    "#Add personal functions to python path\n",
    "sys.path.append('/neurospin/meg/meg_tmp/Calculation_Pedro_2014/scripts/decoding/')\n",
    "#sys.path.append('/Volumes/NeuroSpin2T/Calculation_Pedro_2014/scripts/decoding/')\n",
    "from fldtrp2mne import fldtrp2mne\n",
    "from fldtrp2mne_calc import fldtrp2mne_calc\n",
    "from calc_ClassifyTwoCond import calc_ClassifyTwoCond\n",
    "from calc_twoClassClassify import calc_twoClassClassify\n",
    "from sklearn import svm\n",
    "from sklearn.cross_validation import cross_val_score, StratifiedShuffleSplit\n",
    "from sklearn.preprocessing import StandardScaler\n",
    "from sklearn.pipeline import Pipeline\n",
    "from sklearn.feature_selection import SelectKBest, f_classif\n",
    "from sklearn.pipeline import make_pipeline\n",
    "from sklearn.cross_validation import StratifiedKFold"
   ]
  },
  {
   "cell_type": "code",
   "execution_count": null,
   "metadata": {
    "collapsed": true
   },
   "outputs": [],
   "source": [
    "#Directories\n",
    "data_path = '/neurospin/meg/meg_tmp/Calculation_Pedro_2014/data/mat/'\n",
    "result_path = '/neurospin/meg/meg_tmp/Calculation_Pedro_2014/data/decoding/'\n",
    "#data_path = '/Volumes/NeuroSpin2T/Calculation_Pedro_2014/data/mat/'\n",
    "#result_path = '/Volumes/NeuroSpin2T/Calculation_Pedro_2014/data/decoding/'\n",
    "\n",
    "#Subjects\n",
    "#subjects = ['s02', 's03', 's04', 's05', 's06', 's07', 's08', 's09', 's10', \n",
    "            #'s11', 's12', 's13', 's14', 's15', 's16', 's17', 's18','s19', 's21', 's22']\n",
    "\n",
    "subjects = ['s03']\n",
    "\n",
    "\n",
    "#General parameters\n",
    "baseline = (-0.5, -0.05)\n",
    "\n",
    "downsmpDec = 4\n",
    "\n",
    "#Decoding\n",
    "trainset = 'attention'\n",
    "testset = 'attention'\n",
    "decCond = ['left', 'rigth']\n",
    "\n",
    "params = {'baseline': baseline, 'downsmpDec': downsmpDec, \n",
    "'Classification': decCond, 'trainset': trainset, 'testset': testset}\n",
    "\n",
    "#Results initialization\n",
    "all_scores = []\n",
    "all_diagonals = []"
   ]
  },
  {
   "cell_type": "code",
   "execution_count": null,
   "metadata": {
    "collapsed": true
   },
   "outputs": [],
   "source": [
    "fname = op.join(data_path, sub + '_vsa.mat') \n",
    "epoch_vsa, info_vsa = fldtrp2mne(fname, 'data', 'vsa')\n",
    "\n"
   ]
  },
  {
   "cell_type": "code",
   "execution_count": null,
   "metadata": {
    "collapsed": false
   },
   "outputs": [],
   "source": [
    "len(epoch.times)"
   ]
  },
  {
   "cell_type": "code",
   "execution_count": null,
   "metadata": {
    "collapsed": false
   },
   "outputs": [],
   "source": [
    "np.save(result_path + 'vsa_epochs_times.npy', epoch.times)\n"
   ]
  },
  {
   "cell_type": "code",
   "execution_count": null,
   "metadata": {
    "collapsed": false
   },
   "outputs": [],
   "source": [
    "for sub in subjects:\n",
    "    fname = op.join(data_path, sub + '_vsa.mat') \n",
    "    epoch = fldtrp2mne(fname, 'data')\n",
    "\n",
    "    #Baseline-correct & filter data\n",
    "    print('Baseline-correcting data for subject: ' + sub)\n",
    "    epoch.apply_baseline(baseline)\n",
    "    \n",
    "    #Load condition/behavior info\n",
    "    matfile = sio.loadmat(fname)\n",
    "    print('Loading trialinfo for subject: ' + sub)   \n",
    "    trialinfo = matfile['data']['trialinfo']   \n",
    "    \n",
    "    run = trialinfo[0][0][0][0][0].T\n",
    "    cue = trialinfo[0][0][0][0][1].T\n",
    "    targetAll = trialinfo[0][0][0][0][2].T\n",
    "    target = trialinfo[0][0][0][0][3].T\n",
    "    targetSide = trialinfo[0][0][0][0][4].T\n",
    "    congruency = trialinfo[0][0][0][0][5].T\n",
    "    rt = trialinfo[0][0][0][0][6].T\n",
    "    respSide = trialinfo[0][0][0][0][7].T\n",
    "    \n",
    "     # Merge back and define conditions\n",
    "    info = pd.DataFrame(data = np.concatenate((run, cue, targetAll, target, targetSide, congruency, rt, respSide), axis = 1), \n",
    "                        columns = ['run', 'cue', 'targetAll', 'target', 'targetSide', 'congruency', 'rt', 'respSide'])\n",
    "    \n",
    "    \n",
    "    attention_left = (info['congruency'] == 1) & (info['cue'] == 1)\n",
    "    subtraction_right = (info['congruency'] == 1) & (info['cue'] == 2)\n",
    "    attention_congruent = info['congruency'] == 1\n",
    "\n",
    "    condA = attention_left\n",
    "    condB = subtraction_right\n",
    "    \n",
    "    #Sanity check #1: Plot evoked response\n",
    "    evoked_condA = epoch[condA].average() # addition\n",
    "    evoked_condB = epoch[condB].average() # subtraction\n",
    "    evoked = evoked_condA - evoked_condB\n",
    "    \n",
    "    evoked_condA.plot(titles = decCond[0] + ' for subject: ' + sub, show = False)\n",
    "    evoked_condB.plot(titles = decCond[1] + ' for subject: ' + sub, show = False)\n",
    "    evoked.plot(titles = decCond[0] + ' - ' + decCond[1] + ' for subject: ' + sub, show = False)\n",
    "    plt.show()\n",
    "\n",
    "    \n",
    "    #Sanity check #2: Plot GFP\n",
    "    gfp_condA = np.median(np.std(epoch[condA]._data, axis = 1), axis = 0) #\n",
    "    gfp_condB = np.median(np.std(epoch[condB]._data, axis = 1), axis = 0)\n",
    "    \n",
    "    plt.plot(epoch.times, gfp_condA, color = 'g', label = decCond[0])\n",
    "    plt.plot(epoch.times, gfp_condB, color = 'r', label = decCond[1])\n",
    "    plt.axvline(0, color = 'k') #mark stimulus onset\n",
    "    plt.legend(loc = 'lower right')\n",
    "    plt.xlabel('Time (s)')\n",
    "    plt.ylabel('GFP')\n",
    "    plt.title('GFP for subject: ' + sub)\n",
    "    plt.show()\n",
    "    \n",
    "    # Decoding\n",
    "    epochs = epoch[attention_congruent] #select only congruent trials\n",
    "    info = info[attention_congruent]\n",
    "    y = np.array(info['cue']) #select labels\n",
    "    y = y.astype(numpy.float64)\n",
    "    # Downsampling for decoding\n",
    "    epochs.decimate(downsmpDec)\n",
    "    \n",
    "    print('Decoding subject: ' + sub)\n",
    "    gat, score, diagonal = calc_twoClassClassify(epochs, y, [], [], params)\n",
    "    gat.plot()\n",
    "    gat.plot_diagonal()  # plot decoding across time (correspond to GAT diagonal)\n",
    "\n",
    "    #Store scores of different subjects in the same list\n",
    "    all_scores.append(score)\n",
    "    all_diagonals.append(diagonal)\n",
    "    \n",
    "#Transform into a numpy array   \n",
    "all_scores = np.array(all_scores)\n",
    "all_diagonals = np.array(all_diagonals)\n",
    "\n",
    "# Save individual results\n",
    "fname = op.join(result_path, 'Classification_ ' + decCond[0] + '_vs_' + decCond[1] + '_Trainset_' + trainset + '_Testset_' + testset) \n",
    "np.save(fname, all_scores)\n",
    "\n",
    "# Compute group averages\n",
    "group_scores = np.mean(all_scores, 0)\n",
    "sem_group_scores = stats.sem(all_scores, 0)\n",
    "\n",
    "group_diagonal = np.mean(all_diagonals, 0)\n",
    "sem_group_diagonal = stats.sem(all_diagonals, 0)"
   ]
  },
  {
   "cell_type": "code",
   "execution_count": null,
   "metadata": {
    "collapsed": false
   },
   "outputs": [],
   "source": []
  },
  {
   "cell_type": "code",
   "execution_count": null,
   "metadata": {
    "collapsed": false
   },
   "outputs": [],
   "source": [
    "# Plotting  \n",
    "\n",
    "# Plot GAT\n",
    "plt.imshow(group_scores, origin = 'lower', extent = [epochs.times[0], epochs.times[len(epochs.times)-1], \n",
    "                                                     epochs.times[0], epochs.times[len(epochs.times)-1]]) #flip the matrix around\n",
    "plt.axvline(0, color = 'k') #mark stimulus onset\n",
    "plt.axhline(0, color = 'k') #mark stimulus onset\n",
    "plt.colorbar()\n",
    "plt.xlabel('Testing Time (s)')\n",
    "plt.ylabel('Training Time (s)')\n",
    "plt.title('Group average generalization across time \\n Classification: ' + decCond[0] + ' vs ' \n",
    "+ decCond[1] + '\\n Trainset: ' + trainset + ', Testset: ' + testset)\n",
    "\n"
   ]
  },
  {
   "cell_type": "code",
   "execution_count": null,
   "metadata": {
    "collapsed": false
   },
   "outputs": [],
   "source": [
    "# Plot Diagonal\n",
    "plt.plot(epochs.times, group_diagonal, label = \"Classification score\")\n",
    "plt.axvline(0, color = 'k') #mark stimulus onset\n",
    "plt.axvline(.650, color = 'k') #mark stimulus onset\n",
    "\n",
    "plt.axhline(0.5, color = 'k', ls = '--', label = \"Chance\") #mark chance level\n",
    "plt.legend(loc = 'upper right')\n",
    "plt.xlabel('Time (s)')\n",
    "plt.ylabel('Classification Score (%)')\n",
    "plt.title('Cl assification: ' + decCond[0] + ' vs ' \n",
    "+ decCond[1] + '\\n Trainset: ' + trainset + ', Testset: ' + testset)\n"
   ]
  },
  {
   "cell_type": "code",
   "execution_count": null,
   "metadata": {
    "collapsed": false
   },
   "outputs": [],
   "source": [
    "epoch[attention_LeftRight]"
   ]
  },
  {
   "cell_type": "code",
   "execution_count": null,
   "metadata": {
    "collapsed": false
   },
   "outputs": [],
   "source": [
    "epochs"
   ]
  },
  {
   "cell_type": "code",
   "execution_count": null,
   "metadata": {
    "collapsed": true
   },
   "outputs": [],
   "source": []
  }
 ],
 "metadata": {
  "kernelspec": {
   "display_name": "Python 2",
   "language": "python",
   "name": "python2"
  },
  "language_info": {
   "codemirror_mode": {
    "name": "ipython",
    "version": 2
   },
   "file_extension": ".py",
   "mimetype": "text/x-python",
   "name": "python",
   "nbconvert_exporter": "python",
   "pygments_lexer": "ipython2",
   "version": "2.7.11"
  }
 },
 "nbformat": 4,
 "nbformat_minor": 0
}
